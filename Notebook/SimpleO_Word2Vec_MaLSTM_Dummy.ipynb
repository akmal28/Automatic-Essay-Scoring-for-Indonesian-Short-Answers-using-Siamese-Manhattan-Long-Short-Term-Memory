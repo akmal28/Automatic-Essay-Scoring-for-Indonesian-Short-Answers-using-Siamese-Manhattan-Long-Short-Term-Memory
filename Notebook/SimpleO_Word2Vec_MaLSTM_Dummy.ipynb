{
  "nbformat": 4,
  "nbformat_minor": 0,
  "metadata": {
    "colab": {
      "name": "SimpleO_Word2Vec_MaLSTM_2.ipynb",
      "provenance": [],
      "collapsed_sections": []
    },
    "kernelspec": {
      "name": "python3",
      "display_name": "Python 3"
    }
  },
  "cells": [
    {
      "cell_type": "code",
      "metadata": {
        "id": "zXn4ARramWmk",
        "colab_type": "code",
        "colab": {
          "base_uri": "https://localhost:8080/",
          "height": 386
        },
        "outputId": "68e2e65c-cf16-4d57-e988-a75cbfa7f8cb"
      },
      "source": [
        "import numpy as np\n",
        "import pandas as pd\n",
        "!pip install docx2txt\n",
        "import docx2txt\n",
        "import re\n",
        "import os\n",
        "import gensim\n",
        "!pip install stop_words\n",
        "from stop_words import get_stop_words\n",
        "from keras.models import Model\n",
        "from keras.layers import Input, Embedding, LSTM, Lambda, Bidirectional\n",
        "from keras.preprocessing.sequence import pad_sequences\n",
        "from keras.preprocessing.text import Tokenizer\n",
        "from keras.optimizers import Adadelta\n",
        "from keras.callbacks import ModelCheckpoint\n",
        "import keras.backend as K"
      ],
      "execution_count": null,
      "outputs": [
        {
          "output_type": "stream",
          "text": [
            "Collecting docx2txt\n",
            "  Downloading https://files.pythonhosted.org/packages/7d/7d/60ee3f2b16d9bfdfa72e8599470a2c1a5b759cb113c6fe1006be28359327/docx2txt-0.8.tar.gz\n",
            "Building wheels for collected packages: docx2txt\n",
            "  Building wheel for docx2txt (setup.py) ... \u001b[?25l\u001b[?25hdone\n",
            "  Created wheel for docx2txt: filename=docx2txt-0.8-cp36-none-any.whl size=3963 sha256=34090f700ed9e1c4126d3e102c834aeb69946fcc82dff2731ef66d25f5b169eb\n",
            "  Stored in directory: /root/.cache/pip/wheels/b2/1f/26/a051209bbb77fc6bcfae2bb7e01fa0ff941b82292ab084d596\n",
            "Successfully built docx2txt\n",
            "Installing collected packages: docx2txt\n",
            "Successfully installed docx2txt-0.8\n",
            "Collecting stop_words\n",
            "  Downloading https://files.pythonhosted.org/packages/1c/cb/d58290804b7a4c5daa42abbbe2a93c477ae53e45541b1825e86f0dfaaf63/stop-words-2018.7.23.tar.gz\n",
            "Building wheels for collected packages: stop-words\n",
            "  Building wheel for stop-words (setup.py) ... \u001b[?25l\u001b[?25hdone\n",
            "  Created wheel for stop-words: filename=stop_words-2018.7.23-cp36-none-any.whl size=32917 sha256=45276080bbbf203bef2a2ff2a8cae4fe72004d5a82784efe8d7fa92eca0b2492\n",
            "  Stored in directory: /root/.cache/pip/wheels/75/37/6a/2b295e03bd07290f0da95c3adb9a74ba95fbc333aa8b0c7c78\n",
            "Successfully built stop-words\n",
            "Installing collected packages: stop-words\n",
            "Successfully installed stop-words-2018.7.23\n"
          ],
          "name": "stdout"
        },
        {
          "output_type": "stream",
          "text": [
            "Using TensorFlow backend.\n"
          ],
          "name": "stderr"
        }
      ]
    },
    {
      "cell_type": "code",
      "metadata": {
        "id": "dPamW4EonAnK",
        "colab_type": "code",
        "colab": {}
      },
      "source": [
        "#Ubah direktori sesuai lokasi penyimpanan dataset\n",
        "DIR_DATA_MHS = '/content/drive/My Drive/KP-SEMINAR-SKRIPSI/SKRIPSI/Program/Dataset/jawaban_mahasiswa/'\n",
        "DIR_DATA_DSN = '/content/drive/My Drive/KP-SEMINAR-SKRIPSI/SKRIPSI/Program/Dataset/jawaban_dosen/'\n",
        "DIR_HUMAN_RATER_4 = '/content/drive/My Drive/KP-SEMINAR-SKRIPSI/SKRIPSI/Program/Dataset/human_rater4.csv'\n",
        "DIR_DUMMY_DATA = '/content/drive/My Drive/KP-SEMINAR-SKRIPSI/SKRIPSI/Program/Dataset/dummy_dataset2.csv'\n",
        "DIR_DUMMY_DATA2 = '/content/drive/My Drive/KP-SEMINAR-SKRIPSI/SKRIPSI/Program/Dataset/dummy_dataset3.csv'\n",
        "DIR_W2V_MODELS = '/content/drive/My Drive/KP-SEMINAR-SKRIPSI/SKRIPSI/Program/Dataset/word2vec_models/'"
      ],
      "execution_count": null,
      "outputs": []
    },
    {
      "cell_type": "code",
      "metadata": {
        "id": "DuPttXVxnLzd",
        "colab_type": "code",
        "colab": {}
      },
      "source": [
        "stop_words = get_stop_words('indonesian')\n",
        "def preprocess(text):\n",
        "  text = re.sub(\"[^A-Za-z0-9]\", \" \", text)\n",
        "  text = re.sub(\"^[0-9]\", \" \", text)\n",
        "  words = text.lower().split()\n",
        "  words = \" \".join([str(word) for word in words if not word in stop_words])\n",
        "  return words\n",
        "\n",
        "def get_data(size=36):\n",
        "  files = []\n",
        "\n",
        "  # for f in os.listdir(DIR_DATA_DSN):\n",
        "  #   if f.endswith('.docx'):\n",
        "  #     name = DIR_DATA_DSN+'/'+f\n",
        "  #     files.append(name)\n",
        "\n",
        "  for i in range(1,5):\n",
        "    name = DIR_DATA_DSN+'jwb'+str(i)+'.docx'\n",
        "    files.append(name)\n",
        "\n",
        "  for i in range(1,5):\n",
        "    name = DIR_DATA_DSN+'jwbdosen'+str(i)+'.docx'\n",
        "    files.append(name)\n",
        "  \n",
        "  for i in range(1,size):\n",
        "    name = DIR_DATA_MHS+'Mahasiswa'+str(i)+'.docx'\n",
        "    files.append(name)\n",
        "\n",
        "  documents = []\n",
        "  for i in range(len(files)):\n",
        "    text = docx2txt.process(files[i])\n",
        "    text = text.splitlines()\n",
        "    text = [x for x in text if x]\n",
        "    documents.append(text)\n",
        "    \n",
        "  fullDocs = [documents[i][x] for i in range(len(documents)) for x in range(len(documents[i]))]\n",
        "\n",
        "  finalText = []\n",
        "  for doc in fullDocs:\n",
        "    text = preprocess(doc)\n",
        "    finalText.append(text)\n",
        "  \n",
        "  return finalText"
      ],
      "execution_count": null,
      "outputs": []
    },
    {
      "cell_type": "code",
      "metadata": {
        "id": "_iGjdjVwnqEj",
        "colab_type": "code",
        "colab": {
          "base_uri": "https://localhost:8080/",
          "height": 35
        },
        "outputId": "ba6028ab-a933-480f-bb11-51e074aed722"
      },
      "source": [
        "data = get_data()\n",
        "print(len(data))"
      ],
      "execution_count": null,
      "outputs": [
        {
          "output_type": "stream",
          "text": [
            "148\n"
          ],
          "name": "stdout"
        }
      ]
    },
    {
      "cell_type": "code",
      "metadata": {
        "id": "8BLszAkFoiZj",
        "colab_type": "code",
        "colab": {
          "base_uri": "https://localhost:8080/",
          "height": 54
        },
        "outputId": "b74407f6-de4d-4772-943f-94cdf3e3f876"
      },
      "source": [
        "X_right_test = data[0:4]*35\n",
        "X_left_test = data[8:]\n",
        "print(len(X_right_test))\n",
        "print(len(X_left_test))"
      ],
      "execution_count": null,
      "outputs": [
        {
          "output_type": "stream",
          "text": [
            "140\n",
            "140\n"
          ],
          "name": "stdout"
        }
      ]
    },
    {
      "cell_type": "code",
      "metadata": {
        "id": "o1v3azzhj0hx",
        "colab_type": "code",
        "colab": {
          "base_uri": "https://localhost:8080/",
          "height": 74
        },
        "outputId": "b3cf6e83-9d1b-42d4-bb91-18815e6fb647"
      },
      "source": [
        "X_right_test2 = data[4:8]*35\n",
        "print(len(X_right_test2))\n",
        "print(X_right_test2[0:8])"
      ],
      "execution_count": null,
      "outputs": [
        {
          "output_type": "stream",
          "text": [
            "140\n",
            "['von neumann komputer pertama menggunakan konsep penyimpanan dimana komponen komponennya prosesor memori input output', 'hibernate salah satu proses dimana komputer dimatikan dimatikan data berupa program dijalankan berada ram dialihkan hard disk rom data hilang jadi dinyalakan kembali data berupa program dinyalakan dikembalikan ram rom seakan komputer dimatikan sepenuhnya', 'server host menjadi tempat menyimpan data informasi dituju diakses client jaringan client host menjadi alat untuk mengakses meminta data informasi dikirim server client berfungsi untuk mengirimkan data informasi simpan server', 'turbo boost cara untuk meningkatkan kecepatan clock komputer menjadi kecepatan maksimal pengolahan data cepat kecepatan dimaksud kecepatan pengolahan transmisi data komputer', 'von neumann komputer pertama menggunakan konsep penyimpanan dimana komponen komponennya prosesor memori input output', 'hibernate salah satu proses dimana komputer dimatikan dimatikan data berupa program dijalankan berada ram dialihkan hard disk rom data hilang jadi dinyalakan kembali data berupa program dinyalakan dikembalikan ram rom seakan komputer dimatikan sepenuhnya', 'server host menjadi tempat menyimpan data informasi dituju diakses client jaringan client host menjadi alat untuk mengakses meminta data informasi dikirim server client berfungsi untuk mengirimkan data informasi simpan server', 'turbo boost cara untuk meningkatkan kecepatan clock komputer menjadi kecepatan maksimal pengolahan data cepat kecepatan dimaksud kecepatan pengolahan transmisi data komputer']\n"
          ],
          "name": "stdout"
        }
      ]
    },
    {
      "cell_type": "code",
      "metadata": {
        "id": "UcfrGRWppuDh",
        "colab_type": "code",
        "colab": {
          "base_uri": "https://localhost:8080/",
          "height": 55
        },
        "outputId": "719af05c-9f4e-4fde-bd1b-ec43c6a1fa09"
      },
      "source": [
        "print(X_right_test[0:8])"
      ],
      "execution_count": null,
      "outputs": [
        {
          "output_type": "stream",
          "text": [
            "['komputer model von neumann model arsitektur dideskripsikan john von neumann tahun 1945 first draft of a report on the edvac model arsitektur dijadikan basis komputer unit pemrosesan berisi alu register prosesor unit kontrol berisi instruction register program counter memori untuk menyimpan data instruksi penyimpanan eksternal mekanisme input output', 'hibernate pc fitur mematikan pc untuk waktu sleep fitur menggunakan tenaga sleep menjaga komputer tetap menyala tenaga hibernate menyimpan proses berjalan secondary memory sleep menyimpannya ram komputer mengalami hilang tenaga komputer dinyalakan ulang awal berbeda hibernate melanjutkan proses dimatikan mengalami kehilangan tenaga mati kekurangan hibernate jumlah penyimpanan data dibutuhkan untuk hibernate storage cukup besar mengurangi umur ssd cepat proses menghidupkan kembali secepat proses sleep membacanya ram', 'client server jaringan komputer model komunikasi terjadi dua belah pihak penyedia layanan data disebut server pengguna peminta layanan data disebut client umumnya kedua belah pihak berkomunikasi hardware berbeda terjadi satu mesin sistem', 'turbo boost salah satu fitur prosesor masa bertujuan untuk mempercepat kinerja prosesor kondisinya terpenuhi proses diraih cara menaikkan frekuensi clock sesuai ruang peningkatan direkomendasikan pembuat chip ruang peningkatan disebut thermal headroom memiliki syarat kondisi bergantung temperatur load prosesor bekerja temperatur jauh batas atas kerja tinggi prosesor meningkatkan frekuensi clock nya mengerjakan instruksi cepat beban kerja tinggi temperatur meningkat untuk menjaga stabilitas kerja prosesor turbo boost bekerja maksimal mendekati base clock', 'komputer model von neumann model arsitektur dideskripsikan john von neumann tahun 1945 first draft of a report on the edvac model arsitektur dijadikan basis komputer unit pemrosesan berisi alu register prosesor unit kontrol berisi instruction register program counter memori untuk menyimpan data instruksi penyimpanan eksternal mekanisme input output', 'hibernate pc fitur mematikan pc untuk waktu sleep fitur menggunakan tenaga sleep menjaga komputer tetap menyala tenaga hibernate menyimpan proses berjalan secondary memory sleep menyimpannya ram komputer mengalami hilang tenaga komputer dinyalakan ulang awal berbeda hibernate melanjutkan proses dimatikan mengalami kehilangan tenaga mati kekurangan hibernate jumlah penyimpanan data dibutuhkan untuk hibernate storage cukup besar mengurangi umur ssd cepat proses menghidupkan kembali secepat proses sleep membacanya ram', 'client server jaringan komputer model komunikasi terjadi dua belah pihak penyedia layanan data disebut server pengguna peminta layanan data disebut client umumnya kedua belah pihak berkomunikasi hardware berbeda terjadi satu mesin sistem', 'turbo boost salah satu fitur prosesor masa bertujuan untuk mempercepat kinerja prosesor kondisinya terpenuhi proses diraih cara menaikkan frekuensi clock sesuai ruang peningkatan direkomendasikan pembuat chip ruang peningkatan disebut thermal headroom memiliki syarat kondisi bergantung temperatur load prosesor bekerja temperatur jauh batas atas kerja tinggi prosesor meningkatkan frekuensi clock nya mengerjakan instruksi cepat beban kerja tinggi temperatur meningkat untuk menjaga stabilitas kerja prosesor turbo boost bekerja maksimal mendekati base clock']\n"
          ],
          "name": "stdout"
        }
      ]
    },
    {
      "cell_type": "code",
      "metadata": {
        "id": "pmD5laQJT85o",
        "colab_type": "code",
        "colab": {
          "base_uri": "https://localhost:8080/",
          "height": 90
        },
        "outputId": "dcab770b-a9a3-4885-e7ea-4bc845e0fb0f"
      },
      "source": [
        "y_df = pd.read_csv(DIR_HUMAN_RATER_4)\n",
        "human_rater = y_df['nilai']\n",
        "human_rater = human_rater.to_numpy()\n",
        "# human_rater = human_rater[8:]\n",
        "# Y = np.repeat(human_rater,4)\n",
        "Y = human_rater.copy()\n",
        "# Y = (Y-min(Y))/(max(Y)-min(Y))\n",
        "Y_test1 = Y/100\n",
        "print(Y_test1[:10])\n",
        "print(len(Y_test1))\n",
        "Y_test2 = Y.copy()\n",
        "print(Y_test2[:10])\n",
        "print(len(Y_test2))"
      ],
      "execution_count": null,
      "outputs": [
        {
          "output_type": "stream",
          "text": [
            "[0.9 0.8 1.  1.  0.9 0.8 1.  1.  0.9 0.8]\n",
            "140\n",
            "[ 90  80 100 100  90  80 100 100  90  80]\n",
            "140\n"
          ],
          "name": "stdout"
        }
      ]
    },
    {
      "cell_type": "code",
      "metadata": {
        "id": "AVF5jw-KpB2_",
        "colab_type": "code",
        "colab": {
          "base_uri": "https://localhost:8080/",
          "height": 257
        },
        "outputId": "1734862c-3919-4fe0-c2db-76d264cbcf92"
      },
      "source": [
        "df = pd.read_csv(DIR_DUMMY_DATA)\n",
        "X_left_train = df['jawaban_dummy'].values\n",
        "X_right_train = df['jawaban_dosen'].values\n",
        "Y_train = df['nilai_dummy'].values\n",
        "Y_train1 = Y_train/100\n",
        "Y_train2 = Y_train[:]\n",
        "\n",
        "print(len(X_left_train))\n",
        "print(len(X_right_train))\n",
        "print(X_left_train[0:4])\n",
        "print(X_right_train[0:4])\n",
        "print(Y_train1[0:4])\n",
        "print(Y_train2[0:4])"
      ],
      "execution_count": null,
      "outputs": [
        {
          "output_type": "stream",
          "text": [
            "440\n",
            "440\n",
            "['komputer model von neumann model arsitektur dideskripsikan john von neumann tahun 1945 first draft of a report on the edvac model arsitektur dijadikan basis komputer unit pemrosesan berisi alu register prosesor unit kontrol berisi instruction register program counter memori untuk menyimpan data instruksi penyimpanan eksternal mekanisme input output'\n",
            " 'hibernate pc fitur mematikan pc untuk waktu sleep fitur menggunakan tenaga sleep menjaga komputer tetap menyala tenaga hibernate menyimpan proses berjalan secondary memory sleep menyimpannya ram komputer mengalami hilang tenaga komputer dinyalakan ulang awal berbeda hibernate melanjutkan proses dimatikan mengalami kehilangan tenaga mati kekurangan hibernate jumlah penyimpanan data dibutuhkan untuk hibernate storage cukup besar mengurangi umur ssd cepat proses menghidupkan kembali secepat proses sleep membacanya ram'\n",
            " 'client server jaringan komputer model komunikasi terjadi dua belah pihak penyedia layanan data disebut server pengguna peminta layanan data disebut client umumnya kedua belah pihak berkomunikasi hardware berbeda terjadi satu mesin sistem'\n",
            " 'turbo boost salah satu fitur prosesor masa bertujuan untuk mempercepat kinerja prosesor kondisinya terpenuhi proses diraih cara menaikkan frekuensi clock sesuai ruang peningkatan direkomendasikan pembuat chip ruang peningkatan disebut thermal headroom memiliki syarat kondisi bergantung temperatur load prosesor bekerja temperatur jauh batas atas kerja tinggi prosesor meningkatkan frekuensi clock nya mengerjakan instruksi cepat beban kerja tinggi temperatur meningkat untuk menjaga stabilitas kerja prosesor turbo boost bekerja maksimal mendekati base clock']\n",
            "['komputer model von neumann model arsitektur dideskripsikan john von neumann tahun 1945 first draft of a report on the edvac model arsitektur dijadikan basis komputer unit pemrosesan berisi alu register prosesor unit kontrol berisi instruction register program counter memori untuk menyimpan data instruksi penyimpanan eksternal mekanisme input output'\n",
            " 'hibernate pc fitur mematikan pc untuk waktu sleep fitur menggunakan tenaga sleep menjaga komputer tetap menyala tenaga hibernate menyimpan proses berjalan secondary memory sleep menyimpannya ram komputer mengalami hilang tenaga komputer dinyalakan ulang awal berbeda hibernate melanjutkan proses dimatikan mengalami kehilangan tenaga mati kekurangan hibernate jumlah penyimpanan data dibutuhkan untuk hibernate storage cukup besar mengurangi umur ssd cepat proses menghidupkan kembali secepat proses sleep membacanya ram'\n",
            " 'client server jaringan komputer model komunikasi terjadi dua belah pihak penyedia layanan data disebut server pengguna peminta layanan data disebut client umumnya kedua belah pihak berkomunikasi hardware berbeda terjadi satu mesin sistem'\n",
            " 'turbo boost salah satu fitur prosesor masa bertujuan untuk mempercepat kinerja prosesor kondisinya terpenuhi proses diraih cara menaikkan frekuensi clock sesuai ruang peningkatan direkomendasikan pembuat chip ruang peningkatan disebut thermal headroom memiliki syarat kondisi bergantung temperatur load prosesor bekerja temperatur jauh batas atas kerja tinggi prosesor meningkatkan frekuensi clock nya mengerjakan instruksi cepat beban kerja tinggi temperatur meningkat untuk menjaga stabilitas kerja prosesor turbo boost bekerja maksimal mendekati base clock']\n",
            "[1. 1. 1. 1.]\n",
            "[100 100 100 100]\n"
          ],
          "name": "stdout"
        }
      ]
    },
    {
      "cell_type": "code",
      "metadata": {
        "id": "9bSu60Q-VM3s",
        "colab_type": "code",
        "colab": {
          "base_uri": "https://localhost:8080/",
          "height": 257
        },
        "outputId": "98599ec6-be0b-4e00-ddd2-a46c417d4440"
      },
      "source": [
        "dfk = pd.read_csv(DIR_DUMMY_DATA2)\n",
        "X_left_train_k = dfk['jawaban_dummy'].values\n",
        "X_right_train_k = dfk['jawaban_dosen'].values\n",
        "Y_train_k = dfk['nilai_dummy'].values\n",
        "Y_train1_k = Y_train_k/100\n",
        "Y_train2_k = Y_train_k[:]\n",
        "\n",
        "print(len(X_left_train_k))\n",
        "print(len(X_right_train_k))\n",
        "print(X_left_train_k[0:4])\n",
        "print(X_right_train_k[0:4])\n",
        "print(Y_train1_k[0:4])\n",
        "print(Y_train2_k[0:4])"
      ],
      "execution_count": null,
      "outputs": [
        {
          "output_type": "stream",
          "text": [
            "440\n",
            "440\n",
            "['von neumann komputer pertama menggunakan konsep penyimpanan dimana komponen komponennya prosesor memori input output'\n",
            " 'hibernate salah satu proses dimana komputer dimatikan dimatikan data berupa program dijalankan berada ram dialihkan hard disk rom data hilang jadi dinyalakan kembali data berupa program dinyalakan dikembalikan ram rom seakan komputer dimatikan sepenuhnya'\n",
            " 'server host menjadi tempat menyimpan data informasi dituju diakses client jaringan client host menjadi alat untuk mengakses meminta data informasi dikirim server client berfungsi untuk mengirimkan data informasi simpan server'\n",
            " 'turbo boost cara untuk meningkatkan kecepatan clock komputer menjadi kecepatan maksimal pengolahan data cepat kecepatan dimaksud kecepatan pengolahan transmisi data komputer']\n",
            "['von neumann komputer pertama menggunakan konsep penyimpanan dimana komponen komponennya prosesor memori input output'\n",
            " 'hibernate salah satu proses dimana komputer dimatikan dimatikan data berupa program dijalankan berada ram dialihkan hard disk rom data hilang jadi dinyalakan kembali data berupa program dinyalakan dikembalikan ram rom seakan komputer dimatikan sepenuhnya'\n",
            " 'server host menjadi tempat menyimpan data informasi dituju diakses client jaringan client host menjadi alat untuk mengakses meminta data informasi dikirim server client berfungsi untuk mengirimkan data informasi simpan server'\n",
            " 'turbo boost cara untuk meningkatkan kecepatan clock komputer menjadi kecepatan maksimal pengolahan data cepat kecepatan dimaksud kecepatan pengolahan transmisi data komputer']\n",
            "[1. 1. 1. 1.]\n",
            "[100 100 100 100]\n"
          ],
          "name": "stdout"
        }
      ]
    },
    {
      "cell_type": "code",
      "metadata": {
        "id": "7Z9By7r6TRCB",
        "colab_type": "code",
        "colab": {}
      },
      "source": [
        "dataset = []\n",
        "dataset.extend(data)\n",
        "dataset.extend(X_left_train)\n",
        "dataset.extend(X_right_train)\n",
        "# data.extend(X_left_train_k)\n",
        "# data.extend(X_right_train_k)"
      ],
      "execution_count": null,
      "outputs": []
    },
    {
      "cell_type": "code",
      "metadata": {
        "id": "nQd6vnbETmyH",
        "colab_type": "code",
        "colab": {
          "base_uri": "https://localhost:8080/",
          "height": 54
        },
        "outputId": "23f5ee57-e47d-46e4-92d7-25f6fcc63f9c"
      },
      "source": [
        "print(len(dataset))\n",
        "print(type(dataset))"
      ],
      "execution_count": null,
      "outputs": [
        {
          "output_type": "stream",
          "text": [
            "1028\n",
            "<class 'list'>\n"
          ],
          "name": "stdout"
        }
      ]
    },
    {
      "cell_type": "code",
      "metadata": {
        "id": "CA_vLV5wUWqH",
        "colab_type": "code",
        "colab": {
          "base_uri": "https://localhost:8080/",
          "height": 74
        },
        "outputId": "78eafbbe-4703-4dc4-b470-990661bf4880"
      },
      "source": [
        "vocab = {}\n",
        "i = 1\n",
        "for answer in dataset:\n",
        "  for token in answer.split():\n",
        "    if token not in vocab:\n",
        "      vocab[token] = i\n",
        "      i += 1\n",
        "\n",
        "print(len(vocab))\n",
        "print(vocab)"
      ],
      "execution_count": null,
      "outputs": [
        {
          "output_type": "stream",
          "text": [
            "1216\n",
            "{'komputer': 1, 'model': 2, 'von': 3, 'neumann': 4, 'arsitektur': 5, 'dideskripsikan': 6, 'john': 7, 'tahun': 8, '1945': 9, 'first': 10, 'draft': 11, 'of': 12, 'a': 13, 'report': 14, 'on': 15, 'the': 16, 'edvac': 17, 'dijadikan': 18, 'basis': 19, 'unit': 20, 'pemrosesan': 21, 'berisi': 22, 'alu': 23, 'register': 24, 'prosesor': 25, 'kontrol': 26, 'instruction': 27, 'program': 28, 'counter': 29, 'memori': 30, 'untuk': 31, 'menyimpan': 32, 'data': 33, 'instruksi': 34, 'penyimpanan': 35, 'eksternal': 36, 'mekanisme': 37, 'input': 38, 'output': 39, 'hibernate': 40, 'pc': 41, 'fitur': 42, 'mematikan': 43, 'waktu': 44, 'sleep': 45, 'menggunakan': 46, 'tenaga': 47, 'menjaga': 48, 'tetap': 49, 'menyala': 50, 'proses': 51, 'berjalan': 52, 'secondary': 53, 'memory': 54, 'menyimpannya': 55, 'ram': 56, 'mengalami': 57, 'hilang': 58, 'dinyalakan': 59, 'ulang': 60, 'awal': 61, 'berbeda': 62, 'melanjutkan': 63, 'dimatikan': 64, 'kehilangan': 65, 'mati': 66, 'kekurangan': 67, 'jumlah': 68, 'dibutuhkan': 69, 'storage': 70, 'cukup': 71, 'besar': 72, 'mengurangi': 73, 'umur': 74, 'ssd': 75, 'cepat': 76, 'menghidupkan': 77, 'kembali': 78, 'secepat': 79, 'membacanya': 80, 'client': 81, 'server': 82, 'jaringan': 83, 'komunikasi': 84, 'terjadi': 85, 'dua': 86, 'belah': 87, 'pihak': 88, 'penyedia': 89, 'layanan': 90, 'disebut': 91, 'pengguna': 92, 'peminta': 93, 'umumnya': 94, 'kedua': 95, 'berkomunikasi': 96, 'hardware': 97, 'satu': 98, 'mesin': 99, 'sistem': 100, 'turbo': 101, 'boost': 102, 'salah': 103, 'masa': 104, 'bertujuan': 105, 'mempercepat': 106, 'kinerja': 107, 'kondisinya': 108, 'terpenuhi': 109, 'diraih': 110, 'cara': 111, 'menaikkan': 112, 'frekuensi': 113, 'clock': 114, 'sesuai': 115, 'ruang': 116, 'peningkatan': 117, 'direkomendasikan': 118, 'pembuat': 119, 'chip': 120, 'thermal': 121, 'headroom': 122, 'memiliki': 123, 'syarat': 124, 'kondisi': 125, 'bergantung': 126, 'temperatur': 127, 'load': 128, 'bekerja': 129, 'jauh': 130, 'batas': 131, 'atas': 132, 'kerja': 133, 'tinggi': 134, 'meningkatkan': 135, 'nya': 136, 'mengerjakan': 137, 'beban': 138, 'meningkat': 139, 'stabilitas': 140, 'maksimal': 141, 'mendekati': 142, 'base': 143, 'pertama': 144, 'konsep': 145, 'dimana': 146, 'komponen': 147, 'komponennya': 148, 'berupa': 149, 'dijalankan': 150, 'berada': 151, 'dialihkan': 152, 'hard': 153, 'disk': 154, 'rom': 155, 'jadi': 156, 'dikembalikan': 157, 'seakan': 158, 'sepenuhnya': 159, 'host': 160, 'menjadi': 161, 'tempat': 162, 'informasi': 163, 'dituju': 164, 'diakses': 165, 'alat': 166, 'mengakses': 167, 'meminta': 168, 'dikirim': 169, 'berfungsi': 170, 'mengirimkan': 171, 'simpan': 172, 'kecepatan': 173, 'pengolahan': 174, 'dimaksud': 175, 'transmisi': 176, 'neuman': 177, 'arsitekturnya': 178, 'digunnakan': 179, 'cpu': 180, 'cu': 181, 'benar': 182, 'keadaan': 183, 'artinya': 184, 'transfer': 185, 'contoh': 186, 'end': 187, 'device': 188, 'berinteraksi': 189, 'langsung': 190, 'manusia': 191, 'request': 192, 'file': 193, 'contohnya': 194, 'laptop': 195, 'perangkat': 196, 'kapasitas': 197, 'berguna': 198, 'menyediakan': 199, 'misalnya': 200, 'dns': 201, 'http': 202, 'memungkinkan': 203, 'keras': 204, 'digunakan': 205, 'aplikasi': 206, 'memerlukan': 207, 'intensitas': 208, 'grafik': 209, 'aritmathic': 210, 'logical': 211, 'control': 212, 'windows': 213, 'memilih': 214, 'menu': 215, 'shutdown': 216, 'pilihan': 217, 'satunya': 218, 'masuk': 219, 'status': 220, 'aktif': 221, 'terhubung': 222, 'sumber': 223, 'daya': 224, 'baterai': 225, 'steker': 226, 'dimaksudkan': 227, 'menyalakan': 228, 'pekerjaan': 229, 'pusat': 230, 'memberikan': 231, 'tersedia': 232, 'download': 233, 'upload': 234, 'feature': 235, 'processor': 236, 'rate': 237, 'diperlukan': 238, 'dilakukan': 239, 'berat': 240, 'umum': 241, 'tertulis': 242, 'ntel': 243, 'i5': 244, '2': 245, '3': 246, 'ghz': 247, 'with': 248, 'up': 249, 'to': 250, '4': 251, 'normal': 252, 'ditanggung': 253, 'ditinggalkan': 254, 'menempatkan': 255, 'read': 256, 'only': 257, 'random': 258, 'access': 259, 'peta': 260, 'address': 261, 'bus': 262, 'tunggal': 263, 'mengalamati': 264, 'diciptakan': 265, '1903': 266, '1957': 267, 'buatan': 268, 'menggambarkan': 269, 'empat': 270, 'bagian': 271, 'utama': 272, 'aritmatika': 273, 'logis': 274, 'masukan': 275, 'i': 276, 'o': 277, 'dokumen': 278, 'terbuka': 279, 'power': 280, 'dihidupkan': 281, 'memulai': 282, 'menghibernate': 283, 'maksudnya': 284, 'tertutup': 285, 'bertindak': 286, 'database': 287, 'diupload': 288, 'tersimpan': 289, 'mendownload': 290, 'men': 291, 'website': 292, 'tsb': 293, 'tampilannya': 294, 'dll': 295, 'berkontribusi': 296, 'meng': 297, 'mengubah': 298, 'membuka': 299, 'mendapat': 300, 'tampilan': 301, 'websitenya': 302, 'penambahan': 303, 'tambahan': 304, 'flashdisk': 305, 'penuh': 306, 'dimasukan': 307, 'lambat': 308, 'dibandingkan': 309, 'port': 310, 'diolah': 311, 'menghasilkan': 312, 'keyboard': 313, 'mouse': 314, 'keluaran': 315, 'hasil': 316, 'diproleh': 317, 'printer': 318, 'speaker': 319, 'central': 320, 'processing': 321, 'memproses': 322, 'perhitungan': 323, 'matematis': 324, 'aritmatik': 325, 'energi': 326, 'rendah': 327, 'menutup': 328, 'close': 329, 'dilaksanakan': 330, 'pemberi': 331, 'penerima': 332, 'penyimpan': 333, 'menanggapi': 334, 'dikirimkan': 335, 'jawaban': 336, 'memintanya': 337, 'penguat': 338, 'computer': 339, 'performance': 340, 'kualitas': 341, 'baik': 342, 'didukung': 343, 'arithmatic': 344, 'and': 345, 'logic': 346, 'antarbagian': 347, 'dihubungkan': 348, 'menyebabkan': 349, 'tercabut': 350, 'terlepas': 351, 'listrik': 352, 'level': 353, 'melakukan': 354, 'mengolah': 355, 'perubahan': 356, 'mengatur': 357, 'booting': 358, 'melewati': 359, 'pengecekan': 360, 'penting': 361, 'motherboard': 362, 'divais': 363, 'tersambung': 364, 'cool': 365, 'boot': 366, 'skip': 367, 'menuju': 368, 'warm': 369, 'pemberitahuan': 370, 'permasalahan': 371, 'dideteksi': 372, 'diberikan': 373, 'dihilangkan': 374, 'berperan': 375, 'istilah': 376, 'mengoperasikan': 377, 'pengirim': 378, 'pengontrol': 379, 'clocknya': 380, 'cache': 381, 'media': 382, 'secara': 383, 'kolektif': 384, 'dinamakan': 385, 'awalnya': 386, 'membuat': 387, 'super': 388, 'menggabungkan': 389, 'mensimulasikan': 390, 'rumit': 391, 'user': 392, 'memakan': 393, 'penggunaan': 394, 'menampilkan': 395, 'layar': 396, 'desktop': 397, 'menghubungkan': 398, 'akses': 399, 'permintaan': 400, 'diminta': 401, 'protocol': 402, 'menerima': 403, 'khusus': 404, 'dimiliki': 405, 'jajaran': 406, 'intel': 407, 'core': 408, 'tiga': 409, 'varian': 410, 'i3': 411, 'i7': 412, 'clocks': 413, 'peed': 414, 'standar': 415, 'speed': 416, 'diatur': 417, 'fit': 418, 'otomatis': 419, 'performa': 420, 'standarnya': 421, 'mobile': 422, '3210m': 423, 'clockspeed': 424, '5': 425, '1': 426, 'membantu': 427, 'menjalankan': 428, 'visual': 429, 'desain': 430, 'gaming': 431, 'meumann': 432, 'van': 433, 'neumaan': 434, 'engan': 435, 'keyborad': 436, 'monitor': 437, 'otak': 438, 'bertugas': 439, 'mengendalikan': 440, 'peralatan': 441, 'melakkan': 442, 'jangka': 443, 'panjang': 444, 'muncul': 445, 'supply': 446, 'energy': 447, 'tiba': 448, 'terhenti': 449, 'fungsi': 450, 'aktivitas': 451, 'software': 452, 'mengenai': 453, 'balasan': 454, 'dalamnya': 455, 'cold': 456, 'neumman': 457, 'isinya': 458, 'aritmetic': 459, 'mencapai': 460, 'low': 461, 'state': 462, 'total': 463, 'prosesnya': 464, 'dimulai': 465, 'no': 466, 'ditampilkan': 467, 'kemampuan': 468, 'diatas': 469, 'game': 470, 'browsing': 471, 'inti': 472, 'beristirahat': 473, 'bekeja': 474, 'berisitirahat': 475, 'terdapat': 476, 'devices': 477, 'generasi': 478, 'dibuat': 479, '1940': 480, 'an': 481, 'akhir': 482, '1950': 483, 'terakhir': 484, 'berubah': 485, 'menjelajah': 486, 'internet': 487, 'pergi': 488, 'makan': 489, 'tab': 490, 'dibuka': 491, 'direkam': 492, 'disimpan': 493, 'dimuat': 494, 'me': 495, 'mengirmkan': 496, 'ip': 497, 'tujuan': 498, 'kedalam': 499, 'memeriksa': 500, 'alamat': 501, 'olek': 502, 'terdaftar': 503, 'tahapan': 504, 'dilewatkan': 505, 'bios': 506, 'mengecek': 507, 'ketersediaan': 508, 'terpasang': 509, 'system': 510, 'sound': 511, 'card': 512, 'graphic': 513, 'adress': 514, 'mengamati': 515, 'menghemat': 516, 'dipakai': 517, 'keuntungannya': 518, 'berhak': 519, 'berhubungan': 520, 'mempatkan': 521, 'aliran': 522, 'dihentikan': 523, 'terhapus': 524, 'mempunyai': 525, 'mengambil': 526, 'luar': 527, 'meliputi': 528, 'shut': 529, 'down': 530, 'restart': 531, 'menghilangkan': 532, 'source': 533, 'arithmetical': 534, 'diaplikasikan': 535, 'harddisk': 536, 'drive': 537, 'siap': 538, 'support': 539, 'kelelahan': 540, 'akibatnya': 541, 'loading': 542, 'perintah': 543, 'peintah': 544, 'selanjutnya': 545, 'ditemukan': 546, 'berikut': 547, 'termasuk': 548, 'posisi': 549, 'off': 550, 'perlu': 551, 'os': 552, 'pemakai': 553, 'merequest': 554, 'tesebut': 555, 'waktunya': 556, 'satuan': 557, 'normalnya': 558, 'nyala': 559, 'naik': 560, '9': 561, 'didalam': 562, 'sistemnya': 563, 'files': 564, 'temporarily': 565, 'dicabut': 566, 'mendapatkan': 567, 'tingkat': 568, 'fixed': 569, 'lintas': 570, 'klien': 571, 'membalasnya': 572, 'reply': 573, 'pendukung': 574, 'menunjukan': 575, 'tulisan': 576, 'gambar': 577, 'suara': 578, 'tugas': 579, 'sebuh': 580, 'sesi': 581, 'dikerjakan': 582, 'keadaannya': 583, 'mirip': 584, 'rentang': 585, 'mengeluarkan': 586, 'powered': 587, 'apapun': 588, 'kerjakan': 589, 'bawah': 590, 'hierarki': 591, 'terbatas': 592, 'singkatnya': 593, 'webpage': 594, 'pemaksaan': 595, 'pemaksimalan': 596, 'single': 597, 'threading': 598, 'application': 599, 'tergantung': 600, 'suhu': 601, 'bersangkutan': 602, 'letak': 603, 'mengalamatkan': 604, 'hak': 605, 'menguntungkan': 606, 'luas': 607, 'mudah': 608, 'memperoleh': 609, 'peer': 610, 'rata': 611, 'keempat': 612, 'berkas': 613, 'kawat': 614, 'beda': 615, 'halnya': 616, 'hidup': 617, 'gui': 618, 'command': 619, 'line': 620, 'utility': 621, 'membersihkan': 622, 'space': 623, 'mengoptimisasi': 624, 'efektif': 625, 'tertanamkan': 626, 'main': 627, 'pengoperasian': 628, 'algorithm': 629, 'biner': 630, 'menginterpretasikan': 631, 'eksekusi': 632, 'dioperasikan': 633, 'struktur': 634, 'virtual': 635, 'diproses': 636, 'diajukan': 637, 'dikenal': 638, 'meminimalisir': 639, 'arsitektural': 640, 'diterapkan': 641, 'mode': 642, 'mengistirahatkan': 643, 'disediakan': 644, 'operasi': 645, 'tegangan': 646, 'subjek': 647, 'membutuhkan': 648, 'sinyal': 649, 'diinginkan': 650, 'acknowledgement': 651, 'memberitahukan': 652, 'sukses': 653, 'teknologi': 654, 'seuah': 655, 'spesifikasi': 656, 'performanya': 657, 'multi': 658, 'penyusunnya': 659, 'menyerupai': 660, 'modern': 661, 'berlaku': 662, 'dilanjutkan': 663, 'dipelajari': 664, 'materi': 665, 'berbagai': 666, 'cabut': 667, 'metode': 668, 'pentransferan': 669, 'konten': 670, 'pembagian': 671, 'haya': 672, 'terfokus': 673, 'membagikan': 674, 'kontennya': 675, 'banyaknya': 676, 'mempengaruhi': 677, 'mengoptimalkan': 678, 'mem': 679, 'efisien': 680, 'nama': 681, 'diambil': 682, 'penciptanya': 683, 'bernama': 684, 'garis': 685, 'terbagi': 686, 'didalamnya': 687, 'aljabar': 688, 'boolean': 689, 'mempermudah': 690, 'karna': 691, 'handle': 692, 'terpakai': 693, 'keluar': 694, 'pengambilan': 695, 'hidupkan': 696, 'singkat': 697, 'clien': 698, 'bersifat': 699, 'ketka': 700, 'tugasnya': 701, 'melayani': 702, 'diperintahkan': 703, 'keterkaitan': 704, 'fungsinya': 705, 'menaikan': 706, 'sederhana': 707, 'overclock': 708, 'dibutuhkannya': 709, 'overclocking': 710, 'konvensional': 711, 'default': 712, 'keatas': 713, 'bermain': 714, 'voltase': 715, 'perbedaannya': 716, 'terutama': 717, 'aman': 718, 'resiko': 719, 'rusak': 720, 'memperhitungkan': 721, 'maksimum': 722, 'dimasukkan': 723, 'kerusakan': 724, 'tahu': 725, 'lakukan': 726, 'memasuki': 727, 'mengaktifkan': 728, 'membalas': 729, 'hubungan': 730, 'dicari': 731, 'sever': 732, 'si': 733, 'digambarkan': 734, 'menghentikan': 735, 'dipindahkan': 736, 'dasar': 737, 'pengiriman': 738, 'respon': 739, 'feedback': 740, 'seringkali': 741, 'task': 742, 'resource': 743, 'background': 744, 'service': 745, 'memprioritaskan': 746, 'prioritas': 747, 'optimal': 748, 'menurut': 749, 'buah': 750, 'berdasarkan': 751, 'logika': 752, 'jalur': 753, 'diletakkan': 754, 'save': 755, 'meneruskan': 756, 'keuntungan': 757, 'consumption': 758, 'pengaplikasian': 759, 'memindahkan': 760, 'koneksi': 761, 'terkoneksi': 762, 'pembukaan': 763, 'perpindahan': 764, 'semestinya': 765, 'konfigurasi': 766, 'lanjutkan': 767, 'mendatang': 768, 'prinsipnya': 769, 'akibat': 770, 'kerugian': 771, 'diakibatkan': 772, 'semetara': 773, 'cliet': 774, 'beroperasi': 775, 'dikeluarkan': 776, 'terkuras': 777, 'rangkaian': 778, 'olah': 779, 'terus': 780, 'diistirahatkan': 781, 'menunggu': 782, 'buka': 783, 'menggunakannya': 784, 'menginginkan': 785, 'memaksimalkan': 786, 'kata': 787, 'dipaksa': 788, 'semaksimal': 789, 'dibanding': 790, 'misal': 791, 'standard': 792, 'dimaksimalkan': 793, 'kemampuannya': 794, '0': 795, 'giga': 796, 'hertz': 797, 'memasukan': 798, 'blok': 799, 'bangunan': 800, 'mengontrol': 801, 'signal': 802, 'setalah': 803, 'mengankap': 804, 'mengeksekusinya': 805, 'matematika': 806, 'penjumlahan': 807, 'pengurangan': 808, 'hasilnya': 809, 'bentuk': 810, 'dimengerti': 811, 'diaktifkan': 812, 'internal': 813, 'mengalir': 814, 'memberi': 815, 'menjawab': 816, 'powernya': 817, 'perbedaan': 818, 'turn': 819, 'membagi': 820, 'dianamakan': 821, 'mempertahankan': 822, 'standby': 823, 'caranya': 824, 'copy': 825, 'kali': 826, 'berikutnya': 827, 'outlet': 828, 'volatile': 829, 'paket': 830, 'fasilitas': 831, 'diharapkan': 832, 'jenis': 833, 'ragam': 834, 'jaman': 835, 'word': 836, 'excel': 837, 'memanfaatkan': 838, 'pemilik': 839, 'konsumen': 840, 'fsb': 841, 'sebesar': 842, 'dipacu': 843, 'elektronika': 844, 'terbuat': 845, 'vacuum': 846, 'tube': 847, 'bahasa': 848, 'pemograman': 849, 'sifat': 850, 'sifatnya': 851, 'ukurannya': 852, 'pendingin': 853, 'kalor': 854, 'relatif': 855, 'kapasitansi': 856, 'memberhentikan': 857, 'ditutup': 858, 'hardisk': 859, 'interaksi': 860, 'mengirim': 861, 'memngirimkan': 862, 'pelayanan': 863, 'berdiri': 864, 'clientnya': 865, 'overload': 866, 'servernya': 867, 'network': 868, 'membutuhkannya': 869, '7': 870, '8': 871, 'aplikasinya': 872, 'multitasking': 873, 'panas': 874, 'pemakaian': 875, 'boros': 876, 'suplai': 877, 'arus': 878, 'dibagi': 879, 'diprocess': 880, 'alokasi': 881, 'lumayan': 882, 'keutuhan': 883, 'mengefisienkan': 884, 'admin': 885, 'demant': 886, 'izin': 887, 'supplier': 888, 'mengizinkan': 889, 'flash': 890, 'vram': 891, 'capable': 892, 'asli': 893, 'mother': 894, 'board': 895, 'pemroses': 896, 'airmatika': 897, 'dialiri': 898, 'mauskan': 899, 'gunakan': 900, 'konsumsi': 901, 'menyalakannya': 902, 'perlukan': 903, 'disinggung': 904, 'domain': 905, 'name': 906, 'hostname': 907, 'dikenali': 908, 'megakses': 909, 'scele': 910, 'ui': 911, 'ac': 912, 'id': 913, 'menghafal': 914, 'mengingat': 915, 'huruf': 916, 'diingat': 917, 'ole': 918, 'web': 919, 'kelebihan': 920, 'quad': 921, 'mensetting': 922, 'dual': 923, 'neoklasik': 924, 'hugh': 925, 'mengandung': 926, 'programnya': 927, 'metadata': 928, 'signifikan': 929, 'meminimalkan': 930, 'melakukannya': 931, 'aparat': 932, 'memperlambat': 933, 'components': 934, 'berpraktik': 935, 'batasnya': 936, 'kelembaban': 937, 'dekade': 938, 'komputasi': 939, 'unitnya': 940, 'insurgency': 941, 'melindungi': 942, 'ulangnya': 943, 'pertengahan': 944, 'binasa': 945, 'keterbatasan': 946, 'sangat': 947, 'memperkecil': 948, 'kemudian': 949, 'wait': 950, 'kabel': 951, 'komunikasinya': 952, 'provider': 953, 'biasanya': 954, 'berlainan': 955, 'memfasilitasi': 956, 'terlaksana': 957, 'menurunkan': 958, 'ruangan': 959, 'dipekerjakan': 960, 'akan': 961, 'lexus': 962, 'bulan': 963, 'reporting': 964, 'hub': 965, 'berisikan': 966, 'kontrolnya': 967, 'progam': 968, 'enzim': 969, 'ride': 970, 'primary': 971, 'khamhaeng': 972, 'tahap': 973, 'firmware': 974, 'membangkitkan': 975, 'seminimal': 976, 'membaca': 977, 'enam': 978, 'kubu': 979, 'layanannya': 980, 'dasarnya': 981, 'oknum': 982, 'toolkit': 983, 'turbin': 984, 'dimasa': 985, 'kinerjanya': 986, 'kesehatannya': 987, 'bilik': 988, 'penurunan': 989, 'switch': 990, 'berkerja': 991, 'tingginya': 992, 'kerjanya': 993, 'menurun': 994, 'efisiensi': 995, 'diidentifikasi': 996, 'modelnya': 997, 'dimanfaatkan': 998, 'mikroprosesor': 999, 'lumpang': 1000, 'datanya': 1001, 'enkripsi': 1002, 'tempoh': 1003, 'fungsionalitas': 1004, 'moves': 1005, 'bernyala': 1006, 'postgraduate': 1007, 'janmabhoomi': 1008, 'lenyap': 1009, 'menyelesaikan': 1010, 'kurangnya': 1011, 'proporsi': 1012, 'terlalu': 1013, 'chipset': 1014, 'akhirnya': 1015, 'memahaminya': 1016, 'sisinya': 1017, 'pemohon': 1018, 'ketiga': 1019, 'bersosialisasi': 1020, 'berupaya': 1021, 'sejalan': 1022, 'pembuatan': 1023, 'fluid': 1024, 'shachtman': 1025, 'suhunya': 1026, 'allah': 1027, 'berkurang': 1028, 'memelihara': 1029, 'summary': 1030, 'from': 1031, 'antan': 1032, 'offensive': 1033, 'statis': 1034, 'prosedur': 1035, 'netbook': 1036, 'hitungan': 1037, 'mengunakan': 1038, 'tenaganya': 1039, 'dialami': 1040, 'permulaan': 1041, 'persentase': 1042, 'menghidupkannya': 1043, 'terjadinya': 1044, 'telekomunikasi': 1045, 'pelanggan': 1046, 'berpecah': 1047, 'skema': 1048, 'agar': 1049, 'amplitudo': 1050, 'pembuatnya': 1051, 'diistilahkan': 1052, 'radiation': 1053, 'kriteria': 1054, 'batasan': 1055, 'atasnya': 1056, 'modulasi': 1057, 'intruksi': 1058, 'tingi': 1059, 'controller': 1060, 'robert': 1061, 'pangkalan': 1062, 'pengemasan': 1063, 'memuat': 1064, 'melumpuhkan': 1065, 'masih': 1066, 'merangkak': 1067, 'gopal': 1068, 'menghilang': 1069, 'serupa': 1070, 'kehabisan': 1071, 'matinya': 1072, 'dan': 1073, 'besarnya': 1074, 'usia': 1075, 'lamban': 1076, 'segera': 1077, 'seluler': 1078, 'pemasok': 1079, 'kelima': 1080, 'berdialog': 1081, 'mesinnya': 1082, 'slaah': 1083, 'raih': 1084, 'bagaimana': 1085, 'selaras': 1086, 'persyaratan': 1087, 'mengacu': 1088, 'dekat': 1089, 'frekuensinya': 1090, 'merampungkan': 1091, 'pekerja': 1092, 'transceiver': 1093, 'second': 1094, 'draf': 1095, 'about': 1096, 'berbahaya': 1097, 'membukanya': 1098, 'meninggalkan': 1099, 'penyimpanannya': 1100, 'berumur': 1101, 'berlangsung': 1102, 'penggunanya': 1103, 'pelanggannya': 1104, 'satukomune': 1105, 'seorangnya': 1106, 'zaman': 1107, 'efektivitas': 1108, 'tercapai': 1109, 'ditorehkan': 1110, 'disesuaikan': 1111, 'memilki': 1112, 'tuhan': 1113, 'menggarap': 1114, 'bertambah': 1115, 'mendekat': 1116, 'registry': 1117, 'kendali': 1118, 'external': 1119, 'gain': 1120, 'memakai': 1121, 'selalu': 1122, 'berlari': 1123, 'menderita': 1124, 'penggal': 1125, 'sesegera': 1126, 'pemerintah': 1127, 'micro': 1128, 'unik': 1129, 'supercharger': 1130, 'terwujud': 1131, 'melipatgandakan': 1132, 'magnetic': 1133, 'ketentuan': 1134, 'bertumpu': 1135, 'perbatasan': 1136, 'muatan': 1137, 'minimal': 1138, 'tranquility': 1139, 'didefinisikan': 1140, 'nba': 1141, 'pengaturan': 1142, 'arithmetic': 1143, 'berkendara': 1144, 'musnah': 1145, 'ualng': 1146, 'equipment': 1147, 'kecil': 1148, 'saluran': 1149, 'menghambat': 1150, 'perancang': 1151, 'aula': 1152, 'nordau': 1153, 'punya': 1154, 'balancing': 1155, 'menambah': 1156, 'kestabilan': 1157, 'erich': 1158, 'lorenz': 1159, 'klitzing': 1160, 'dasawarsa': 1161, 'fourth': 1162, 'ekstraksi': 1163, 'specification': 1164, 'applet': 1165, 'mempergunakan': 1166, 'midp': 1167, 'memasangnya': 1168, 'bytecode': 1169, 'usb': 1170, 'sebisa': 1171, 'dhcp': 1172, 'browser': 1173, 'turbocharger': 1174, 'package': 1175, 'periode': 1176, 'velocity': 1177, 'perutz': 1178, 'delay': 1179, 'mereka': 1180, 'menjauhi': 1181, 'in': 1182, 'keseimbangan': 1183, 'thomas': 1184, 'terrorist': 1185, 'situasi': 1186, 'third': 1187, 'lesung': 1188, 'ganas': 1189, 'satnya': 1190, 'dijelaskan': 1191, 'discussing': 1192, 'hilangnya': 1193, 'saah': 1194, 'diraihnya': 1195, 'nfl': 1196, 'cult': 1197, 'jumlahnya': 1198, 'kurang': 1199, 'console': 1200, 'menjauh': 1201, 'reports': 1202, 'ditujukan': 1203, 'kompresi': 1204, 'vocational': 1205, 'enhanced': 1206, 'gottfried': 1207, 'dipergunakan': 1208, 'berusia': 1209, 'interface': 1210, 'peladen': 1211, 'continuous': 1212, 'climb': 1213, 'sx': 1214, 'hermann': 1215, 'georg': 1216}\n"
          ],
          "name": "stdout"
        }
      ]
    },
    {
      "cell_type": "code",
      "metadata": {
        "id": "wi2-uTFNXkOa",
        "colab_type": "code",
        "colab": {
          "base_uri": "https://localhost:8080/",
          "height": 90
        },
        "outputId": "43f277c5-596b-40ec-b2f0-989a21ab8e09"
      },
      "source": [
        "len_data = []\n",
        "len_data = [len(x.split()) for x in dataset]\n",
        "print(np.mean(len_data))\n",
        "print(np.min(len_data))\n",
        "print(np.max(len_data))\n",
        "print(np.percentile(len_data, 99))"
      ],
      "execution_count": null,
      "outputs": [
        {
          "output_type": "stream",
          "text": [
            "51.047665369649806\n",
            "6\n",
            "104\n",
            "70.0\n"
          ],
          "name": "stdout"
        }
      ]
    },
    {
      "cell_type": "code",
      "metadata": {
        "id": "TvtqViZ0W0_Q",
        "colab_type": "code",
        "colab": {
          "base_uri": "https://localhost:8080/",
          "height": 227
        },
        "outputId": "4a28fbe1-d5ed-438a-9512-cfd016201bec"
      },
      "source": [
        "X_left_train_all = np.concatenate((X_left_train,X_left_train_k))\n",
        "X_right_train_all = np.concatenate((X_right_train,X_right_train_k))\n",
        "print(len(X_left_train_all))\n",
        "print(len(X_right_train_all))"
      ],
      "execution_count": null,
      "outputs": [
        {
          "output_type": "error",
          "ename": "NameError",
          "evalue": "ignored",
          "traceback": [
            "\u001b[0;31m---------------------------------------------------------------------------\u001b[0m",
            "\u001b[0;31mNameError\u001b[0m                                 Traceback (most recent call last)",
            "\u001b[0;32m<ipython-input-14-1854e0eef502>\u001b[0m in \u001b[0;36m<module>\u001b[0;34m()\u001b[0m\n\u001b[0;32m----> 1\u001b[0;31m \u001b[0mX_left_train_all\u001b[0m \u001b[0;34m=\u001b[0m \u001b[0mnp\u001b[0m\u001b[0;34m.\u001b[0m\u001b[0mconcatenate\u001b[0m\u001b[0;34m(\u001b[0m\u001b[0;34m(\u001b[0m\u001b[0mX_left_train\u001b[0m\u001b[0;34m,\u001b[0m\u001b[0mX_left_train_k\u001b[0m\u001b[0;34m)\u001b[0m\u001b[0;34m)\u001b[0m\u001b[0;34m\u001b[0m\u001b[0;34m\u001b[0m\u001b[0m\n\u001b[0m\u001b[1;32m      2\u001b[0m \u001b[0mX_right_train_all\u001b[0m \u001b[0;34m=\u001b[0m \u001b[0mnp\u001b[0m\u001b[0;34m.\u001b[0m\u001b[0mconcatenate\u001b[0m\u001b[0;34m(\u001b[0m\u001b[0;34m(\u001b[0m\u001b[0mX_right_train\u001b[0m\u001b[0;34m,\u001b[0m\u001b[0mX_right_train_k\u001b[0m\u001b[0;34m)\u001b[0m\u001b[0;34m)\u001b[0m\u001b[0;34m\u001b[0m\u001b[0;34m\u001b[0m\u001b[0m\n\u001b[1;32m      3\u001b[0m \u001b[0mprint\u001b[0m\u001b[0;34m(\u001b[0m\u001b[0mlen\u001b[0m\u001b[0;34m(\u001b[0m\u001b[0mX_left_train_all\u001b[0m\u001b[0;34m)\u001b[0m\u001b[0;34m)\u001b[0m\u001b[0;34m\u001b[0m\u001b[0;34m\u001b[0m\u001b[0m\n\u001b[1;32m      4\u001b[0m \u001b[0mprint\u001b[0m\u001b[0;34m(\u001b[0m\u001b[0mlen\u001b[0m\u001b[0;34m(\u001b[0m\u001b[0mX_right_train_all\u001b[0m\u001b[0;34m)\u001b[0m\u001b[0;34m)\u001b[0m\u001b[0;34m\u001b[0m\u001b[0;34m\u001b[0m\u001b[0m\n",
            "\u001b[0;31mNameError\u001b[0m: name 'X_left_train_k' is not defined"
          ]
        }
      ]
    },
    {
      "cell_type": "code",
      "metadata": {
        "id": "3UdzJ07jX_yq",
        "colab_type": "code",
        "colab": {}
      },
      "source": [
        "Y_train1_all = np.append(Y_train1,Y_train1_k)\n",
        "Y_train2_all = np.append(Y_train2,Y_train2_k)\n",
        "print(len(Y_train1_all))\n",
        "print(len(Y_train2_all))\n",
        "print(Y_train1_all[0:10])\n",
        "print(Y_train2_all[0:10])"
      ],
      "execution_count": null,
      "outputs": []
    },
    {
      "cell_type": "code",
      "metadata": {
        "id": "8w7H2hk2YZIu",
        "colab_type": "code",
        "colab": {}
      },
      "source": [
        "max_features = 1300\n",
        "max_len = 70\n",
        "\n",
        "tokenizer = Tokenizer(num_words=max_features)\n",
        "tokenizer.fit_on_texts(data)\n",
        "\n",
        "list_right_train = tokenizer.texts_to_sequences(X_right_train)\n",
        "list_left_train = tokenizer.texts_to_sequences(X_left_train)\n",
        "# list_right_train_k = tokenizer.texts_to_sequences(X_right_train_k)\n",
        "# list_left_train_k = tokenizer.texts_to_sequences(X_left_train_k)\n",
        "# list_right_train_a = tokenizer.texts_to_sequences(X_right_train_all)\n",
        "# list_left_train_a = tokenizer.texts_to_sequences(X_left_train_all)\n",
        "list_right_test = tokenizer.texts_to_sequences(X_right_test)\n",
        "list_right_test2 = tokenizer.texts_to_sequences(X_right_test2)\n",
        "list_left_test = tokenizer.texts_to_sequences(X_left_test)\n",
        "\n",
        "X_r_t = pad_sequences(list_right_train, maxlen=max_len, padding='post', truncating='post')\n",
        "X_l_t = pad_sequences(list_left_train, maxlen=max_len, padding='post', truncating='post')\n",
        "# X_r_t_k = pad_sequences(list_right_train_k, maxlen=max_len, padding='post', truncating='post')\n",
        "# X_l_t_k = pad_sequences(list_left_train_k, maxlen=max_len, padding='post', truncating='post')\n",
        "# X_r_t_a = pad_sequences(list_right_train_a, maxlen=max_len, padding='post', truncating='post')\n",
        "# X_l_t_a = pad_sequences(list_left_train_a, maxlen=max_len, padding='post', truncating='post')\n",
        "X_r_te = pad_sequences(list_right_test, maxlen=max_len, padding='post', truncating='post')\n",
        "X_r_te2 = pad_sequences(list_right_test2, maxlen=max_len, padding='post', truncating='post')\n",
        "X_l_te = pad_sequences(list_left_test, maxlen=max_len, padding='post', truncating='post')"
      ],
      "execution_count": null,
      "outputs": []
    },
    {
      "cell_type": "code",
      "metadata": {
        "id": "qYkKFJEwZjAX",
        "colab_type": "code",
        "colab": {
          "base_uri": "https://localhost:8080/",
          "height": 311
        },
        "outputId": "be20c185-5b47-4020-a74a-a5d05d4856d1"
      },
      "source": [
        "print(X_r_t[0])\n",
        "print(X_l_t[0])\n",
        "print(X_r_te[0])\n",
        "print(X_l_te[0])"
      ],
      "execution_count": null,
      "outputs": [
        {
          "output_type": "stream",
          "text": [
            "[  2  16  18  19  16  47 167 117  18  19 140  74 141 154  98  75 174 164\n",
            "  92  76  16  47  68 170   2  35  84  41  80  60   6  35 118  41  81  60\n",
            "  24 155  40   3  23   1  61  22 133  95  33  37   0   0   0   0   0   0\n",
            "   0   0   0   0   0   0   0   0   0   0   0   0   0   0   0   0]\n",
            "[  2  16  18  19  16  47 167 117  18  19 140  74 141 154  98  75 174 164\n",
            "  92  76  16  47  68 170   2  35  84  41  80  60   6  35 118  41  81  60\n",
            "  24 155  40   3  23   1  61  22 133  95  33  37   0   0   0   0   0   0\n",
            "   0   0   0   0   0   0   0   0   0   0   0   0   0   0   0   0]\n",
            "[ 14  13  51  26  27   6 145 180   3 109 127   6  89 173   8 146  52 177\n",
            "  53   9 136  66  64  73 152 178  66  64  28 181 149  99 137  79 112  29\n",
            " 132   6  48  29 120 160 138  31  65   6  36  53   9 116 161  61  30 162\n",
            "  31  65  29 153   3  63 139  31   6  14  13  48  57 163 184   9]\n",
            "[ 18 780  47   2 323 873  40  33  37 104 635  80   0   0   0   0   0   0\n",
            "   0   0   0   0   0   0   0   0   0   0   0   0   0   0   0   0   0   0\n",
            "   0   0   0   0   0   0   0   0   0   0   0   0   0   0   0   0   0   0\n",
            "   0   0   0   0   0   0   0   0   0   0   0   0   0   0   0   0]\n"
          ],
          "name": "stdout"
        }
      ]
    },
    {
      "cell_type": "code",
      "metadata": {
        "id": "p1e7-8FhaUx_",
        "colab_type": "code",
        "colab": {
          "base_uri": "https://localhost:8080/",
          "height": 129
        },
        "outputId": "bc6a468e-7d3c-4d97-9917-324b6835f7cc"
      },
      "source": [
        "w2v_model = DIR_W2V_MODELS+'idwiki_word2vec_200.model'\n",
        "id_w2v = gensim.models.Word2Vec.load(w2v_model)\n",
        "print(id_w2v.wv.most_similar('komputer'))"
      ],
      "execution_count": null,
      "outputs": [
        {
          "output_type": "stream",
          "text": [
            "/usr/local/lib/python3.6/dist-packages/smart_open/smart_open_lib.py:253: UserWarning: This function is deprecated, use smart_open.open instead. See the migration notes for details: https://github.com/RaRe-Technologies/smart_open/blob/master/README.rst#migrating-to-the-new-open-function\n",
            "  'See the migration notes for details: %s' % _MIGRATION_NOTES_URL\n"
          ],
          "name": "stderr"
        },
        {
          "output_type": "stream",
          "text": [
            "[('perangkat', 0.675995409488678), ('laptop', 0.6660703420639038), ('komputasi', 0.6628507375717163), ('mikroprosesor', 0.6442168951034546), ('aplikasi', 0.6268411874771118), ('mainframe', 0.6198387742042542), ('cpu', 0.6057302951812744), ('nirkabel', 0.6046115756034851), ('peranti', 0.600152850151062), ('mikrokomputer', 0.5988426804542542)]\n"
          ],
          "name": "stdout"
        },
        {
          "output_type": "stream",
          "text": [
            "/usr/local/lib/python3.6/dist-packages/gensim/matutils.py:737: FutureWarning: Conversion of the second argument of issubdtype from `int` to `np.signedinteger` is deprecated. In future, it will be treated as `np.int64 == np.dtype(int).type`.\n",
            "  if np.issubdtype(vec.dtype, np.int):\n"
          ],
          "name": "stderr"
        }
      ]
    },
    {
      "cell_type": "code",
      "metadata": {
        "id": "aJDnlpfiaxj0",
        "colab_type": "code",
        "colab": {
          "base_uri": "https://localhost:8080/",
          "height": 129
        },
        "outputId": "dc258c05-a582-45a3-8e61-99435d7d2fa9"
      },
      "source": [
        "!pip install PySastrawi\n",
        "from Sastrawi.Stemmer.StemmerFactory import StemmerFactory\n",
        "\n",
        "factory = StemmerFactory()\n",
        "stemmer = factory.create_stemmer()"
      ],
      "execution_count": null,
      "outputs": [
        {
          "output_type": "stream",
          "text": [
            "Collecting PySastrawi\n",
            "\u001b[?25l  Downloading https://files.pythonhosted.org/packages/61/84/b0a5454a040f81e81e6a95a5d5635f20ad43cc0c288f8b4966b339084962/PySastrawi-1.2.0-py2.py3-none-any.whl (210kB)\n",
            "\r\u001b[K     |█▋                              | 10kB 17.4MB/s eta 0:00:01\r\u001b[K     |███▏                            | 20kB 2.8MB/s eta 0:00:01\r\u001b[K     |████▊                           | 30kB 3.8MB/s eta 0:00:01\r\u001b[K     |██████▎                         | 40kB 4.1MB/s eta 0:00:01\r\u001b[K     |███████▉                        | 51kB 3.3MB/s eta 0:00:01\r\u001b[K     |█████████▍                      | 61kB 3.7MB/s eta 0:00:01\r\u001b[K     |███████████                     | 71kB 3.9MB/s eta 0:00:01\r\u001b[K     |████████████▌                   | 81kB 4.3MB/s eta 0:00:01\r\u001b[K     |██████████████                  | 92kB 4.4MB/s eta 0:00:01\r\u001b[K     |███████████████▋                | 102kB 4.3MB/s eta 0:00:01\r\u001b[K     |█████████████████▏              | 112kB 4.3MB/s eta 0:00:01\r\u001b[K     |██████████████████▊             | 122kB 4.3MB/s eta 0:00:01\r\u001b[K     |████████████████████▎           | 133kB 4.3MB/s eta 0:00:01\r\u001b[K     |█████████████████████▉          | 143kB 4.3MB/s eta 0:00:01\r\u001b[K     |███████████████████████▍        | 153kB 4.3MB/s eta 0:00:01\r\u001b[K     |█████████████████████████       | 163kB 4.3MB/s eta 0:00:01\r\u001b[K     |██████████████████████████▌     | 174kB 4.3MB/s eta 0:00:01\r\u001b[K     |████████████████████████████    | 184kB 4.3MB/s eta 0:00:01\r\u001b[K     |█████████████████████████████▋  | 194kB 4.3MB/s eta 0:00:01\r\u001b[K     |███████████████████████████████▏| 204kB 4.3MB/s eta 0:00:01\r\u001b[K     |████████████████████████████████| 215kB 4.3MB/s \n",
            "\u001b[?25hInstalling collected packages: PySastrawi\n",
            "Successfully installed PySastrawi-1.2.0\n"
          ],
          "name": "stdout"
        }
      ]
    },
    {
      "cell_type": "code",
      "metadata": {
        "id": "ig08IYsua00F",
        "colab_type": "code",
        "colab": {}
      },
      "source": [
        "idx2word_set = set(id_w2v.wv.index2word)"
      ],
      "execution_count": null,
      "outputs": []
    },
    {
      "cell_type": "code",
      "metadata": {
        "id": "q91A_53Toosu",
        "colab_type": "code",
        "colab": {}
      },
      "source": [
        "embed_size = 200\n",
        "\n",
        "total_known_words = 0\n",
        "total_unknown_words = 0\n",
        "dict_known_words = {}\n",
        "dict_unknown_words = {}\n",
        "\n",
        "embedding_matrix = np.zeros((max_features,embed_size))\n",
        "unknown_vector = np.zeros((embed_size,))"
      ],
      "execution_count": null,
      "outputs": []
    },
    {
      "cell_type": "code",
      "metadata": {
        "id": "9wyEgIU7orQM",
        "colab_type": "code",
        "colab": {
          "base_uri": "https://localhost:8080/",
          "height": 110
        },
        "outputId": "0ca47ed7-7fe6-4699-96e2-22ccec5a400b"
      },
      "source": [
        "for word,idx in vocab.items():\n",
        "  w = word\n",
        "  if w in idx2word_set:\n",
        "    embedding_matrix[idx] = id_w2v[w]    \n",
        "    total_known_words += 1\n",
        "    continue\n",
        "  \n",
        "  w = stemmer.stem(w)\n",
        "  if w in idx2word_set:\n",
        "    embedding_matrix[idx] = id_w2v[w]    \n",
        "    total_known_words += 1\n",
        "    continue\n",
        "  \n",
        "  embedding_matrix[idx] = unknown_vector"
      ],
      "execution_count": null,
      "outputs": [
        {
          "output_type": "stream",
          "text": [
            "/usr/local/lib/python3.6/dist-packages/ipykernel_launcher.py:4: DeprecationWarning: Call to deprecated `__getitem__` (Method will be removed in 4.0.0, use self.wv.__getitem__() instead).\n",
            "  after removing the cwd from sys.path.\n",
            "/usr/local/lib/python3.6/dist-packages/ipykernel_launcher.py:10: DeprecationWarning: Call to deprecated `__getitem__` (Method will be removed in 4.0.0, use self.wv.__getitem__() instead).\n",
            "  # Remove the CWD from sys.path while we load stuff.\n"
          ],
          "name": "stderr"
        }
      ]
    },
    {
      "cell_type": "code",
      "metadata": {
        "id": "qbXsZZqDoxF_",
        "colab_type": "code",
        "colab": {
          "base_uri": "https://localhost:8080/",
          "height": 35
        },
        "outputId": "a0676a69-4aa7-4fda-ec3e-0566bf7ef09a"
      },
      "source": [
        "print(total_known_words)"
      ],
      "execution_count": null,
      "outputs": [
        {
          "output_type": "stream",
          "text": [
            "1157\n"
          ],
          "name": "stdout"
        }
      ]
    },
    {
      "cell_type": "code",
      "metadata": {
        "id": "DFAkGN2M6CtH",
        "colab_type": "code",
        "colab": {}
      },
      "source": [
        "from keras.optimizers import RMSprop,Adam,Adadelta,SGD\n",
        "from keras.regularizers import l2,l1,l1_l2\n",
        "from keras.callbacks import ReduceLROnPlateau,EarlyStopping\n",
        "from keras.metrics import RootMeanSquaredError\n",
        "from keras.layers import Dropout"
      ],
      "execution_count": null,
      "outputs": []
    },
    {
      "cell_type": "code",
      "metadata": {
        "id": "WOWAgwMPozYj",
        "colab_type": "code",
        "colab": {}
      },
      "source": [
        "def manhattan_distance(left,right):\n",
        "  return K.exp(-K.sum(K.abs(left-right), axis=1, keepdims=True))\n",
        "\n",
        "def r2_score(true,pred):\n",
        "  SS_res = K.sum(K.square(true-pred))\n",
        "  SS_tot = K.sum(K.square(true-K.mean(pred)))\n",
        "  return (1-SS_res/(SS_tot + K.epsilon()))\n",
        "\n",
        "def get_model():\n",
        "  input_left = Input(shape=(max_len,), dtype='int32')\n",
        "  input_right = Input(shape=(max_len,), dtype='int32')\n",
        "  embedding = Embedding(max_features, embed_size, weights=[embedding_matrix], input_length=max_len)\n",
        "  encoded_left = embedding(input_left)\n",
        "  encoded_right = embedding(input_right)\n",
        "  bilstm = LSTM(50, return_sequences=True, kernel_regularizer=l2(l=0.01))\n",
        "  left_bi = bilstm(encoded_left)\n",
        "  right_bi = bilstm(encoded_right)\n",
        "  siamese_lstm = Bidirectional(LSTM(50, kernel_regularizer=l2(l=0.01)))\n",
        "  left_output = siamese_lstm(left_bi)\n",
        "  right_output = siamese_lstm(right_bi)    \n",
        "  malstm_distance = Lambda(function=lambda x: manhattan_distance(x[0],x[1]), output_shape=lambda x:(x[0][0], 1))([left_output,right_output])  \n",
        "  model = Model([input_left, input_right], [malstm_distance])  \n",
        "  optimizer = Adam(learning_rate=0.0003)  \n",
        "  # optimizer = Adadelta(learning_rate=0.001, clipnorm=1.25)\n",
        "  # optimizer = SGD(learning_rate=0.001)\n",
        "  # optimizer = RMSprop(learning_rate=0.001)\n",
        "  model.compile(loss='mean_squared_error', optimizer=optimizer, metrics=['mse','mae',RootMeanSquaredError(name='rmse')])\n",
        "  return model"
      ],
      "execution_count": null,
      "outputs": []
    },
    {
      "cell_type": "code",
      "metadata": {
        "id": "gOZZgPPn00VK",
        "colab_type": "code",
        "colab": {}
      },
      "source": [
        "reduce_lr = ReduceLROnPlateau(monitor='val_loss', factor=0.2, patience=3, min_lr=0.00001, verbose=1, mode='min')\n",
        "earlystop = EarlyStopping(monitor='val_loss', mode='min', verbose=1, patience=10)"
      ],
      "execution_count": null,
      "outputs": []
    },
    {
      "cell_type": "code",
      "metadata": {
        "id": "fPN7E7oV6LE3",
        "colab_type": "code",
        "colab": {}
      },
      "source": [
        "from sklearn.model_selection import train_test_split"
      ],
      "execution_count": null,
      "outputs": []
    },
    {
      "cell_type": "code",
      "metadata": {
        "id": "sJJReZnG8kVQ",
        "colab_type": "code",
        "colab": {}
      },
      "source": [
        "X_l_t1,X_l_te1,X_r_t1,X_r_te1,Y_t1,Y_te1 = train_test_split(X_l_t,X_r_t,Y_train1,test_size=0.318,shuffle=False)"
      ],
      "execution_count": null,
      "outputs": []
    },
    {
      "cell_type": "code",
      "metadata": {
        "id": "unLVAuJq9PAv",
        "colab_type": "code",
        "colab": {
          "base_uri": "https://localhost:8080/",
          "height": 127
        },
        "outputId": "70f7bba8-a16c-4009-9137-d481c3956718"
      },
      "source": [
        "print(len(X_l_t1))\n",
        "print(len(X_r_t1))\n",
        "print(len(X_l_te1))\n",
        "print(len(X_r_te1))\n",
        "print(len(Y_t1))\n",
        "print(len(Y_te1))"
      ],
      "execution_count": null,
      "outputs": [
        {
          "output_type": "stream",
          "text": [
            "300\n",
            "300\n",
            "140\n",
            "140\n",
            "300\n",
            "140\n"
          ],
          "name": "stdout"
        }
      ]
    },
    {
      "cell_type": "code",
      "metadata": {
        "id": "Au5FQGdzo2fK",
        "colab_type": "code",
        "colab": {
          "base_uri": "https://localhost:8080/",
          "height": 1000
        },
        "outputId": "1a1d2e79-f6f4-4e89-9e6c-a183f041397d"
      },
      "source": [
        "model = get_model()\n",
        "model_trained = model.fit([X_l_t1,X_r_t1],Y_t1,batch_size=32,epochs=100,validation_data=([X_l_te1,X_r_te1],Y_te1))"
      ],
      "execution_count": null,
      "outputs": [
        {
          "output_type": "stream",
          "text": [
            "/usr/local/lib/python3.6/dist-packages/tensorflow/python/framework/indexed_slices.py:434: UserWarning: Converting sparse IndexedSlices to a dense Tensor of unknown shape. This may consume a large amount of memory.\n",
            "  \"Converting sparse IndexedSlices to a dense Tensor of unknown shape. \"\n"
          ],
          "name": "stderr"
        },
        {
          "output_type": "stream",
          "text": [
            "Train on 300 samples, validate on 140 samples\n",
            "Epoch 1/100\n",
            "300/300 [==============================] - 6s 20ms/step - loss: 3.6725 - mse: 0.1603 - mae: 0.3081 - rmse: 0.4004 - val_loss: 3.5120 - val_mse: 0.1235 - val_mae: 0.2517 - val_rmse: 0.3514\n",
            "Epoch 2/100\n",
            "300/300 [==============================] - 5s 15ms/step - loss: 3.4271 - mse: 0.1241 - mae: 0.2633 - rmse: 0.3523 - val_loss: 3.2808 - val_mse: 0.0932 - val_mae: 0.2177 - val_rmse: 0.3053\n",
            "Epoch 3/100\n",
            "300/300 [==============================] - 2s 8ms/step - loss: 3.1955 - mse: 0.0878 - mae: 0.2176 - rmse: 0.2964 - val_loss: 3.0666 - val_mse: 0.0669 - val_mae: 0.1811 - val_rmse: 0.2587\n",
            "Epoch 4/100\n",
            "300/300 [==============================] - 2s 8ms/step - loss: 2.9829 - mse: 0.0581 - mae: 0.1732 - rmse: 0.2411 - val_loss: 2.8688 - val_mse: 0.0454 - val_mae: 0.1466 - val_rmse: 0.2131\n",
            "Epoch 5/100\n",
            "300/300 [==============================] - 2s 8ms/step - loss: 2.7914 - mse: 0.0382 - mae: 0.1419 - rmse: 0.1954 - val_loss: 2.6933 - val_mse: 0.0353 - val_mae: 0.1315 - val_rmse: 0.1878\n",
            "Epoch 6/100\n",
            "300/300 [==============================] - 2s 8ms/step - loss: 2.6181 - mse: 0.0267 - mae: 0.1189 - rmse: 0.1635 - val_loss: 2.5292 - val_mse: 0.0281 - val_mae: 0.1187 - val_rmse: 0.1676\n",
            "Epoch 7/100\n",
            "300/300 [==============================] - 2s 8ms/step - loss: 2.4593 - mse: 0.0209 - mae: 0.1068 - rmse: 0.1446 - val_loss: 2.3779 - val_mse: 0.0244 - val_mae: 0.1119 - val_rmse: 0.1562\n",
            "Epoch 8/100\n",
            "300/300 [==============================] - 2s 8ms/step - loss: 2.3113 - mse: 0.0170 - mae: 0.0972 - rmse: 0.1304 - val_loss: 2.2362 - val_mse: 0.0221 - val_mae: 0.1069 - val_rmse: 0.1488\n",
            "Epoch 9/100\n",
            "300/300 [==============================] - 2s 8ms/step - loss: 2.1724 - mse: 0.0144 - mae: 0.0902 - rmse: 0.1199 - val_loss: 2.1031 - val_mse: 0.0210 - val_mae: 0.1042 - val_rmse: 0.1451\n",
            "Epoch 10/100\n",
            "300/300 [==============================] - 2s 8ms/step - loss: 2.0416 - mse: 0.0126 - mae: 0.0847 - rmse: 0.1123 - val_loss: 1.9766 - val_mse: 0.0194 - val_mae: 0.0997 - val_rmse: 0.1392\n",
            "Epoch 11/100\n",
            "300/300 [==============================] - 2s 8ms/step - loss: 1.9181 - mse: 0.0111 - mae: 0.0795 - rmse: 0.1052 - val_loss: 1.8573 - val_mse: 0.0182 - val_mae: 0.0973 - val_rmse: 0.1349\n",
            "Epoch 12/100\n",
            "300/300 [==============================] - 2s 8ms/step - loss: 1.8023 - mse: 0.0106 - mae: 0.0784 - rmse: 0.1029 - val_loss: 1.7446 - val_mse: 0.0170 - val_mae: 0.0940 - val_rmse: 0.1303\n",
            "Epoch 13/100\n",
            "300/300 [==============================] - 2s 8ms/step - loss: 1.6920 - mse: 0.0092 - mae: 0.0729 - rmse: 0.0958 - val_loss: 1.6390 - val_mse: 0.0168 - val_mae: 0.0942 - val_rmse: 0.1296\n",
            "Epoch 14/100\n",
            "300/300 [==============================] - 2s 8ms/step - loss: 1.5883 - mse: 0.0084 - mae: 0.0698 - rmse: 0.0918 - val_loss: 1.5384 - val_mse: 0.0158 - val_mae: 0.0906 - val_rmse: 0.1256\n",
            "Epoch 15/100\n",
            "300/300 [==============================] - 2s 8ms/step - loss: 1.4904 - mse: 0.0077 - mae: 0.0668 - rmse: 0.0877 - val_loss: 1.4429 - val_mse: 0.0142 - val_mae: 0.0874 - val_rmse: 0.1192\n",
            "Epoch 16/100\n",
            "300/300 [==============================] - 2s 8ms/step - loss: 1.3978 - mse: 0.0068 - mae: 0.0633 - rmse: 0.0827 - val_loss: 1.3533 - val_mse: 0.0133 - val_mae: 0.0845 - val_rmse: 0.1155\n",
            "Epoch 17/100\n",
            "300/300 [==============================] - 2s 8ms/step - loss: 1.3111 - mse: 0.0067 - mae: 0.0636 - rmse: 0.0817 - val_loss: 1.2690 - val_mse: 0.0126 - val_mae: 0.0824 - val_rmse: 0.1124\n",
            "Epoch 18/100\n",
            "300/300 [==============================] - 2s 8ms/step - loss: 1.2288 - mse: 0.0059 - mae: 0.0595 - rmse: 0.0768 - val_loss: 1.1902 - val_mse: 0.0125 - val_mae: 0.0818 - val_rmse: 0.1119\n",
            "Epoch 19/100\n",
            "300/300 [==============================] - 2s 8ms/step - loss: 1.1514 - mse: 0.0053 - mae: 0.0559 - rmse: 0.0726 - val_loss: 1.1149 - val_mse: 0.0115 - val_mae: 0.0793 - val_rmse: 0.1073\n",
            "Epoch 20/100\n",
            "300/300 [==============================] - 2s 8ms/step - loss: 1.0784 - mse: 0.0048 - mae: 0.0529 - rmse: 0.0690 - val_loss: 1.0445 - val_mse: 0.0111 - val_mae: 0.0767 - val_rmse: 0.1055\n",
            "Epoch 21/100\n",
            "300/300 [==============================] - 2s 8ms/step - loss: 1.0097 - mse: 0.0045 - mae: 0.0512 - rmse: 0.0668 - val_loss: 0.9780 - val_mse: 0.0107 - val_mae: 0.0761 - val_rmse: 0.1034\n",
            "Epoch 22/100\n",
            "300/300 [==============================] - 2s 8ms/step - loss: 0.9451 - mse: 0.0042 - mae: 0.0505 - rmse: 0.0651 - val_loss: 0.9152 - val_mse: 0.0100 - val_mae: 0.0750 - val_rmse: 0.1002\n",
            "Epoch 23/100\n",
            "300/300 [==============================] - 2s 8ms/step - loss: 0.8844 - mse: 0.0041 - mae: 0.0495 - rmse: 0.0643 - val_loss: 0.8567 - val_mse: 0.0100 - val_mae: 0.0737 - val_rmse: 0.1001\n",
            "Epoch 24/100\n",
            "300/300 [==============================] - 2s 8ms/step - loss: 0.8271 - mse: 0.0038 - mae: 0.0474 - rmse: 0.0618 - val_loss: 0.8013 - val_mse: 0.0097 - val_mae: 0.0722 - val_rmse: 0.0983\n",
            "Epoch 25/100\n",
            "300/300 [==============================] - 2s 8ms/step - loss: 0.7735 - mse: 0.0039 - mae: 0.0475 - rmse: 0.0621 - val_loss: 0.7492 - val_mse: 0.0093 - val_mae: 0.0715 - val_rmse: 0.0964\n",
            "Epoch 26/100\n",
            "300/300 [==============================] - 2s 8ms/step - loss: 0.7227 - mse: 0.0035 - mae: 0.0449 - rmse: 0.0589 - val_loss: 0.6999 - val_mse: 0.0086 - val_mae: 0.0696 - val_rmse: 0.0928\n",
            "Epoch 27/100\n",
            "300/300 [==============================] - 2s 8ms/step - loss: 0.6753 - mse: 0.0035 - mae: 0.0449 - rmse: 0.0588 - val_loss: 0.6542 - val_mse: 0.0085 - val_mae: 0.0686 - val_rmse: 0.0923\n",
            "Epoch 28/100\n",
            "300/300 [==============================] - 2s 8ms/step - loss: 0.6306 - mse: 0.0032 - mae: 0.0431 - rmse: 0.0562 - val_loss: 0.6111 - val_mse: 0.0082 - val_mae: 0.0681 - val_rmse: 0.0905\n",
            "Epoch 29/100\n",
            "300/300 [==============================] - 2s 8ms/step - loss: 0.5889 - mse: 0.0032 - mae: 0.0432 - rmse: 0.0562 - val_loss: 0.5710 - val_mse: 0.0083 - val_mae: 0.0692 - val_rmse: 0.0911\n",
            "Epoch 30/100\n",
            "300/300 [==============================] - 2s 8ms/step - loss: 0.5497 - mse: 0.0031 - mae: 0.0423 - rmse: 0.0553 - val_loss: 0.5325 - val_mse: 0.0075 - val_mae: 0.0648 - val_rmse: 0.0869\n",
            "Epoch 31/100\n",
            "300/300 [==============================] - 2s 8ms/step - loss: 0.5127 - mse: 0.0028 - mae: 0.0399 - rmse: 0.0527 - val_loss: 0.4968 - val_mse: 0.0072 - val_mae: 0.0654 - val_rmse: 0.0846\n",
            "Epoch 32/100\n",
            "300/300 [==============================] - 2s 8ms/step - loss: 0.4783 - mse: 0.0027 - mae: 0.0396 - rmse: 0.0523 - val_loss: 0.4631 - val_mse: 0.0066 - val_mae: 0.0617 - val_rmse: 0.0812\n",
            "Epoch 33/100\n",
            "300/300 [==============================] - 2s 8ms/step - loss: 0.4460 - mse: 0.0027 - mae: 0.0395 - rmse: 0.0520 - val_loss: 0.4323 - val_mse: 0.0068 - val_mae: 0.0634 - val_rmse: 0.0827\n",
            "Epoch 34/100\n",
            "300/300 [==============================] - 3s 8ms/step - loss: 0.4158 - mse: 0.0027 - mae: 0.0391 - rmse: 0.0515 - val_loss: 0.4027 - val_mse: 0.0062 - val_mae: 0.0607 - val_rmse: 0.0790\n",
            "Epoch 35/100\n",
            "300/300 [==============================] - 2s 8ms/step - loss: 0.3875 - mse: 0.0026 - mae: 0.0396 - rmse: 0.0513 - val_loss: 0.3755 - val_mse: 0.0062 - val_mae: 0.0612 - val_rmse: 0.0788\n",
            "Epoch 36/100\n",
            "300/300 [==============================] - 2s 8ms/step - loss: 0.3610 - mse: 0.0025 - mae: 0.0385 - rmse: 0.0502 - val_loss: 0.3500 - val_mse: 0.0061 - val_mae: 0.0626 - val_rmse: 0.0783\n",
            "Epoch 37/100\n",
            "300/300 [==============================] - 2s 8ms/step - loss: 0.3362 - mse: 0.0024 - mae: 0.0367 - rmse: 0.0490 - val_loss: 0.3258 - val_mse: 0.0056 - val_mae: 0.0577 - val_rmse: 0.0749\n",
            "Epoch 38/100\n",
            "300/300 [==============================] - 2s 8ms/step - loss: 0.3130 - mse: 0.0023 - mae: 0.0359 - rmse: 0.0480 - val_loss: 0.3035 - val_mse: 0.0055 - val_mae: 0.0571 - val_rmse: 0.0742\n",
            "Epoch 39/100\n",
            "300/300 [==============================] - 2s 8ms/step - loss: 0.2913 - mse: 0.0021 - mae: 0.0348 - rmse: 0.0462 - val_loss: 0.2825 - val_mse: 0.0052 - val_mae: 0.0587 - val_rmse: 0.0722\n",
            "Epoch 40/100\n",
            "300/300 [==============================] - 2s 8ms/step - loss: 0.2709 - mse: 0.0019 - mae: 0.0335 - rmse: 0.0441 - val_loss: 0.2627 - val_mse: 0.0048 - val_mae: 0.0531 - val_rmse: 0.0692\n",
            "Epoch 41/100\n",
            "300/300 [==============================] - 3s 8ms/step - loss: 0.2522 - mse: 0.0020 - mae: 0.0339 - rmse: 0.0450 - val_loss: 0.2443 - val_mse: 0.0045 - val_mae: 0.0533 - val_rmse: 0.0667\n",
            "Epoch 42/100\n",
            "300/300 [==============================] - 2s 8ms/step - loss: 0.2344 - mse: 0.0018 - mae: 0.0320 - rmse: 0.0424 - val_loss: 0.2273 - val_mse: 0.0043 - val_mae: 0.0532 - val_rmse: 0.0659\n",
            "Epoch 43/100\n",
            "300/300 [==============================] - 2s 8ms/step - loss: 0.2179 - mse: 0.0017 - mae: 0.0312 - rmse: 0.0408 - val_loss: 0.2113 - val_mse: 0.0041 - val_mae: 0.0491 - val_rmse: 0.0638\n",
            "Epoch 44/100\n",
            "300/300 [==============================] - 2s 8ms/step - loss: 0.2026 - mse: 0.0016 - mae: 0.0302 - rmse: 0.0402 - val_loss: 0.1967 - val_mse: 0.0041 - val_mae: 0.0510 - val_rmse: 0.0641\n",
            "Epoch 45/100\n",
            "300/300 [==============================] - 2s 8ms/step - loss: 0.1882 - mse: 0.0015 - mae: 0.0291 - rmse: 0.0386 - val_loss: 0.1830 - val_mse: 0.0041 - val_mae: 0.0520 - val_rmse: 0.0638\n",
            "Epoch 46/100\n",
            "300/300 [==============================] - 2s 8ms/step - loss: 0.1750 - mse: 0.0015 - mae: 0.0302 - rmse: 0.0392 - val_loss: 0.1699 - val_mse: 0.0038 - val_mae: 0.0483 - val_rmse: 0.0613\n",
            "Epoch 47/100\n",
            "300/300 [==============================] - 2s 8ms/step - loss: 0.1625 - mse: 0.0014 - mae: 0.0288 - rmse: 0.0372 - val_loss: 0.1578 - val_mse: 0.0035 - val_mae: 0.0451 - val_rmse: 0.0589\n",
            "Epoch 48/100\n",
            "300/300 [==============================] - 2s 8ms/step - loss: 0.1509 - mse: 0.0013 - mae: 0.0279 - rmse: 0.0361 - val_loss: 0.1465 - val_mse: 0.0032 - val_mae: 0.0450 - val_rmse: 0.0567\n",
            "Epoch 49/100\n",
            "300/300 [==============================] - 2s 8ms/step - loss: 0.1402 - mse: 0.0014 - mae: 0.0280 - rmse: 0.0373 - val_loss: 0.1363 - val_mse: 0.0033 - val_mae: 0.0466 - val_rmse: 0.0577\n",
            "Epoch 50/100\n",
            "300/300 [==============================] - 2s 8ms/step - loss: 0.1302 - mse: 0.0013 - mae: 0.0275 - rmse: 0.0363 - val_loss: 0.1266 - val_mse: 0.0032 - val_mae: 0.0445 - val_rmse: 0.0564\n",
            "Epoch 51/100\n",
            "300/300 [==============================] - 2s 8ms/step - loss: 0.1209 - mse: 0.0013 - mae: 0.0275 - rmse: 0.0363 - val_loss: 0.1175 - val_mse: 0.0030 - val_mae: 0.0433 - val_rmse: 0.0549\n",
            "Epoch 52/100\n",
            "300/300 [==============================] - 3s 8ms/step - loss: 0.1122 - mse: 0.0012 - mae: 0.0260 - rmse: 0.0344 - val_loss: 0.1092 - val_mse: 0.0029 - val_mae: 0.0429 - val_rmse: 0.0541\n",
            "Epoch 53/100\n",
            "300/300 [==============================] - 2s 8ms/step - loss: 0.1041 - mse: 0.0011 - mae: 0.0253 - rmse: 0.0333 - val_loss: 0.1017 - val_mse: 0.0031 - val_mae: 0.0430 - val_rmse: 0.0558\n",
            "Epoch 54/100\n",
            "300/300 [==============================] - 3s 8ms/step - loss: 0.0965 - mse: 9.3836e-04 - mae: 0.0237 - rmse: 0.0306 - val_loss: 0.0946 - val_mse: 0.0032 - val_mae: 0.0444 - val_rmse: 0.0561\n",
            "Epoch 55/100\n",
            "300/300 [==============================] - 2s 8ms/step - loss: 0.0898 - mse: 0.0012 - mae: 0.0261 - rmse: 0.0340 - val_loss: 0.0878 - val_mse: 0.0030 - val_mae: 0.0430 - val_rmse: 0.0547\n",
            "Epoch 56/100\n",
            "300/300 [==============================] - 2s 8ms/step - loss: 0.0832 - mse: 0.0010 - mae: 0.0244 - rmse: 0.0320 - val_loss: 0.0813 - val_mse: 0.0027 - val_mae: 0.0399 - val_rmse: 0.0515\n",
            "Epoch 57/100\n",
            "300/300 [==============================] - 2s 8ms/step - loss: 0.0771 - mse: 8.6096e-04 - mae: 0.0221 - rmse: 0.0293 - val_loss: 0.0759 - val_mse: 0.0030 - val_mae: 0.0427 - val_rmse: 0.0545\n",
            "Epoch 58/100\n",
            "300/300 [==============================] - 3s 8ms/step - loss: 0.0716 - mse: 9.5391e-04 - mae: 0.0230 - rmse: 0.0309 - val_loss: 0.0707 - val_mse: 0.0030 - val_mae: 0.0428 - val_rmse: 0.0549\n",
            "Epoch 59/100\n",
            "300/300 [==============================] - 2s 8ms/step - loss: 0.0668 - mse: 0.0012 - mae: 0.0262 - rmse: 0.0347 - val_loss: 0.0653 - val_mse: 0.0025 - val_mae: 0.0401 - val_rmse: 0.0505\n",
            "Epoch 60/100\n",
            "300/300 [==============================] - 2s 8ms/step - loss: 0.0617 - mse: 9.2563e-04 - mae: 0.0235 - rmse: 0.0304 - val_loss: 0.0612 - val_mse: 0.0030 - val_mae: 0.0409 - val_rmse: 0.0549\n",
            "Epoch 61/100\n",
            "300/300 [==============================] - 2s 8ms/step - loss: 0.0573 - mse: 9.3367e-04 - mae: 0.0234 - rmse: 0.0306 - val_loss: 0.0565 - val_mse: 0.0025 - val_mae: 0.0385 - val_rmse: 0.0500\n",
            "Epoch 62/100\n",
            "300/300 [==============================] - 2s 8ms/step - loss: 0.0532 - mse: 8.7483e-04 - mae: 0.0222 - rmse: 0.0296 - val_loss: 0.0527 - val_mse: 0.0027 - val_mae: 0.0393 - val_rmse: 0.0517\n",
            "Epoch 63/100\n",
            "300/300 [==============================] - 2s 8ms/step - loss: 0.0495 - mse: 9.9049e-04 - mae: 0.0239 - rmse: 0.0315 - val_loss: 0.0497 - val_mse: 0.0033 - val_mae: 0.0434 - val_rmse: 0.0577\n",
            "Epoch 64/100\n",
            "300/300 [==============================] - 2s 8ms/step - loss: 0.0458 - mse: 8.3028e-04 - mae: 0.0214 - rmse: 0.0288 - val_loss: 0.0457 - val_mse: 0.0026 - val_mae: 0.0399 - val_rmse: 0.0512\n",
            "Epoch 65/100\n",
            "300/300 [==============================] - 2s 8ms/step - loss: 0.0427 - mse: 0.0010 - mae: 0.0245 - rmse: 0.0320 - val_loss: 0.0428 - val_mse: 0.0028 - val_mae: 0.0417 - val_rmse: 0.0532\n",
            "Epoch 66/100\n",
            "300/300 [==============================] - 2s 8ms/step - loss: 0.0395 - mse: 8.4689e-04 - mae: 0.0220 - rmse: 0.0291 - val_loss: 0.0398 - val_mse: 0.0028 - val_mae: 0.0384 - val_rmse: 0.0530\n",
            "Epoch 67/100\n",
            "300/300 [==============================] - 2s 8ms/step - loss: 0.0367 - mse: 8.3257e-04 - mae: 0.0222 - rmse: 0.0289 - val_loss: 0.0367 - val_mse: 0.0024 - val_mae: 0.0378 - val_rmse: 0.0485\n",
            "Epoch 68/100\n",
            "300/300 [==============================] - 2s 8ms/step - loss: 0.0341 - mse: 8.0767e-04 - mae: 0.0216 - rmse: 0.0284 - val_loss: 0.0345 - val_mse: 0.0026 - val_mae: 0.0399 - val_rmse: 0.0512\n",
            "Epoch 69/100\n",
            "300/300 [==============================] - 2s 8ms/step - loss: 0.0317 - mse: 8.3635e-04 - mae: 0.0217 - rmse: 0.0289 - val_loss: 0.0323 - val_mse: 0.0027 - val_mae: 0.0386 - val_rmse: 0.0521\n",
            "Epoch 70/100\n",
            "300/300 [==============================] - 2s 8ms/step - loss: 0.0296 - mse: 8.4667e-04 - mae: 0.0223 - rmse: 0.0291 - val_loss: 0.0297 - val_mse: 0.0022 - val_mae: 0.0375 - val_rmse: 0.0474\n",
            "Epoch 71/100\n",
            "300/300 [==============================] - 2s 8ms/step - loss: 0.0275 - mse: 8.3278e-04 - mae: 0.0217 - rmse: 0.0289 - val_loss: 0.0283 - val_mse: 0.0028 - val_mae: 0.0402 - val_rmse: 0.0530\n",
            "Epoch 72/100\n",
            "300/300 [==============================] - 2s 8ms/step - loss: 0.0256 - mse: 8.7425e-04 - mae: 0.0222 - rmse: 0.0296 - val_loss: 0.0261 - val_mse: 0.0024 - val_mae: 0.0384 - val_rmse: 0.0494\n",
            "Epoch 73/100\n",
            "300/300 [==============================] - 2s 8ms/step - loss: 0.0237 - mse: 7.4156e-04 - mae: 0.0208 - rmse: 0.0272 - val_loss: 0.0245 - val_mse: 0.0025 - val_mae: 0.0381 - val_rmse: 0.0496\n",
            "Epoch 74/100\n",
            "300/300 [==============================] - 2s 8ms/step - loss: 0.0220 - mse: 6.6138e-04 - mae: 0.0198 - rmse: 0.0257 - val_loss: 0.0228 - val_mse: 0.0024 - val_mae: 0.0376 - val_rmse: 0.0492\n",
            "Epoch 75/100\n",
            "300/300 [==============================] - 2s 8ms/step - loss: 0.0206 - mse: 7.6848e-04 - mae: 0.0204 - rmse: 0.0277 - val_loss: 0.0211 - val_mse: 0.0021 - val_mae: 0.0358 - val_rmse: 0.0463\n",
            "Epoch 76/100\n",
            "300/300 [==============================] - 2s 8ms/step - loss: 0.0191 - mse: 7.2089e-04 - mae: 0.0202 - rmse: 0.0268 - val_loss: 0.0198 - val_mse: 0.0021 - val_mae: 0.0351 - val_rmse: 0.0463\n",
            "Epoch 77/100\n",
            "300/300 [==============================] - 2s 8ms/step - loss: 0.0178 - mse: 6.8349e-04 - mae: 0.0198 - rmse: 0.0261 - val_loss: 0.0191 - val_mse: 0.0027 - val_mae: 0.0385 - val_rmse: 0.0518\n",
            "Epoch 78/100\n",
            "300/300 [==============================] - 2s 8ms/step - loss: 0.0168 - mse: 8.2473e-04 - mae: 0.0211 - rmse: 0.0287 - val_loss: 0.0174 - val_mse: 0.0021 - val_mae: 0.0346 - val_rmse: 0.0460\n",
            "Epoch 79/100\n",
            "300/300 [==============================] - 2s 8ms/step - loss: 0.0155 - mse: 6.3486e-04 - mae: 0.0189 - rmse: 0.0252 - val_loss: 0.0166 - val_mse: 0.0024 - val_mae: 0.0358 - val_rmse: 0.0491\n",
            "Epoch 80/100\n",
            "300/300 [==============================] - 2s 8ms/step - loss: 0.0146 - mse: 7.5934e-04 - mae: 0.0202 - rmse: 0.0276 - val_loss: 0.0153 - val_mse: 0.0021 - val_mae: 0.0347 - val_rmse: 0.0457\n",
            "Epoch 81/100\n",
            "300/300 [==============================] - 2s 8ms/step - loss: 0.0136 - mse: 7.3970e-04 - mae: 0.0204 - rmse: 0.0272 - val_loss: 0.0147 - val_mse: 0.0023 - val_mae: 0.0350 - val_rmse: 0.0484\n",
            "Epoch 82/100\n",
            "300/300 [==============================] - 2s 8ms/step - loss: 0.0129 - mse: 9.3379e-04 - mae: 0.0227 - rmse: 0.0306 - val_loss: 0.0139 - val_mse: 0.0024 - val_mae: 0.0379 - val_rmse: 0.0490\n",
            "Epoch 83/100\n",
            "300/300 [==============================] - 2s 8ms/step - loss: 0.0128 - mse: 0.0017 - mae: 0.0300 - rmse: 0.0409 - val_loss: 0.0145 - val_mse: 0.0038 - val_mae: 0.0464 - val_rmse: 0.0618\n",
            "Epoch 84/100\n",
            "300/300 [==============================] - 2s 8ms/step - loss: 0.0121 - mse: 0.0016 - mae: 0.0294 - rmse: 0.0406 - val_loss: 0.0125 - val_mse: 0.0024 - val_mae: 0.0368 - val_rmse: 0.0494\n",
            "Epoch 85/100\n",
            "300/300 [==============================] - 2s 8ms/step - loss: 0.0107 - mse: 9.7427e-04 - mae: 0.0238 - rmse: 0.0312 - val_loss: 0.0117 - val_mse: 0.0023 - val_mae: 0.0373 - val_rmse: 0.0478\n",
            "Epoch 86/100\n",
            "300/300 [==============================] - 2s 8ms/step - loss: 0.0103 - mse: 0.0012 - mae: 0.0249 - rmse: 0.0340 - val_loss: 0.0116 - val_mse: 0.0029 - val_mae: 0.0399 - val_rmse: 0.0534\n",
            "Epoch 87/100\n",
            "300/300 [==============================] - 2s 8ms/step - loss: 0.0096 - mse: 0.0011 - mae: 0.0244 - rmse: 0.0327 - val_loss: 0.0102 - val_mse: 0.0020 - val_mae: 0.0320 - val_rmse: 0.0443\n",
            "Epoch 88/100\n",
            "300/300 [==============================] - 2s 8ms/step - loss: 0.0089 - mse: 8.6140e-04 - mae: 0.0223 - rmse: 0.0293 - val_loss: 0.0101 - val_mse: 0.0023 - val_mae: 0.0367 - val_rmse: 0.0482\n",
            "Epoch 89/100\n",
            "300/300 [==============================] - 2s 8ms/step - loss: 0.0083 - mse: 8.0628e-04 - mae: 0.0209 - rmse: 0.0284 - val_loss: 0.0093 - val_mse: 0.0021 - val_mae: 0.0338 - val_rmse: 0.0456\n",
            "Epoch 90/100\n",
            "300/300 [==============================] - 2s 8ms/step - loss: 0.0077 - mse: 6.9691e-04 - mae: 0.0202 - rmse: 0.0264 - val_loss: 0.0090 - val_mse: 0.0022 - val_mae: 0.0353 - val_rmse: 0.0470\n",
            "Epoch 91/100\n",
            "300/300 [==============================] - 2s 8ms/step - loss: 0.0076 - mse: 9.6664e-04 - mae: 0.0235 - rmse: 0.0311 - val_loss: 0.0086 - val_mse: 0.0023 - val_mae: 0.0347 - val_rmse: 0.0479\n",
            "Epoch 92/100\n",
            "300/300 [==============================] - 2s 8ms/step - loss: 0.0076 - mse: 0.0014 - mae: 0.0274 - rmse: 0.0370 - val_loss: 0.0083 - val_mse: 0.0024 - val_mae: 0.0363 - val_rmse: 0.0487\n",
            "Epoch 93/100\n",
            "300/300 [==============================] - 2s 8ms/step - loss: 0.0070 - mse: 0.0012 - mae: 0.0259 - rmse: 0.0342 - val_loss: 0.0076 - val_mse: 0.0020 - val_mae: 0.0327 - val_rmse: 0.0443\n",
            "Epoch 94/100\n",
            "300/300 [==============================] - 2s 8ms/step - loss: 0.0061 - mse: 6.4495e-04 - mae: 0.0190 - rmse: 0.0254 - val_loss: 0.0071 - val_mse: 0.0019 - val_mae: 0.0317 - val_rmse: 0.0430\n",
            "Epoch 95/100\n",
            "300/300 [==============================] - 2s 8ms/step - loss: 0.0057 - mse: 4.9466e-04 - mae: 0.0171 - rmse: 0.0222 - val_loss: 0.0069 - val_mse: 0.0019 - val_mae: 0.0315 - val_rmse: 0.0437\n",
            "Epoch 96/100\n",
            "300/300 [==============================] - 2s 8ms/step - loss: 0.0053 - mse: 4.4670e-04 - mae: 0.0157 - rmse: 0.0211 - val_loss: 0.0067 - val_mse: 0.0020 - val_mae: 0.0341 - val_rmse: 0.0446\n",
            "Epoch 97/100\n",
            "300/300 [==============================] - 2s 8ms/step - loss: 0.0051 - mse: 5.7569e-04 - mae: 0.0181 - rmse: 0.0240 - val_loss: 0.0070 - val_mse: 0.0026 - val_mae: 0.0368 - val_rmse: 0.0510\n",
            "Epoch 98/100\n",
            "300/300 [==============================] - 2s 8ms/step - loss: 0.0051 - mse: 7.8720e-04 - mae: 0.0217 - rmse: 0.0281 - val_loss: 0.0062 - val_mse: 0.0021 - val_mae: 0.0347 - val_rmse: 0.0460\n",
            "Epoch 99/100\n",
            "300/300 [==============================] - 2s 8ms/step - loss: 0.0048 - mse: 7.4758e-04 - mae: 0.0203 - rmse: 0.0273 - val_loss: 0.0060 - val_mse: 0.0021 - val_mae: 0.0337 - val_rmse: 0.0460\n",
            "Epoch 100/100\n",
            "300/300 [==============================] - 2s 8ms/step - loss: 0.0043 - mse: 4.6124e-04 - mae: 0.0160 - rmse: 0.0215 - val_loss: 0.0053 - val_mse: 0.0016 - val_mae: 0.0293 - val_rmse: 0.0400\n"
          ],
          "name": "stdout"
        }
      ]
    },
    {
      "cell_type": "code",
      "metadata": {
        "id": "C2q2h0tqqoCH",
        "colab_type": "code",
        "colab": {
          "base_uri": "https://localhost:8080/",
          "height": 851
        },
        "outputId": "e3886082-1a4d-4920-b9a4-0627552a6c3c"
      },
      "source": [
        "import matplotlib.pyplot as plt\n",
        "\n",
        "plt.plot(model_trained.history['mae'])\n",
        "plt.plot(model_trained.history['val_mae'])\n",
        "plt.title('Model Error')\n",
        "plt.ylabel('Mean Absolute Error')\n",
        "plt.xlabel('Epoch')\n",
        "plt.legend(['Training', 'Testing'], loc='upper left')\n",
        "plt.show()\n",
        "\n",
        "plt.plot(model_trained.history['rmse'])\n",
        "plt.plot(model_trained.history['val_rmse'])\n",
        "plt.title('Model Error')\n",
        "plt.ylabel('Root Mean Squared Error')\n",
        "plt.xlabel('Epoch')\n",
        "plt.legend(['Training', 'Testing'], loc='upper left')\n",
        "plt.show()\n",
        "\n",
        "plt.plot(model_trained.history['loss'])\n",
        "plt.plot(model_trained.history['val_loss'])\n",
        "plt.title('Model Loss')\n",
        "plt.ylabel('Loss')\n",
        "plt.xlabel('Epoch')\n",
        "plt.legend(['Train', 'Test'], loc='upper left')\n",
        "plt.show()"
      ],
      "execution_count": null,
      "outputs": [
        {
          "output_type": "display_data",
          "data": {
            "image/png": "[encoded data removed]",
            "text/plain": [
              "<Figure size 432x288 with 1 Axes>"
            ]
          },
          "metadata": {
            "tags": [],
            "needs_background": "light"
          }
        },
        {
          "output_type": "display_data",
          "data": {
            "image/png": "[encoded data removed]",
            "text/plain": [
              "<Figure size 432x288 with 1 Axes>"
            ]
          },
          "metadata": {
            "tags": [],
            "needs_background": "light"
          }
        },
        {
          "output_type": "display_data",
          "data": {
            "image/png": "[encoded data removed]",
            "text/plain": [
              "<Figure size 432x288 with 1 Axes>"
            ]
          },
          "metadata": {
            "tags": [],
            "needs_background": "light"
          }
        }
      ]
    },
    {
      "cell_type": "code",
      "metadata": {
        "id": "0mw3k2a-rExF",
        "colab_type": "code",
        "colab": {}
      },
      "source": [
        "def get_scores(output,y_true,scale=1):\n",
        "  scores = []\n",
        "  scores_h = []\n",
        "  collect = []\n",
        "  collect_h = []\n",
        "  count = 0\n",
        "  for i in range(len(output)):\n",
        "    count += 1\n",
        "    collect.append(output[i])\n",
        "    collect_h.append(y_true[i])\n",
        "    if count % 4 == 0:\n",
        "      # collect = collect*25\n",
        "      score = np.sum(collect)\n",
        "      score_h = np.sum(collect_h)\n",
        "      score = np.round(np.mean(collect)*scale)\n",
        "      score_h = np.mean(collect_h)*scale\n",
        "      scores.append(score)\n",
        "      scores_h.append(score_h)\n",
        "      collect = []\n",
        "      collect_h = []\n",
        "\n",
        "  def accuracy(pred,data):\n",
        "    if data == 0 and pred > 0:\n",
        "      return 0\n",
        "    elif data == 0 and pred == 0:\n",
        "      return 100\n",
        "    else:\n",
        "      return 100-(np.abs(pred-data)/data)*100\n",
        "\n",
        "  accuracies = []\n",
        "  for i in range(len(scores)):\n",
        "    acc = accuracy(scores[i],scores_h[i])\n",
        "    accuracies.append(acc)\n",
        "\n",
        "  # print(accuracies)\n",
        "\n",
        "  data = {'Human Rater':scores_h, 'Model':scores, 'Accuracy':accuracies}\n",
        "  table = pd.DataFrame(data)\n",
        "  # print(table)\n",
        "  return table"
      ],
      "execution_count": null,
      "outputs": []
    },
    {
      "cell_type": "code",
      "metadata": {
        "id": "dH0Zv8bkdD-O",
        "colab_type": "code",
        "colab": {
          "base_uri": "https://localhost:8080/",
          "height": 678
        },
        "outputId": "474202c6-fd8e-46a4-c370-f3ba0bb7b57d"
      },
      "source": [
        "model_output = model.predict([X_l_te1, X_r_te1])\n",
        "model_score = get_scores(model_output,Y_te1,100)\n",
        "print(model_score)"
      ],
      "execution_count": null,
      "outputs": [
        {
          "output_type": "stream",
          "text": [
            "    Human Rater  Model    Accuracy\n",
            "0          10.0   18.0   20.000000\n",
            "1           0.0    2.0    0.000000\n",
            "2         100.0  100.0  100.000000\n",
            "3          90.0   87.0   96.666667\n",
            "4          80.0   64.0   80.000000\n",
            "5          70.0   59.0   84.285714\n",
            "6          60.0   47.0   78.333333\n",
            "7          50.0   43.0   86.000000\n",
            "8          40.0   32.0   80.000000\n",
            "9          30.0   24.0   80.000000\n",
            "10         20.0   23.0   85.000000\n",
            "11         10.0   20.0    0.000000\n",
            "12          0.0    1.0    0.000000\n",
            "13        100.0  100.0  100.000000\n",
            "14         90.0   83.0   92.222222\n",
            "15         80.0   63.0   78.750000\n",
            "16         70.0   51.0   72.857143\n",
            "17         60.0   44.0   73.333333\n",
            "18         50.0   50.0  100.000000\n",
            "19         40.0   37.0   92.500000\n",
            "20         30.0   25.0   83.333333\n",
            "21         20.0   24.0   80.000000\n",
            "22         10.0   18.0   20.000000\n",
            "23          0.0    2.0    0.000000\n",
            "24        100.0  100.0  100.000000\n",
            "25         90.0   86.0   95.555556\n",
            "26         80.0   64.0   80.000000\n",
            "27         70.0   49.0   70.000000\n",
            "28         60.0   52.0   86.666667\n",
            "29         50.0   30.0   60.000000\n",
            "30         40.0   37.0   92.500000\n",
            "31         30.0   31.0   96.666667\n",
            "32         20.0   28.0   60.000000\n",
            "33         10.0   28.0  -80.000000\n",
            "34          0.0    1.0    0.000000\n"
          ],
          "name": "stdout"
        }
      ]
    },
    {
      "cell_type": "code",
      "metadata": {
        "id": "Sh0FvkPlgvR8",
        "colab_type": "code",
        "colab": {
          "base_uri": "https://localhost:8080/",
          "height": 274
        },
        "outputId": "becddae6-4e31-45ce-a9df-24062d39944d"
      },
      "source": [
        "model_training_output = model.predict([X_l_t1,X_r_t1])\n",
        "training_score = get_scores(model_training_output,Y_t1,100)\n",
        "print(training_score)"
      ],
      "execution_count": null,
      "outputs": [
        {
          "output_type": "stream",
          "text": [
            "    Human Rater  Model    Accuracy\n",
            "0         100.0  100.0  100.000000\n",
            "1          90.0   89.0   98.888889\n",
            "2          80.0   80.0  100.000000\n",
            "3          70.0   70.0  100.000000\n",
            "4          60.0   60.0  100.000000\n",
            "..          ...    ...         ...\n",
            "70         60.0   60.0  100.000000\n",
            "71         50.0   50.0  100.000000\n",
            "72         40.0   40.0  100.000000\n",
            "73         30.0   30.0  100.000000\n",
            "74         20.0   20.0  100.000000\n",
            "\n",
            "[75 rows x 3 columns]\n"
          ],
          "name": "stdout"
        }
      ]
    },
    {
      "cell_type": "code",
      "metadata": {
        "id": "ATdfJiB4heXG",
        "colab_type": "code",
        "colab": {
          "base_uri": "https://localhost:8080/",
          "height": 127
        },
        "outputId": "8c221e6b-fc51-4623-e5ad-b03e147fc532"
      },
      "source": [
        "X_l_t2,X_l_te2,X_r_t2,X_r_te2,Y_t2,Y_te2 = train_test_split(X_l_t_k,X_r_t_k,Y_train1_k,test_size=0.318,shuffle=False)\n",
        "\n",
        "print(len(X_l_t2))\n",
        "print(len(X_r_t2))\n",
        "print(len(X_l_te2))\n",
        "print(len(X_r_te2))\n",
        "print(len(Y_t2))\n",
        "print(len(Y_te2))"
      ],
      "execution_count": null,
      "outputs": [
        {
          "output_type": "stream",
          "text": [
            "300\n",
            "300\n",
            "140\n",
            "140\n",
            "300\n",
            "140\n"
          ],
          "name": "stdout"
        }
      ]
    },
    {
      "cell_type": "code",
      "metadata": {
        "id": "5tbB8L2oiIkb",
        "colab_type": "code",
        "colab": {
          "base_uri": "https://localhost:8080/",
          "height": 1000
        },
        "outputId": "50234c74-7d58-4b8b-845b-8a9e54e39a01"
      },
      "source": [
        "model2 = get_model()\n",
        "model_trained2 = model2.fit([X_l_t2,X_r_t2],Y_t2,batch_size=32,epochs=150,validation_data=([X_l_te2,X_r_te2],Y_te2), callbacks=[reduce_lr])"
      ],
      "execution_count": null,
      "outputs": [
        {
          "output_type": "stream",
          "text": [
            "/usr/local/lib/python3.6/dist-packages/tensorflow/python/framework/indexed_slices.py:434: UserWarning: Converting sparse IndexedSlices to a dense Tensor of unknown shape. This may consume a large amount of memory.\n",
            "  \"Converting sparse IndexedSlices to a dense Tensor of unknown shape. \"\n"
          ],
          "name": "stderr"
        },
        {
          "output_type": "stream",
          "text": [
            "Train on 300 samples, validate on 140 samples\n",
            "Epoch 1/150\n",
            "300/300 [==============================] - 5s 17ms/step - loss: 0.0943 - mae: 0.2356 - val_loss: 0.0718 - val_mae: 0.1974\n",
            "Epoch 2/150\n",
            "300/300 [==============================] - 3s 9ms/step - loss: 0.0712 - mae: 0.2004 - val_loss: 0.0561 - val_mae: 0.1736\n",
            "Epoch 3/150\n",
            "300/300 [==============================] - 3s 9ms/step - loss: 0.0532 - mae: 0.1698 - val_loss: 0.0446 - val_mae: 0.1563\n",
            "Epoch 4/150\n",
            "300/300 [==============================] - 3s 9ms/step - loss: 0.0398 - mae: 0.1465 - val_loss: 0.0368 - val_mae: 0.1432\n",
            "Epoch 5/150\n",
            "300/300 [==============================] - 3s 9ms/step - loss: 0.0317 - mae: 0.1307 - val_loss: 0.0316 - val_mae: 0.1331\n",
            "Epoch 6/150\n",
            "300/300 [==============================] - 3s 9ms/step - loss: 0.0256 - mae: 0.1187 - val_loss: 0.0284 - val_mae: 0.1261\n",
            "Epoch 7/150\n",
            "300/300 [==============================] - 3s 9ms/step - loss: 0.0219 - mae: 0.1105 - val_loss: 0.0265 - val_mae: 0.1220\n",
            "Epoch 8/150\n",
            "300/300 [==============================] - 3s 9ms/step - loss: 0.0192 - mae: 0.1041 - val_loss: 0.0252 - val_mae: 0.1194\n",
            "Epoch 9/150\n",
            "300/300 [==============================] - 3s 9ms/step - loss: 0.0174 - mae: 0.0991 - val_loss: 0.0244 - val_mae: 0.1177\n",
            "Epoch 10/150\n",
            "300/300 [==============================] - 3s 9ms/step - loss: 0.0158 - mae: 0.0948 - val_loss: 0.0237 - val_mae: 0.1156\n",
            "Epoch 11/150\n",
            "300/300 [==============================] - 3s 9ms/step - loss: 0.0145 - mae: 0.0909 - val_loss: 0.0231 - val_mae: 0.1141\n",
            "Epoch 12/150\n",
            "300/300 [==============================] - 3s 9ms/step - loss: 0.0134 - mae: 0.0877 - val_loss: 0.0226 - val_mae: 0.1127\n",
            "Epoch 13/150\n",
            "300/300 [==============================] - 3s 9ms/step - loss: 0.0124 - mae: 0.0845 - val_loss: 0.0222 - val_mae: 0.1113\n",
            "Epoch 14/150\n",
            "300/300 [==============================] - 3s 9ms/step - loss: 0.0117 - mae: 0.0816 - val_loss: 0.0218 - val_mae: 0.1098\n",
            "Epoch 15/150\n",
            "300/300 [==============================] - 3s 9ms/step - loss: 0.0109 - mae: 0.0787 - val_loss: 0.0215 - val_mae: 0.1086\n",
            "Epoch 16/150\n",
            "300/300 [==============================] - 3s 9ms/step - loss: 0.0101 - mae: 0.0758 - val_loss: 0.0210 - val_mae: 0.1069\n",
            "Epoch 17/150\n",
            "300/300 [==============================] - 3s 9ms/step - loss: 0.0094 - mae: 0.0730 - val_loss: 0.0205 - val_mae: 0.1053\n",
            "Epoch 18/150\n",
            "300/300 [==============================] - 3s 9ms/step - loss: 0.0088 - mae: 0.0702 - val_loss: 0.0201 - val_mae: 0.1042\n",
            "Epoch 19/150\n",
            "300/300 [==============================] - 3s 9ms/step - loss: 0.0082 - mae: 0.0677 - val_loss: 0.0196 - val_mae: 0.1027\n",
            "Epoch 20/150\n",
            "300/300 [==============================] - 3s 9ms/step - loss: 0.0077 - mae: 0.0657 - val_loss: 0.0192 - val_mae: 0.1017\n",
            "Epoch 21/150\n",
            "300/300 [==============================] - 3s 9ms/step - loss: 0.0072 - mae: 0.0636 - val_loss: 0.0188 - val_mae: 0.1005\n",
            "Epoch 22/150\n",
            "300/300 [==============================] - 3s 9ms/step - loss: 0.0069 - mae: 0.0621 - val_loss: 0.0185 - val_mae: 0.1001\n",
            "Epoch 23/150\n",
            "300/300 [==============================] - 3s 9ms/step - loss: 0.0064 - mae: 0.0599 - val_loss: 0.0181 - val_mae: 0.0986\n",
            "Epoch 24/150\n",
            "300/300 [==============================] - 3s 9ms/step - loss: 0.0061 - mae: 0.0584 - val_loss: 0.0179 - val_mae: 0.0982\n",
            "Epoch 25/150\n",
            "300/300 [==============================] - 3s 9ms/step - loss: 0.0057 - mae: 0.0564 - val_loss: 0.0178 - val_mae: 0.0977\n",
            "Epoch 26/150\n",
            "300/300 [==============================] - 3s 9ms/step - loss: 0.0055 - mae: 0.0550 - val_loss: 0.0177 - val_mae: 0.0971\n",
            "Epoch 27/150\n",
            "300/300 [==============================] - 3s 9ms/step - loss: 0.0051 - mae: 0.0533 - val_loss: 0.0173 - val_mae: 0.0962\n",
            "Epoch 28/150\n",
            "300/300 [==============================] - 3s 9ms/step - loss: 0.0049 - mae: 0.0522 - val_loss: 0.0171 - val_mae: 0.0958\n",
            "Epoch 29/150\n",
            "300/300 [==============================] - 3s 9ms/step - loss: 0.0046 - mae: 0.0507 - val_loss: 0.0170 - val_mae: 0.0954\n",
            "Epoch 30/150\n",
            "300/300 [==============================] - 3s 9ms/step - loss: 0.0044 - mae: 0.0498 - val_loss: 0.0167 - val_mae: 0.0944\n",
            "Epoch 31/150\n",
            "300/300 [==============================] - 4s 13ms/step - loss: 0.0042 - mae: 0.0477 - val_loss: 0.0170 - val_mae: 0.0955\n",
            "Epoch 32/150\n",
            "300/300 [==============================] - 4s 13ms/step - loss: 0.0040 - mae: 0.0467 - val_loss: 0.0167 - val_mae: 0.0942\n",
            "Epoch 33/150\n",
            "300/300 [==============================] - 3s 9ms/step - loss: 0.0038 - mae: 0.0455 - val_loss: 0.0165 - val_mae: 0.0941\n",
            "Epoch 34/150\n",
            "300/300 [==============================] - 3s 9ms/step - loss: 0.0036 - mae: 0.0442 - val_loss: 0.0163 - val_mae: 0.0934\n",
            "Epoch 35/150\n",
            "300/300 [==============================] - 3s 9ms/step - loss: 0.0034 - mae: 0.0431 - val_loss: 0.0163 - val_mae: 0.0931\n",
            "Epoch 36/150\n",
            "300/300 [==============================] - 3s 9ms/step - loss: 0.0032 - mae: 0.0417 - val_loss: 0.0161 - val_mae: 0.0927\n",
            "Epoch 37/150\n",
            "300/300 [==============================] - 3s 9ms/step - loss: 0.0031 - mae: 0.0408 - val_loss: 0.0160 - val_mae: 0.0924\n",
            "Epoch 38/150\n",
            "300/300 [==============================] - 3s 9ms/step - loss: 0.0029 - mae: 0.0396 - val_loss: 0.0160 - val_mae: 0.0924\n",
            "Epoch 39/150\n",
            "300/300 [==============================] - 3s 9ms/step - loss: 0.0028 - mae: 0.0384 - val_loss: 0.0159 - val_mae: 0.0921\n",
            "Epoch 40/150\n",
            "300/300 [==============================] - 3s 9ms/step - loss: 0.0027 - mae: 0.0375 - val_loss: 0.0157 - val_mae: 0.0917\n",
            "Epoch 41/150\n",
            "300/300 [==============================] - 3s 9ms/step - loss: 0.0025 - mae: 0.0366 - val_loss: 0.0158 - val_mae: 0.0918\n",
            "Epoch 42/150\n",
            "300/300 [==============================] - 3s 9ms/step - loss: 0.0024 - mae: 0.0355 - val_loss: 0.0156 - val_mae: 0.0912\n",
            "Epoch 43/150\n",
            "300/300 [==============================] - 3s 9ms/step - loss: 0.0023 - mae: 0.0352 - val_loss: 0.0156 - val_mae: 0.0919\n",
            "Epoch 44/150\n",
            "300/300 [==============================] - 3s 9ms/step - loss: 0.0022 - mae: 0.0340 - val_loss: 0.0154 - val_mae: 0.0911\n",
            "Epoch 45/150\n",
            "300/300 [==============================] - 3s 9ms/step - loss: 0.0021 - mae: 0.0337 - val_loss: 0.0154 - val_mae: 0.0911\n",
            "Epoch 46/150\n",
            "300/300 [==============================] - 3s 9ms/step - loss: 0.0020 - mae: 0.0321 - val_loss: 0.0154 - val_mae: 0.0910\n",
            "Epoch 47/150\n",
            "300/300 [==============================] - 3s 9ms/step - loss: 0.0019 - mae: 0.0323 - val_loss: 0.0152 - val_mae: 0.0905\n",
            "Epoch 48/150\n",
            "300/300 [==============================] - 3s 9ms/step - loss: 0.0018 - mae: 0.0308 - val_loss: 0.0153 - val_mae: 0.0906\n",
            "Epoch 49/150\n",
            "300/300 [==============================] - 3s 9ms/step - loss: 0.0017 - mae: 0.0300 - val_loss: 0.0151 - val_mae: 0.0900\n",
            "Epoch 50/150\n",
            "300/300 [==============================] - 3s 9ms/step - loss: 0.0017 - mae: 0.0298 - val_loss: 0.0153 - val_mae: 0.0908\n",
            "Epoch 51/150\n",
            "300/300 [==============================] - 3s 9ms/step - loss: 0.0016 - mae: 0.0285 - val_loss: 0.0151 - val_mae: 0.0900\n",
            "Epoch 52/150\n",
            "300/300 [==============================] - 3s 9ms/step - loss: 0.0015 - mae: 0.0281 - val_loss: 0.0149 - val_mae: 0.0897\n",
            "Epoch 53/150\n",
            "300/300 [==============================] - 3s 9ms/step - loss: 0.0014 - mae: 0.0270 - val_loss: 0.0151 - val_mae: 0.0905\n",
            "Epoch 54/150\n",
            "300/300 [==============================] - 3s 9ms/step - loss: 0.0014 - mae: 0.0274 - val_loss: 0.0151 - val_mae: 0.0902\n",
            "Epoch 55/150\n",
            "300/300 [==============================] - 3s 9ms/step - loss: 0.0013 - mae: 0.0262 - val_loss: 0.0149 - val_mae: 0.0896\n",
            "Epoch 56/150\n",
            "300/300 [==============================] - 3s 9ms/step - loss: 0.0012 - mae: 0.0256 - val_loss: 0.0151 - val_mae: 0.0905\n",
            "Epoch 57/150\n",
            "300/300 [==============================] - 3s 9ms/step - loss: 0.0012 - mae: 0.0247 - val_loss: 0.0150 - val_mae: 0.0898\n",
            "Epoch 58/150\n",
            "300/300 [==============================] - 3s 9ms/step - loss: 0.0011 - mae: 0.0234 - val_loss: 0.0149 - val_mae: 0.0897\n",
            "Epoch 59/150\n",
            "300/300 [==============================] - 3s 9ms/step - loss: 0.0010 - mae: 0.0230 - val_loss: 0.0149 - val_mae: 0.0899\n",
            "Epoch 60/150\n",
            "300/300 [==============================] - 3s 9ms/step - loss: 9.9988e-04 - mae: 0.0226 - val_loss: 0.0148 - val_mae: 0.0893\n",
            "Epoch 61/150\n",
            "300/300 [==============================] - 3s 9ms/step - loss: 9.5326e-04 - mae: 0.0218 - val_loss: 0.0147 - val_mae: 0.0893\n",
            "Epoch 62/150\n",
            "300/300 [==============================] - 3s 9ms/step - loss: 8.7807e-04 - mae: 0.0207 - val_loss: 0.0147 - val_mae: 0.0886\n",
            "Epoch 63/150\n",
            "300/300 [==============================] - 3s 9ms/step - loss: 8.5025e-04 - mae: 0.0206 - val_loss: 0.0149 - val_mae: 0.0894\n",
            "Epoch 64/150\n",
            "300/300 [==============================] - 3s 9ms/step - loss: 8.0211e-04 - mae: 0.0199 - val_loss: 0.0146 - val_mae: 0.0885\n",
            "Epoch 65/150\n",
            "300/300 [==============================] - 3s 9ms/step - loss: 7.6139e-04 - mae: 0.0192 - val_loss: 0.0146 - val_mae: 0.0886\n",
            "Epoch 66/150\n",
            "300/300 [==============================] - 3s 9ms/step - loss: 7.3802e-04 - mae: 0.0190 - val_loss: 0.0146 - val_mae: 0.0885\n",
            "Epoch 67/150\n",
            "300/300 [==============================] - 3s 9ms/step - loss: 7.0367e-04 - mae: 0.0180 - val_loss: 0.0145 - val_mae: 0.0881\n",
            "Epoch 68/150\n",
            "300/300 [==============================] - 3s 9ms/step - loss: 6.8172e-04 - mae: 0.0182 - val_loss: 0.0144 - val_mae: 0.0879\n",
            "Epoch 69/150\n",
            "300/300 [==============================] - 3s 9ms/step - loss: 6.5737e-04 - mae: 0.0177 - val_loss: 0.0145 - val_mae: 0.0878\n",
            "Epoch 70/150\n",
            "300/300 [==============================] - 3s 9ms/step - loss: 6.1858e-04 - mae: 0.0173 - val_loss: 0.0143 - val_mae: 0.0872\n",
            "Epoch 71/150\n",
            "300/300 [==============================] - 3s 9ms/step - loss: 5.7070e-04 - mae: 0.0164 - val_loss: 0.0143 - val_mae: 0.0872\n",
            "Epoch 72/150\n",
            "300/300 [==============================] - 3s 9ms/step - loss: 5.5703e-04 - mae: 0.0162 - val_loss: 0.0143 - val_mae: 0.0871\n",
            "Epoch 73/150\n",
            "300/300 [==============================] - 3s 9ms/step - loss: 5.1799e-04 - mae: 0.0154 - val_loss: 0.0143 - val_mae: 0.0870\n",
            "Epoch 74/150\n",
            "300/300 [==============================] - 3s 9ms/step - loss: 5.0612e-04 - mae: 0.0153 - val_loss: 0.0144 - val_mae: 0.0871\n",
            "Epoch 75/150\n",
            "300/300 [==============================] - 3s 9ms/step - loss: 4.6659e-04 - mae: 0.0146 - val_loss: 0.0143 - val_mae: 0.0870\n",
            "Epoch 76/150\n",
            "300/300 [==============================] - 3s 9ms/step - loss: 4.5342e-04 - mae: 0.0145 - val_loss: 0.0142 - val_mae: 0.0863\n",
            "Epoch 77/150\n",
            "300/300 [==============================] - 3s 9ms/step - loss: 4.3350e-04 - mae: 0.0141 - val_loss: 0.0142 - val_mae: 0.0865\n",
            "Epoch 78/150\n",
            "300/300 [==============================] - 3s 9ms/step - loss: 4.0688e-04 - mae: 0.0134 - val_loss: 0.0140 - val_mae: 0.0858\n",
            "Epoch 79/150\n",
            "300/300 [==============================] - 3s 9ms/step - loss: 3.9746e-04 - mae: 0.0134 - val_loss: 0.0143 - val_mae: 0.0865\n",
            "Epoch 80/150\n",
            "300/300 [==============================] - 3s 9ms/step - loss: 3.8580e-04 - mae: 0.0136 - val_loss: 0.0141 - val_mae: 0.0856\n",
            "Epoch 81/150\n",
            "300/300 [==============================] - 3s 9ms/step - loss: 3.5827e-04 - mae: 0.0127 - val_loss: 0.0142 - val_mae: 0.0862\n",
            "Epoch 82/150\n",
            "300/300 [==============================] - 3s 9ms/step - loss: 3.4523e-04 - mae: 0.0123 - val_loss: 0.0141 - val_mae: 0.0857\n",
            "Epoch 83/150\n",
            "300/300 [==============================] - 3s 9ms/step - loss: 3.2672e-04 - mae: 0.0119 - val_loss: 0.0142 - val_mae: 0.0862\n",
            "Epoch 84/150\n",
            "300/300 [==============================] - 3s 9ms/step - loss: 3.1536e-04 - mae: 0.0118 - val_loss: 0.0141 - val_mae: 0.0858\n",
            "Epoch 85/150\n",
            "300/300 [==============================] - 3s 9ms/step - loss: 3.0259e-04 - mae: 0.0116 - val_loss: 0.0141 - val_mae: 0.0857\n",
            "Epoch 86/150\n",
            "300/300 [==============================] - 3s 9ms/step - loss: 2.9679e-04 - mae: 0.0116 - val_loss: 0.0143 - val_mae: 0.0860\n",
            "Epoch 87/150\n",
            "300/300 [==============================] - 3s 9ms/step - loss: 3.0665e-04 - mae: 0.0122 - val_loss: 0.0138 - val_mae: 0.0850\n",
            "Epoch 88/150\n",
            "300/300 [==============================] - 3s 9ms/step - loss: 2.8847e-04 - mae: 0.0112 - val_loss: 0.0143 - val_mae: 0.0862\n",
            "Epoch 89/150\n",
            "300/300 [==============================] - 3s 9ms/step - loss: 2.7930e-04 - mae: 0.0114 - val_loss: 0.0139 - val_mae: 0.0851\n",
            "Epoch 90/150\n",
            "300/300 [==============================] - 3s 9ms/step - loss: 2.5153e-04 - mae: 0.0103 - val_loss: 0.0142 - val_mae: 0.0856\n",
            "Epoch 91/150\n",
            "300/300 [==============================] - 3s 9ms/step - loss: 2.3567e-04 - mae: 0.0099 - val_loss: 0.0140 - val_mae: 0.0852\n",
            "Epoch 92/150\n",
            "300/300 [==============================] - 3s 9ms/step - loss: 2.2889e-04 - mae: 0.0101 - val_loss: 0.0140 - val_mae: 0.0853\n",
            "Epoch 93/150\n",
            "300/300 [==============================] - 3s 9ms/step - loss: 2.0774e-04 - mae: 0.0091 - val_loss: 0.0140 - val_mae: 0.0853\n",
            "Epoch 94/150\n",
            "300/300 [==============================] - 3s 9ms/step - loss: 2.0725e-04 - mae: 0.0094 - val_loss: 0.0140 - val_mae: 0.0852\n",
            "Epoch 95/150\n",
            "300/300 [==============================] - 3s 9ms/step - loss: 1.9981e-04 - mae: 0.0089 - val_loss: 0.0141 - val_mae: 0.0854\n",
            "Epoch 96/150\n",
            "300/300 [==============================] - 3s 9ms/step - loss: 1.9487e-04 - mae: 0.0090 - val_loss: 0.0138 - val_mae: 0.0847\n",
            "Epoch 97/150\n",
            "300/300 [==============================] - 3s 9ms/step - loss: 1.9026e-04 - mae: 0.0088 - val_loss: 0.0140 - val_mae: 0.0853\n",
            "Epoch 98/150\n",
            "300/300 [==============================] - 3s 9ms/step - loss: 1.7606e-04 - mae: 0.0085 - val_loss: 0.0141 - val_mae: 0.0854\n",
            "Epoch 99/150\n",
            "300/300 [==============================] - 3s 9ms/step - loss: 1.6970e-04 - mae: 0.0084 - val_loss: 0.0139 - val_mae: 0.0848\n",
            "Epoch 100/150\n",
            "300/300 [==============================] - 3s 9ms/step - loss: 1.5906e-04 - mae: 0.0079 - val_loss: 0.0141 - val_mae: 0.0854\n",
            "Epoch 101/150\n",
            "300/300 [==============================] - 3s 9ms/step - loss: 1.5761e-04 - mae: 0.0079 - val_loss: 0.0140 - val_mae: 0.0850\n",
            "Epoch 102/150\n",
            "300/300 [==============================] - 3s 9ms/step - loss: 1.5221e-04 - mae: 0.0078 - val_loss: 0.0139 - val_mae: 0.0849\n",
            "Epoch 103/150\n",
            "300/300 [==============================] - 3s 9ms/step - loss: 1.4799e-04 - mae: 0.0075 - val_loss: 0.0141 - val_mae: 0.0854\n",
            "Epoch 104/150\n",
            "300/300 [==============================] - 3s 9ms/step - loss: 1.3759e-04 - mae: 0.0072 - val_loss: 0.0139 - val_mae: 0.0848\n",
            "Epoch 105/150\n",
            "300/300 [==============================] - 3s 9ms/step - loss: 1.3490e-04 - mae: 0.0074 - val_loss: 0.0140 - val_mae: 0.0850\n",
            "Epoch 106/150\n",
            "300/300 [==============================] - 3s 9ms/step - loss: 1.3130e-04 - mae: 0.0069 - val_loss: 0.0140 - val_mae: 0.0851\n",
            "Epoch 107/150\n",
            "300/300 [==============================] - 3s 9ms/step - loss: 1.2342e-04 - mae: 0.0068 - val_loss: 0.0140 - val_mae: 0.0849\n",
            "Epoch 108/150\n",
            "300/300 [==============================] - 3s 9ms/step - loss: 1.2060e-04 - mae: 0.0067 - val_loss: 0.0141 - val_mae: 0.0854\n",
            "Epoch 109/150\n",
            "300/300 [==============================] - 3s 9ms/step - loss: 1.2080e-04 - mae: 0.0067 - val_loss: 0.0141 - val_mae: 0.0853\n",
            "Epoch 110/150\n",
            "300/300 [==============================] - 3s 9ms/step - loss: 1.3232e-04 - mae: 0.0077 - val_loss: 0.0140 - val_mae: 0.0848\n",
            "Epoch 111/150\n",
            "300/300 [==============================] - 3s 9ms/step - loss: 1.3216e-04 - mae: 0.0073 - val_loss: 0.0139 - val_mae: 0.0849\n",
            "Epoch 112/150\n",
            "300/300 [==============================] - 3s 9ms/step - loss: 1.1936e-04 - mae: 0.0069 - val_loss: 0.0140 - val_mae: 0.0850\n",
            "Epoch 113/150\n",
            "300/300 [==============================] - 3s 9ms/step - loss: 1.0526e-04 - mae: 0.0062 - val_loss: 0.0140 - val_mae: 0.0851\n",
            "Epoch 114/150\n",
            "300/300 [==============================] - 3s 9ms/step - loss: 9.9118e-05 - mae: 0.0062 - val_loss: 0.0140 - val_mae: 0.0850\n",
            "Epoch 115/150\n",
            "300/300 [==============================] - 3s 9ms/step - loss: 9.3832e-05 - mae: 0.0059 - val_loss: 0.0141 - val_mae: 0.0850\n",
            "Epoch 116/150\n",
            "300/300 [==============================] - 3s 9ms/step - loss: 9.2017e-05 - mae: 0.0056 - val_loss: 0.0140 - val_mae: 0.0850\n",
            "Epoch 117/150\n",
            "300/300 [==============================] - 3s 9ms/step - loss: 8.7062e-05 - mae: 0.0055 - val_loss: 0.0141 - val_mae: 0.0850\n",
            "Epoch 118/150\n",
            "300/300 [==============================] - 3s 9ms/step - loss: 8.5552e-05 - mae: 0.0054 - val_loss: 0.0141 - val_mae: 0.0850\n",
            "Epoch 119/150\n",
            "300/300 [==============================] - 3s 9ms/step - loss: 8.2398e-05 - mae: 0.0054 - val_loss: 0.0141 - val_mae: 0.0850\n",
            "Epoch 120/150\n",
            "300/300 [==============================] - 3s 9ms/step - loss: 8.2226e-05 - mae: 0.0053 - val_loss: 0.0140 - val_mae: 0.0849\n",
            "Epoch 121/150\n",
            "300/300 [==============================] - 3s 9ms/step - loss: 7.6811e-05 - mae: 0.0051 - val_loss: 0.0140 - val_mae: 0.0850\n",
            "Epoch 122/150\n",
            "300/300 [==============================] - 3s 9ms/step - loss: 7.6428e-05 - mae: 0.0052 - val_loss: 0.0141 - val_mae: 0.0850\n",
            "Epoch 123/150\n",
            "300/300 [==============================] - 3s 9ms/step - loss: 7.3896e-05 - mae: 0.0052 - val_loss: 0.0141 - val_mae: 0.0850\n",
            "Epoch 124/150\n",
            "300/300 [==============================] - 3s 9ms/step - loss: 7.0433e-05 - mae: 0.0050 - val_loss: 0.0141 - val_mae: 0.0850\n",
            "Epoch 125/150\n",
            "300/300 [==============================] - 3s 9ms/step - loss: 6.8669e-05 - mae: 0.0050 - val_loss: 0.0141 - val_mae: 0.0850\n",
            "Epoch 126/150\n",
            "300/300 [==============================] - 3s 9ms/step - loss: 6.6949e-05 - mae: 0.0048 - val_loss: 0.0141 - val_mae: 0.0849\n",
            "Epoch 127/150\n",
            "300/300 [==============================] - 3s 9ms/step - loss: 7.4984e-05 - mae: 0.0055 - val_loss: 0.0142 - val_mae: 0.0851\n",
            "Epoch 128/150\n",
            "300/300 [==============================] - 3s 9ms/step - loss: 7.0011e-05 - mae: 0.0052 - val_loss: 0.0141 - val_mae: 0.0849\n",
            "Epoch 129/150\n",
            "300/300 [==============================] - 3s 9ms/step - loss: 7.0646e-05 - mae: 0.0053 - val_loss: 0.0142 - val_mae: 0.0853\n",
            "Epoch 130/150\n",
            "300/300 [==============================] - 3s 9ms/step - loss: 6.9995e-05 - mae: 0.0056 - val_loss: 0.0139 - val_mae: 0.0847\n",
            "Epoch 131/150\n",
            "300/300 [==============================] - 3s 9ms/step - loss: 6.7779e-05 - mae: 0.0054 - val_loss: 0.0141 - val_mae: 0.0851\n",
            "Epoch 132/150\n",
            "300/300 [==============================] - 3s 9ms/step - loss: 6.3786e-05 - mae: 0.0050 - val_loss: 0.0139 - val_mae: 0.0847\n",
            "Epoch 133/150\n",
            "300/300 [==============================] - 3s 9ms/step - loss: 6.9037e-05 - mae: 0.0055 - val_loss: 0.0142 - val_mae: 0.0850\n",
            "Epoch 134/150\n",
            "300/300 [==============================] - 3s 9ms/step - loss: 6.5758e-05 - mae: 0.0053 - val_loss: 0.0141 - val_mae: 0.0849\n",
            "Epoch 135/150\n",
            "300/300 [==============================] - 3s 9ms/step - loss: 5.3806e-05 - mae: 0.0046 - val_loss: 0.0142 - val_mae: 0.0850\n",
            "Epoch 136/150\n",
            "300/300 [==============================] - 3s 9ms/step - loss: 5.2575e-05 - mae: 0.0045 - val_loss: 0.0140 - val_mae: 0.0847\n",
            "Epoch 137/150\n",
            "300/300 [==============================] - 3s 9ms/step - loss: 5.0297e-05 - mae: 0.0043 - val_loss: 0.0141 - val_mae: 0.0851\n",
            "Epoch 138/150\n",
            "300/300 [==============================] - 3s 9ms/step - loss: 5.1308e-05 - mae: 0.0045 - val_loss: 0.0141 - val_mae: 0.0850\n",
            "Epoch 139/150\n",
            "300/300 [==============================] - 3s 9ms/step - loss: 5.2332e-05 - mae: 0.0045 - val_loss: 0.0142 - val_mae: 0.0853\n",
            "Epoch 140/150\n",
            "300/300 [==============================] - 3s 9ms/step - loss: 4.7202e-05 - mae: 0.0043 - val_loss: 0.0140 - val_mae: 0.0849\n",
            "Epoch 141/150\n",
            "300/300 [==============================] - 3s 9ms/step - loss: 4.4222e-05 - mae: 0.0041 - val_loss: 0.0141 - val_mae: 0.0850\n",
            "Epoch 142/150\n",
            "300/300 [==============================] - 3s 9ms/step - loss: 4.0415e-05 - mae: 0.0038 - val_loss: 0.0141 - val_mae: 0.0850\n",
            "Epoch 143/150\n",
            "300/300 [==============================] - 3s 9ms/step - loss: 3.9498e-05 - mae: 0.0037 - val_loss: 0.0141 - val_mae: 0.0851\n",
            "Epoch 144/150\n",
            "300/300 [==============================] - 3s 9ms/step - loss: 3.7777e-05 - mae: 0.0035 - val_loss: 0.0142 - val_mae: 0.0853\n",
            "Epoch 145/150\n",
            "300/300 [==============================] - 3s 9ms/step - loss: 3.7433e-05 - mae: 0.0035 - val_loss: 0.0141 - val_mae: 0.0851\n",
            "Epoch 146/150\n",
            "300/300 [==============================] - 3s 9ms/step - loss: 3.8135e-05 - mae: 0.0038 - val_loss: 0.0141 - val_mae: 0.0850\n",
            "Epoch 147/150\n",
            "300/300 [==============================] - 3s 9ms/step - loss: 3.7707e-05 - mae: 0.0039 - val_loss: 0.0141 - val_mae: 0.0849\n",
            "Epoch 148/150\n",
            "300/300 [==============================] - 3s 9ms/step - loss: 3.5827e-05 - mae: 0.0036 - val_loss: 0.0141 - val_mae: 0.0851\n",
            "Epoch 149/150\n",
            "300/300 [==============================] - 3s 9ms/step - loss: 3.6051e-05 - mae: 0.0036 - val_loss: 0.0142 - val_mae: 0.0853\n",
            "Epoch 150/150\n",
            "300/300 [==============================] - 3s 9ms/step - loss: 3.6517e-05 - mae: 0.0039 - val_loss: 0.0142 - val_mae: 0.0852\n"
          ],
          "name": "stdout"
        }
      ]
    },
    {
      "cell_type": "code",
      "metadata": {
        "id": "49o0jHFEli-C",
        "colab_type": "code",
        "colab": {
          "base_uri": "https://localhost:8080/",
          "height": 573
        },
        "outputId": "341f5674-5c15-4d1e-c4b1-06ee88518655"
      },
      "source": [
        "plt.plot(model_trained2.history['mae'])\n",
        "plt.plot(model_trained2.history['val_mae'])\n",
        "plt.title('Model Error')\n",
        "plt.ylabel('Mean Absolute Error')\n",
        "plt.xlabel('Epoch')\n",
        "plt.legend(['Train', 'Test'], loc='upper left')\n",
        "plt.show()\n",
        "\n",
        "plt.plot(model_trained2.history['loss'])\n",
        "plt.plot(model_trained2.history['val_loss'])\n",
        "plt.title('Model Loss')\n",
        "plt.ylabel('Loss')\n",
        "plt.xlabel('Epoch')\n",
        "plt.legend(['Train', 'Test'], loc='upper left')\n",
        "plt.show()"
      ],
      "execution_count": null,
      "outputs": [
        {
          "output_type": "display_data",
          "data": {
            "image/png": "[encoded data removed]",
            "text/plain": [
              "<Figure size 432x288 with 1 Axes>"
            ]
          },
          "metadata": {
            "tags": [],
            "needs_background": "light"
          }
        },
        {
          "output_type": "display_data",
          "data": {
            "image/png": "[encoded data removed]",
            "text/plain": [
              "<Figure size 432x288 with 1 Axes>"
            ]
          },
          "metadata": {
            "tags": [],
            "needs_background": "light"
          }
        }
      ]
    },
    {
      "cell_type": "code",
      "metadata": {
        "id": "azyZ-0DOlq0s",
        "colab_type": "code",
        "colab": {
          "base_uri": "https://localhost:8080/",
          "height": 678
        },
        "outputId": "93e43514-9900-49b7-d634-54c9e2bdfb43"
      },
      "source": [
        "model_output2 = model2.predict([X_l_te2,X_r_te2])\n",
        "model_score2 = get_scores(model_output2,Y_te2,100)\n",
        "print(model_score2)"
      ],
      "execution_count": null,
      "outputs": [
        {
          "output_type": "stream",
          "text": [
            "    Human Rater  Model    Accuracy\n",
            "0          10.0   24.0  -40.000000\n",
            "1           0.0    2.0    0.000000\n",
            "2         100.0  100.0  100.000000\n",
            "3          90.0   80.0   88.888889\n",
            "4          80.0   75.0   93.750000\n",
            "5          70.0   60.0   85.714286\n",
            "6          60.0   51.0   85.000000\n",
            "7          50.0   46.0   92.000000\n",
            "8          40.0   29.0   72.500000\n",
            "9          30.0   32.0   93.333333\n",
            "10         20.0   23.0   85.000000\n",
            "11         10.0   17.0   30.000000\n",
            "12          0.0    2.0    0.000000\n",
            "13        100.0  100.0  100.000000\n",
            "14         90.0   82.0   91.111111\n",
            "15         80.0   67.0   83.750000\n",
            "16         70.0   62.0   88.571429\n",
            "17         60.0   52.0   86.666667\n",
            "18         50.0   40.0   80.000000\n",
            "19         40.0   37.0   92.500000\n",
            "20         30.0   26.0   86.666667\n",
            "21         20.0   26.0   70.000000\n",
            "22         10.0   21.0  -10.000000\n",
            "23          0.0    2.0    0.000000\n",
            "24        100.0  100.0  100.000000\n",
            "25         90.0   74.0   82.222222\n",
            "26         80.0   70.0   87.500000\n",
            "27         70.0   51.0   72.857143\n",
            "28         60.0   40.0   66.666667\n",
            "29         50.0   43.0   86.000000\n",
            "30         40.0   42.0   95.000000\n",
            "31         30.0   33.0   90.000000\n",
            "32         20.0   30.0   50.000000\n",
            "33         10.0   19.0   10.000000\n",
            "34          0.0    2.0    0.000000\n"
          ],
          "name": "stdout"
        }
      ]
    },
    {
      "cell_type": "code",
      "metadata": {
        "id": "U4Fi0FUcmEJD",
        "colab_type": "code",
        "colab": {
          "base_uri": "https://localhost:8080/",
          "height": 274
        },
        "outputId": "3ab0bcbb-94e7-4fcf-ccbb-9a6dba7788f0"
      },
      "source": [
        "model_training_output2 = model2.predict([X_l_t2,X_r_t2])\n",
        "training_score2 = get_scores(model_training_output2,Y_t2,100)\n",
        "print(training_score2)"
      ],
      "execution_count": null,
      "outputs": [
        {
          "output_type": "stream",
          "text": [
            "    Human Rater  Model  Accuracy\n",
            "0         100.0  100.0     100.0\n",
            "1          90.0   90.0     100.0\n",
            "2          80.0   80.0     100.0\n",
            "3          70.0   70.0     100.0\n",
            "4          60.0   60.0     100.0\n",
            "..          ...    ...       ...\n",
            "70         60.0   60.0     100.0\n",
            "71         50.0   50.0     100.0\n",
            "72         40.0   40.0     100.0\n",
            "73         30.0   30.0     100.0\n",
            "74         20.0   19.0      95.0\n",
            "\n",
            "[75 rows x 3 columns]\n"
          ],
          "name": "stdout"
        }
      ]
    },
    {
      "cell_type": "code",
      "metadata": {
        "id": "y2OBbCW7fxZQ",
        "colab_type": "code",
        "colab": {
          "base_uri": "https://localhost:8080/",
          "height": 1000
        },
        "outputId": "1ed9aa52-9b3f-4a53-e298-e48514e704ca"
      },
      "source": [
        "model3 = get_model()\n",
        "model3_trained = model3.fit([X_l_t,X_r_t],Y_train1,batch_size=32,epochs=150,validation_data=([X_l_te,X_r_te],Y_test1), callbacks=[reduce_lr])"
      ],
      "execution_count": null,
      "outputs": [
        {
          "output_type": "stream",
          "text": [
            "/usr/local/lib/python3.6/dist-packages/tensorflow/python/framework/indexed_slices.py:434: UserWarning: Converting sparse IndexedSlices to a dense Tensor of unknown shape. This may consume a large amount of memory.\n",
            "  \"Converting sparse IndexedSlices to a dense Tensor of unknown shape. \"\n"
          ],
          "name": "stderr"
        },
        {
          "output_type": "stream",
          "text": [
            "Train on 440 samples, validate on 140 samples\n",
            "Epoch 1/150\n",
            "440/440 [==============================] - 6s 14ms/step - loss: 0.1627 - mae: 0.3086 - val_loss: 0.6830 - val_mae: 0.8008\n",
            "Epoch 2/150\n",
            "440/440 [==============================] - 4s 8ms/step - loss: 0.1371 - mae: 0.2794 - val_loss: 0.6578 - val_mae: 0.7823\n",
            "Epoch 3/150\n",
            "440/440 [==============================] - 4s 8ms/step - loss: 0.1114 - mae: 0.2487 - val_loss: 0.6265 - val_mae: 0.7613\n",
            "Epoch 4/150\n",
            "440/440 [==============================] - 4s 9ms/step - loss: 0.0815 - mae: 0.2098 - val_loss: 0.5824 - val_mae: 0.7324\n",
            "Epoch 5/150\n",
            "440/440 [==============================] - 4s 8ms/step - loss: 0.0551 - mae: 0.1708 - val_loss: 0.5455 - val_mae: 0.7074\n",
            "Epoch 6/150\n",
            "440/440 [==============================] - 4s 8ms/step - loss: 0.0385 - mae: 0.1423 - val_loss: 0.5177 - val_mae: 0.6879\n",
            "Epoch 7/150\n",
            "440/440 [==============================] - 4s 8ms/step - loss: 0.0285 - mae: 0.1226 - val_loss: 0.4994 - val_mae: 0.6752\n",
            "Epoch 8/150\n",
            "440/440 [==============================] - 4s 8ms/step - loss: 0.0228 - mae: 0.1111 - val_loss: 0.4910 - val_mae: 0.6695\n",
            "Epoch 9/150\n",
            "440/440 [==============================] - 4s 9ms/step - loss: 0.0197 - mae: 0.1039 - val_loss: 0.4909 - val_mae: 0.6696\n",
            "Epoch 10/150\n",
            "440/440 [==============================] - 4s 8ms/step - loss: 0.0173 - mae: 0.0982 - val_loss: 0.4811 - val_mae: 0.6627\n",
            "Epoch 11/150\n",
            "440/440 [==============================] - 4s 8ms/step - loss: 0.0155 - mae: 0.0933 - val_loss: 0.4823 - val_mae: 0.6635\n",
            "Epoch 12/150\n",
            "440/440 [==============================] - 4s 9ms/step - loss: 0.0139 - mae: 0.0888 - val_loss: 0.4838 - val_mae: 0.6652\n",
            "Epoch 13/150\n",
            "440/440 [==============================] - 4s 8ms/step - loss: 0.0129 - mae: 0.0859 - val_loss: 0.4801 - val_mae: 0.6623\n",
            "Epoch 14/150\n",
            "440/440 [==============================] - 4s 8ms/step - loss: 0.0118 - mae: 0.0817 - val_loss: 0.4845 - val_mae: 0.6657\n",
            "Epoch 15/150\n",
            "440/440 [==============================] - 4s 8ms/step - loss: 0.0109 - mae: 0.0792 - val_loss: 0.4819 - val_mae: 0.6640\n",
            "Epoch 16/150\n",
            "440/440 [==============================] - 4s 8ms/step - loss: 0.0100 - mae: 0.0751 - val_loss: 0.4796 - val_mae: 0.6626\n",
            "Epoch 17/150\n",
            "440/440 [==============================] - 4s 8ms/step - loss: 0.0094 - mae: 0.0734 - val_loss: 0.4808 - val_mae: 0.6633\n",
            "Epoch 18/150\n",
            "440/440 [==============================] - 4s 8ms/step - loss: 0.0088 - mae: 0.0709 - val_loss: 0.4796 - val_mae: 0.6626\n",
            "Epoch 19/150\n",
            "440/440 [==============================] - 4s 8ms/step - loss: 0.0083 - mae: 0.0684 - val_loss: 0.4774 - val_mae: 0.6609\n",
            "Epoch 20/150\n",
            "440/440 [==============================] - 4s 8ms/step - loss: 0.0078 - mae: 0.0662 - val_loss: 0.4798 - val_mae: 0.6628\n",
            "Epoch 21/150\n",
            "440/440 [==============================] - 4s 8ms/step - loss: 0.0073 - mae: 0.0643 - val_loss: 0.4759 - val_mae: 0.6598\n",
            "Epoch 22/150\n",
            "440/440 [==============================] - 4s 8ms/step - loss: 0.0069 - mae: 0.0624 - val_loss: 0.4814 - val_mae: 0.6639\n",
            "Epoch 23/150\n",
            "440/440 [==============================] - 4s 8ms/step - loss: 0.0065 - mae: 0.0601 - val_loss: 0.4758 - val_mae: 0.6598\n",
            "Epoch 24/150\n",
            "440/440 [==============================] - 4s 8ms/step - loss: 0.0062 - mae: 0.0589 - val_loss: 0.4756 - val_mae: 0.6596\n",
            "Epoch 25/150\n",
            "440/440 [==============================] - 4s 8ms/step - loss: 0.0059 - mae: 0.0573 - val_loss: 0.4786 - val_mae: 0.6620\n",
            "Epoch 26/150\n",
            "440/440 [==============================] - 4s 8ms/step - loss: 0.0056 - mae: 0.0555 - val_loss: 0.4790 - val_mae: 0.6623\n",
            "Epoch 27/150\n",
            "440/440 [==============================] - 4s 9ms/step - loss: 0.0052 - mae: 0.0536 - val_loss: 0.4769 - val_mae: 0.6607\n",
            "Epoch 28/150\n",
            "440/440 [==============================] - 4s 8ms/step - loss: 0.0050 - mae: 0.0526 - val_loss: 0.4755 - val_mae: 0.6597\n",
            "Epoch 29/150\n",
            "440/440 [==============================] - 4s 8ms/step - loss: 0.0047 - mae: 0.0511 - val_loss: 0.4748 - val_mae: 0.6590\n",
            "Epoch 30/150\n",
            "440/440 [==============================] - 4s 9ms/step - loss: 0.0045 - mae: 0.0494 - val_loss: 0.4807 - val_mae: 0.6635\n",
            "Epoch 31/150\n",
            "440/440 [==============================] - 4s 9ms/step - loss: 0.0044 - mae: 0.0487 - val_loss: 0.4797 - val_mae: 0.6627\n",
            "Epoch 32/150\n",
            "440/440 [==============================] - 4s 8ms/step - loss: 0.0041 - mae: 0.0476 - val_loss: 0.4776 - val_mae: 0.6612\n",
            "Epoch 33/150\n",
            "440/440 [==============================] - 4s 8ms/step - loss: 0.0039 - mae: 0.0460 - val_loss: 0.4772 - val_mae: 0.6607\n",
            "Epoch 34/150\n",
            "440/440 [==============================] - 4s 8ms/step - loss: 0.0037 - mae: 0.0444 - val_loss: 0.4796 - val_mae: 0.6624\n",
            "Epoch 35/150\n",
            "440/440 [==============================] - 4s 8ms/step - loss: 0.0035 - mae: 0.0441 - val_loss: 0.4755 - val_mae: 0.6594\n",
            "Epoch 36/150\n",
            "440/440 [==============================] - 4s 8ms/step - loss: 0.0033 - mae: 0.0426 - val_loss: 0.4751 - val_mae: 0.6590\n",
            "Epoch 37/150\n",
            "440/440 [==============================] - 4s 8ms/step - loss: 0.0032 - mae: 0.0415 - val_loss: 0.4778 - val_mae: 0.6610\n",
            "Epoch 38/150\n",
            "440/440 [==============================] - 4s 9ms/step - loss: 0.0030 - mae: 0.0400 - val_loss: 0.4797 - val_mae: 0.6624\n",
            "Epoch 39/150\n",
            "440/440 [==============================] - 4s 8ms/step - loss: 0.0029 - mae: 0.0394 - val_loss: 0.4760 - val_mae: 0.6596\n",
            "Epoch 40/150\n",
            "440/440 [==============================] - 4s 9ms/step - loss: 0.0028 - mae: 0.0384 - val_loss: 0.4717 - val_mae: 0.6562\n",
            "Epoch 41/150\n",
            "440/440 [==============================] - 4s 9ms/step - loss: 0.0027 - mae: 0.0379 - val_loss: 0.4752 - val_mae: 0.6589\n",
            "Epoch 42/150\n",
            "440/440 [==============================] - 7s 15ms/step - loss: 0.0026 - mae: 0.0370 - val_loss: 0.4801 - val_mae: 0.6625\n",
            "Epoch 43/150\n",
            "440/440 [==============================] - 4s 9ms/step - loss: 0.0025 - mae: 0.0364 - val_loss: 0.4835 - val_mae: 0.6650\n",
            "Epoch 44/150\n",
            "440/440 [==============================] - 4s 8ms/step - loss: 0.0024 - mae: 0.0358 - val_loss: 0.4758 - val_mae: 0.6593\n",
            "Epoch 45/150\n",
            "440/440 [==============================] - 4s 8ms/step - loss: 0.0023 - mae: 0.0346 - val_loss: 0.4777 - val_mae: 0.6607\n",
            "Epoch 46/150\n",
            "440/440 [==============================] - 4s 9ms/step - loss: 0.0022 - mae: 0.0341 - val_loss: 0.4724 - val_mae: 0.6567\n",
            "Epoch 47/150\n",
            "440/440 [==============================] - 4s 8ms/step - loss: 0.0021 - mae: 0.0335 - val_loss: 0.4770 - val_mae: 0.6600\n",
            "Epoch 48/150\n",
            "440/440 [==============================] - 4s 8ms/step - loss: 0.0020 - mae: 0.0322 - val_loss: 0.4731 - val_mae: 0.6571\n",
            "Epoch 49/150\n",
            "440/440 [==============================] - 4s 9ms/step - loss: 0.0019 - mae: 0.0317 - val_loss: 0.4788 - val_mae: 0.6615\n",
            "Epoch 50/150\n",
            "440/440 [==============================] - 4s 8ms/step - loss: 0.0019 - mae: 0.0311 - val_loss: 0.4769 - val_mae: 0.6600\n",
            "Epoch 51/150\n",
            "440/440 [==============================] - 4s 8ms/step - loss: 0.0018 - mae: 0.0303 - val_loss: 0.4741 - val_mae: 0.6580\n",
            "Epoch 52/150\n",
            "440/440 [==============================] - 4s 9ms/step - loss: 0.0017 - mae: 0.0299 - val_loss: 0.4771 - val_mae: 0.6600\n",
            "Epoch 53/150\n",
            "440/440 [==============================] - 4s 9ms/step - loss: 0.0017 - mae: 0.0294 - val_loss: 0.4766 - val_mae: 0.6597\n",
            "Epoch 54/150\n",
            "440/440 [==============================] - 4s 8ms/step - loss: 0.0017 - mae: 0.0294 - val_loss: 0.4758 - val_mae: 0.6591\n",
            "Epoch 55/150\n",
            "440/440 [==============================] - 4s 8ms/step - loss: 0.0016 - mae: 0.0284 - val_loss: 0.4752 - val_mae: 0.6586\n",
            "Epoch 56/150\n",
            "440/440 [==============================] - 4s 8ms/step - loss: 0.0015 - mae: 0.0279 - val_loss: 0.4786 - val_mae: 0.6612\n",
            "Epoch 57/150\n",
            "440/440 [==============================] - 4s 8ms/step - loss: 0.0014 - mae: 0.0270 - val_loss: 0.4781 - val_mae: 0.6608\n",
            "Epoch 58/150\n",
            "440/440 [==============================] - 4s 9ms/step - loss: 0.0014 - mae: 0.0270 - val_loss: 0.4748 - val_mae: 0.6584\n",
            "Epoch 59/150\n",
            "440/440 [==============================] - 4s 9ms/step - loss: 0.0014 - mae: 0.0267 - val_loss: 0.4750 - val_mae: 0.6584\n",
            "Epoch 60/150\n",
            "440/440 [==============================] - 4s 9ms/step - loss: 0.0013 - mae: 0.0262 - val_loss: 0.4767 - val_mae: 0.6598\n",
            "Epoch 61/150\n",
            "440/440 [==============================] - 4s 8ms/step - loss: 0.0013 - mae: 0.0253 - val_loss: 0.4788 - val_mae: 0.6613\n",
            "Epoch 62/150\n",
            "440/440 [==============================] - 4s 8ms/step - loss: 0.0012 - mae: 0.0251 - val_loss: 0.4772 - val_mae: 0.6600\n",
            "Epoch 63/150\n",
            "440/440 [==============================] - 4s 8ms/step - loss: 0.0012 - mae: 0.0251 - val_loss: 0.4783 - val_mae: 0.6610\n",
            "Epoch 64/150\n",
            "440/440 [==============================] - 4s 8ms/step - loss: 0.0011 - mae: 0.0241 - val_loss: 0.4772 - val_mae: 0.6602\n",
            "Epoch 65/150\n",
            "440/440 [==============================] - 4s 8ms/step - loss: 0.0011 - mae: 0.0237 - val_loss: 0.4798 - val_mae: 0.6620\n",
            "Epoch 66/150\n",
            "440/440 [==============================] - 4s 8ms/step - loss: 0.0011 - mae: 0.0234 - val_loss: 0.4798 - val_mae: 0.6622\n",
            "Epoch 67/150\n",
            "440/440 [==============================] - 4s 8ms/step - loss: 0.0011 - mae: 0.0232 - val_loss: 0.4784 - val_mae: 0.6610\n",
            "Epoch 68/150\n",
            "440/440 [==============================] - 4s 8ms/step - loss: 0.0010 - mae: 0.0225 - val_loss: 0.4783 - val_mae: 0.6609\n",
            "Epoch 69/150\n",
            "440/440 [==============================] - 4s 9ms/step - loss: 9.9100e-04 - mae: 0.0225 - val_loss: 0.4792 - val_mae: 0.6616\n",
            "Epoch 70/150\n",
            "440/440 [==============================] - 4s 8ms/step - loss: 9.5776e-04 - mae: 0.0220 - val_loss: 0.4800 - val_mae: 0.6623\n",
            "Epoch 71/150\n",
            "440/440 [==============================] - 4s 8ms/step - loss: 9.4131e-04 - mae: 0.0217 - val_loss: 0.4800 - val_mae: 0.6623\n",
            "Epoch 72/150\n",
            "440/440 [==============================] - 4s 8ms/step - loss: 9.2376e-04 - mae: 0.0214 - val_loss: 0.4793 - val_mae: 0.6617\n",
            "Epoch 73/150\n",
            "440/440 [==============================] - 4s 8ms/step - loss: 8.9673e-04 - mae: 0.0211 - val_loss: 0.4760 - val_mae: 0.6593\n",
            "Epoch 74/150\n",
            "440/440 [==============================] - 4s 8ms/step - loss: 8.3771e-04 - mae: 0.0205 - val_loss: 0.4790 - val_mae: 0.6616\n",
            "Epoch 75/150\n",
            "440/440 [==============================] - 4s 9ms/step - loss: 8.4595e-04 - mae: 0.0204 - val_loss: 0.4794 - val_mae: 0.6619\n",
            "Epoch 76/150\n",
            "440/440 [==============================] - 4s 8ms/step - loss: 8.1630e-04 - mae: 0.0200 - val_loss: 0.4801 - val_mae: 0.6624\n",
            "Epoch 77/150\n",
            "440/440 [==============================] - 4s 8ms/step - loss: 7.8865e-04 - mae: 0.0199 - val_loss: 0.4764 - val_mae: 0.6597\n",
            "Epoch 78/150\n",
            "440/440 [==============================] - 4s 8ms/step - loss: 7.5999e-04 - mae: 0.0197 - val_loss: 0.4822 - val_mae: 0.6640\n",
            "Epoch 79/150\n",
            "440/440 [==============================] - 4s 8ms/step - loss: 7.3598e-04 - mae: 0.0191 - val_loss: 0.4817 - val_mae: 0.6636\n",
            "Epoch 80/150\n",
            "440/440 [==============================] - 4s 8ms/step - loss: 7.0953e-04 - mae: 0.0190 - val_loss: 0.4848 - val_mae: 0.6660\n",
            "Epoch 81/150\n",
            "440/440 [==============================] - 4s 8ms/step - loss: 7.1796e-04 - mae: 0.0188 - val_loss: 0.4799 - val_mae: 0.6622\n",
            "Epoch 82/150\n",
            "440/440 [==============================] - 4s 8ms/step - loss: 7.0327e-04 - mae: 0.0189 - val_loss: 0.4774 - val_mae: 0.6604\n",
            "Epoch 83/150\n",
            "440/440 [==============================] - 4s 8ms/step - loss: 6.7354e-04 - mae: 0.0186 - val_loss: 0.4787 - val_mae: 0.6614\n",
            "Epoch 84/150\n",
            "440/440 [==============================] - 4s 8ms/step - loss: 6.5212e-04 - mae: 0.0181 - val_loss: 0.4793 - val_mae: 0.6618\n",
            "Epoch 85/150\n",
            "440/440 [==============================] - 4s 8ms/step - loss: 6.2595e-04 - mae: 0.0174 - val_loss: 0.4805 - val_mae: 0.6628\n",
            "Epoch 86/150\n",
            "440/440 [==============================] - 4s 8ms/step - loss: 5.8792e-04 - mae: 0.0168 - val_loss: 0.4812 - val_mae: 0.6634\n",
            "Epoch 87/150\n",
            "440/440 [==============================] - 4s 8ms/step - loss: 5.6290e-04 - mae: 0.0167 - val_loss: 0.4801 - val_mae: 0.6625\n",
            "Epoch 88/150\n",
            "440/440 [==============================] - 4s 8ms/step - loss: 5.4905e-04 - mae: 0.0164 - val_loss: 0.4824 - val_mae: 0.6643\n",
            "Epoch 89/150\n",
            "440/440 [==============================] - 4s 8ms/step - loss: 5.5683e-04 - mae: 0.0165 - val_loss: 0.4815 - val_mae: 0.6636\n",
            "Epoch 90/150\n",
            "440/440 [==============================] - 4s 8ms/step - loss: 5.2673e-04 - mae: 0.0160 - val_loss: 0.4808 - val_mae: 0.6631\n",
            "Epoch 91/150\n",
            "440/440 [==============================] - 4s 8ms/step - loss: 5.0904e-04 - mae: 0.0158 - val_loss: 0.4823 - val_mae: 0.6643\n",
            "Epoch 92/150\n",
            "440/440 [==============================] - 4s 9ms/step - loss: 4.9235e-04 - mae: 0.0154 - val_loss: 0.4822 - val_mae: 0.6642\n",
            "Epoch 93/150\n",
            "440/440 [==============================] - 4s 8ms/step - loss: 4.7336e-04 - mae: 0.0153 - val_loss: 0.4810 - val_mae: 0.6633\n",
            "Epoch 94/150\n",
            "440/440 [==============================] - 4s 8ms/step - loss: 4.5889e-04 - mae: 0.0148 - val_loss: 0.4815 - val_mae: 0.6638\n",
            "Epoch 95/150\n",
            "440/440 [==============================] - 4s 9ms/step - loss: 4.6122e-04 - mae: 0.0149 - val_loss: 0.4792 - val_mae: 0.6620\n",
            "Epoch 96/150\n",
            "440/440 [==============================] - 4s 8ms/step - loss: 4.4730e-04 - mae: 0.0149 - val_loss: 0.4814 - val_mae: 0.6637\n",
            "Epoch 97/150\n",
            "440/440 [==============================] - 4s 8ms/step - loss: 4.3163e-04 - mae: 0.0144 - val_loss: 0.4809 - val_mae: 0.6634\n",
            "Epoch 98/150\n",
            "440/440 [==============================] - 4s 8ms/step - loss: 4.2276e-04 - mae: 0.0142 - val_loss: 0.4821 - val_mae: 0.6643\n",
            "Epoch 99/150\n",
            "440/440 [==============================] - 4s 8ms/step - loss: 4.1397e-04 - mae: 0.0141 - val_loss: 0.4819 - val_mae: 0.6641\n",
            "Epoch 100/150\n",
            "440/440 [==============================] - 4s 9ms/step - loss: 3.7598e-04 - mae: 0.0136 - val_loss: 0.4842 - val_mae: 0.6659\n",
            "Epoch 101/150\n",
            "440/440 [==============================] - 4s 8ms/step - loss: 3.7288e-04 - mae: 0.0134 - val_loss: 0.4839 - val_mae: 0.6657\n",
            "Epoch 102/150\n",
            "440/440 [==============================] - 4s 8ms/step - loss: 3.5754e-04 - mae: 0.0132 - val_loss: 0.4846 - val_mae: 0.6662\n",
            "Epoch 103/150\n",
            "440/440 [==============================] - 4s 8ms/step - loss: 3.4509e-04 - mae: 0.0127 - val_loss: 0.4844 - val_mae: 0.6661\n",
            "Epoch 104/150\n",
            "440/440 [==============================] - 4s 8ms/step - loss: 3.4590e-04 - mae: 0.0128 - val_loss: 0.4841 - val_mae: 0.6659\n",
            "Epoch 105/150\n",
            "440/440 [==============================] - 4s 8ms/step - loss: 3.4078e-04 - mae: 0.0128 - val_loss: 0.4854 - val_mae: 0.6668\n",
            "Epoch 106/150\n",
            "440/440 [==============================] - 4s 8ms/step - loss: 3.1841e-04 - mae: 0.0124 - val_loss: 0.4851 - val_mae: 0.6666\n",
            "Epoch 107/150\n",
            "440/440 [==============================] - 4s 8ms/step - loss: 3.0974e-04 - mae: 0.0123 - val_loss: 0.4827 - val_mae: 0.6648\n",
            "Epoch 108/150\n",
            "440/440 [==============================] - 4s 9ms/step - loss: 3.0261e-04 - mae: 0.0122 - val_loss: 0.4841 - val_mae: 0.6660\n",
            "Epoch 109/150\n",
            "440/440 [==============================] - 4s 8ms/step - loss: 2.9066e-04 - mae: 0.0118 - val_loss: 0.4832 - val_mae: 0.6653\n",
            "Epoch 110/150\n",
            "440/440 [==============================] - 4s 8ms/step - loss: 2.8706e-04 - mae: 0.0116 - val_loss: 0.4849 - val_mae: 0.6666\n",
            "Epoch 111/150\n",
            "440/440 [==============================] - 4s 8ms/step - loss: 2.7556e-04 - mae: 0.0114 - val_loss: 0.4854 - val_mae: 0.6669\n",
            "Epoch 112/150\n",
            "440/440 [==============================] - 4s 9ms/step - loss: 2.6781e-04 - mae: 0.0113 - val_loss: 0.4828 - val_mae: 0.6650\n",
            "Epoch 113/150\n",
            "440/440 [==============================] - 4s 8ms/step - loss: 2.6977e-04 - mae: 0.0115 - val_loss: 0.4836 - val_mae: 0.6656\n",
            "Epoch 114/150\n",
            "440/440 [==============================] - 4s 8ms/step - loss: 2.5528e-04 - mae: 0.0110 - val_loss: 0.4850 - val_mae: 0.6667\n",
            "Epoch 115/150\n",
            "440/440 [==============================] - 4s 8ms/step - loss: 2.4718e-04 - mae: 0.0107 - val_loss: 0.4854 - val_mae: 0.6671\n",
            "Epoch 116/150\n",
            "440/440 [==============================] - 4s 8ms/step - loss: 2.3472e-04 - mae: 0.0105 - val_loss: 0.4857 - val_mae: 0.6673\n",
            "Epoch 117/150\n",
            "440/440 [==============================] - 4s 9ms/step - loss: 2.2996e-04 - mae: 0.0103 - val_loss: 0.4853 - val_mae: 0.6670\n",
            "Epoch 118/150\n",
            "440/440 [==============================] - 4s 8ms/step - loss: 2.4407e-04 - mae: 0.0106 - val_loss: 0.4855 - val_mae: 0.6673\n",
            "Epoch 119/150\n",
            "440/440 [==============================] - 4s 8ms/step - loss: 2.2986e-04 - mae: 0.0106 - val_loss: 0.4857 - val_mae: 0.6673\n",
            "Epoch 120/150\n",
            "440/440 [==============================] - 4s 9ms/step - loss: 2.1579e-04 - mae: 0.0100 - val_loss: 0.4859 - val_mae: 0.6676\n",
            "Epoch 121/150\n",
            "440/440 [==============================] - 4s 9ms/step - loss: 2.0473e-04 - mae: 0.0098 - val_loss: 0.4864 - val_mae: 0.6680\n",
            "Epoch 122/150\n",
            "440/440 [==============================] - 4s 9ms/step - loss: 2.0747e-04 - mae: 0.0098 - val_loss: 0.4856 - val_mae: 0.6673\n",
            "Epoch 123/150\n",
            "440/440 [==============================] - 4s 9ms/step - loss: 1.9450e-04 - mae: 0.0093 - val_loss: 0.4866 - val_mae: 0.6682\n",
            "Epoch 124/150\n",
            "440/440 [==============================] - 4s 9ms/step - loss: 1.8376e-04 - mae: 0.0092 - val_loss: 0.4871 - val_mae: 0.6685\n",
            "Epoch 125/150\n",
            "440/440 [==============================] - 4s 9ms/step - loss: 1.7318e-04 - mae: 0.0089 - val_loss: 0.4872 - val_mae: 0.6687\n",
            "Epoch 126/150\n",
            "440/440 [==============================] - 4s 9ms/step - loss: 1.7817e-04 - mae: 0.0091 - val_loss: 0.4877 - val_mae: 0.6690\n",
            "Epoch 127/150\n",
            "440/440 [==============================] - 4s 9ms/step - loss: 1.7182e-04 - mae: 0.0090 - val_loss: 0.4875 - val_mae: 0.6688\n",
            "Epoch 128/150\n",
            "440/440 [==============================] - 4s 9ms/step - loss: 1.6185e-04 - mae: 0.0085 - val_loss: 0.4872 - val_mae: 0.6687\n",
            "Epoch 129/150\n",
            "440/440 [==============================] - 4s 9ms/step - loss: 1.5178e-04 - mae: 0.0083 - val_loss: 0.4871 - val_mae: 0.6686\n",
            "Epoch 130/150\n",
            "440/440 [==============================] - 4s 8ms/step - loss: 1.5144e-04 - mae: 0.0083 - val_loss: 0.4879 - val_mae: 0.6693\n",
            "Epoch 131/150\n",
            "440/440 [==============================] - 4s 8ms/step - loss: 1.4699e-04 - mae: 0.0082 - val_loss: 0.4873 - val_mae: 0.6687\n",
            "Epoch 132/150\n",
            "440/440 [==============================] - 4s 9ms/step - loss: 1.4635e-04 - mae: 0.0081 - val_loss: 0.4878 - val_mae: 0.6693\n",
            "Epoch 133/150\n",
            "440/440 [==============================] - 4s 9ms/step - loss: 1.4435e-04 - mae: 0.0084 - val_loss: 0.4887 - val_mae: 0.6699\n",
            "Epoch 134/150\n",
            "440/440 [==============================] - 4s 8ms/step - loss: 1.4020e-04 - mae: 0.0082 - val_loss: 0.4893 - val_mae: 0.6704\n",
            "Epoch 135/150\n",
            "440/440 [==============================] - 4s 8ms/step - loss: 1.2958e-04 - mae: 0.0076 - val_loss: 0.4881 - val_mae: 0.6695\n",
            "Epoch 136/150\n",
            "440/440 [==============================] - 4s 8ms/step - loss: 1.2542e-04 - mae: 0.0075 - val_loss: 0.4889 - val_mae: 0.6702\n",
            "Epoch 137/150\n",
            "440/440 [==============================] - 4s 9ms/step - loss: 1.2151e-04 - mae: 0.0074 - val_loss: 0.4882 - val_mae: 0.6696\n",
            "Epoch 138/150\n",
            "440/440 [==============================] - 4s 8ms/step - loss: 1.1924e-04 - mae: 0.0073 - val_loss: 0.4877 - val_mae: 0.6693\n",
            "Epoch 139/150\n",
            "440/440 [==============================] - 4s 8ms/step - loss: 1.2500e-04 - mae: 0.0075 - val_loss: 0.4870 - val_mae: 0.6688\n",
            "Epoch 140/150\n",
            "440/440 [==============================] - 4s 8ms/step - loss: 1.1854e-04 - mae: 0.0075 - val_loss: 0.4888 - val_mae: 0.6702\n",
            "Epoch 141/150\n",
            "440/440 [==============================] - 4s 8ms/step - loss: 1.0969e-04 - mae: 0.0071 - val_loss: 0.4893 - val_mae: 0.6705\n",
            "Epoch 142/150\n",
            "440/440 [==============================] - 4s 9ms/step - loss: 1.0374e-04 - mae: 0.0068 - val_loss: 0.4887 - val_mae: 0.6701\n",
            "Epoch 143/150\n",
            "440/440 [==============================] - 4s 9ms/step - loss: 1.0208e-04 - mae: 0.0066 - val_loss: 0.4887 - val_mae: 0.6700\n",
            "Epoch 144/150\n",
            "440/440 [==============================] - 4s 8ms/step - loss: 9.9291e-05 - mae: 0.0068 - val_loss: 0.4902 - val_mae: 0.6712\n",
            "Epoch 145/150\n",
            "440/440 [==============================] - 4s 8ms/step - loss: 9.5166e-05 - mae: 0.0065 - val_loss: 0.4888 - val_mae: 0.6702\n",
            "Epoch 146/150\n",
            "440/440 [==============================] - 4s 9ms/step - loss: 9.2454e-05 - mae: 0.0064 - val_loss: 0.4892 - val_mae: 0.6705\n",
            "Epoch 147/150\n",
            "440/440 [==============================] - 4s 8ms/step - loss: 9.1933e-05 - mae: 0.0062 - val_loss: 0.4894 - val_mae: 0.6706\n",
            "Epoch 148/150\n",
            "440/440 [==============================] - 4s 9ms/step - loss: 8.6819e-05 - mae: 0.0060 - val_loss: 0.4898 - val_mae: 0.6710\n",
            "Epoch 149/150\n",
            "440/440 [==============================] - 4s 8ms/step - loss: 8.4367e-05 - mae: 0.0060 - val_loss: 0.4901 - val_mae: 0.6713\n",
            "Epoch 150/150\n",
            "440/440 [==============================] - 4s 8ms/step - loss: 8.1177e-05 - mae: 0.0059 - val_loss: 0.4896 - val_mae: 0.6708\n"
          ],
          "name": "stdout"
        }
      ]
    },
    {
      "cell_type": "code",
      "metadata": {
        "id": "jaHQx4qKiR-5",
        "colab_type": "code",
        "colab": {
          "base_uri": "https://localhost:8080/",
          "height": 573
        },
        "outputId": "f6fe9d9a-9566-4b0f-bbaf-d7cd7384071b"
      },
      "source": [
        "plt.plot(model3_trained.history['mae'])\n",
        "plt.plot(model3_trained.history['val_mae'])\n",
        "plt.title('Model Error')\n",
        "plt.ylabel('Mean Absolute Error')\n",
        "plt.xlabel('Epoch')\n",
        "plt.legend(['Train', 'Test'], loc='upper left')\n",
        "plt.show()\n",
        "\n",
        "plt.plot(model3_trained.history['loss'])\n",
        "plt.plot(model3_trained.history['val_loss'])\n",
        "plt.title('Model Loss')\n",
        "plt.ylabel('Loss')\n",
        "plt.xlabel('Epoch')\n",
        "plt.legend(['Train', 'Test'], loc='upper left')\n",
        "plt.show()"
      ],
      "execution_count": null,
      "outputs": [
        {
          "output_type": "display_data",
          "data": {
            "image/png": "[encoded data removed]",
            "text/plain": [
              "<Figure size 432x288 with 1 Axes>"
            ]
          },
          "metadata": {
            "tags": [],
            "needs_background": "light"
          }
        },
        {
          "output_type": "display_data",
          "data": {
            "image/png": "[encoded data removed]",
            "text/plain": [
              "<Figure size 432x288 with 1 Axes>"
            ]
          },
          "metadata": {
            "tags": [],
            "needs_background": "light"
          }
        }
      ]
    },
    {
      "cell_type": "code",
      "metadata": {
        "id": "rr-GnZK0icKA",
        "colab_type": "code",
        "colab": {
          "base_uri": "https://localhost:8080/",
          "height": 678
        },
        "outputId": "054e125f-9ed8-4cd7-8db0-e6cad37af39b"
      },
      "source": [
        "model_output3 = model3.predict([X_l_te,X_r_te])\n",
        "model_score3 = get_scores(model_output3,Y_test1,100)\n",
        "print(model_score3)"
      ],
      "execution_count": null,
      "outputs": [
        {
          "output_type": "stream",
          "text": [
            "    Human Rater  Model   Accuracy\n",
            "0         92.50   18.0  19.459459\n",
            "1         92.50   11.0  11.891892\n",
            "2         77.50    8.0  10.322581\n",
            "3         89.75   17.0  18.941504\n",
            "4         87.50   20.0  22.857143\n",
            "5         97.50   22.0  22.564103\n",
            "6         90.00   13.0  14.444444\n",
            "7         90.00   11.0  12.222222\n",
            "8         85.00   21.0  24.705882\n",
            "9         77.50   12.0  15.483871\n",
            "10        85.00   26.0  30.588235\n",
            "11        67.50   20.0  29.629630\n",
            "12        92.50   22.0  23.783784\n",
            "13        92.50   16.0  17.297297\n",
            "14        87.50   27.0  30.857143\n",
            "15        95.00   13.0  13.684211\n",
            "16        92.50   18.0  19.459459\n",
            "17        77.50   18.0  23.225806\n",
            "18        87.50   19.0  21.714286\n",
            "19        95.00   21.0  22.105263\n",
            "20        92.50   27.0  29.189189\n",
            "21        80.00    8.0  10.000000\n",
            "22        82.50   18.0  21.818182\n",
            "23        77.50   16.0  20.645161\n",
            "24        80.00   18.0  22.500000\n",
            "25        82.50   16.0  19.393939\n",
            "26        80.00   23.0  28.750000\n",
            "27        75.00   16.0  21.333333\n",
            "28        90.00   16.0  17.777778\n",
            "29        75.00   28.0  37.333333\n",
            "30        50.00   12.0  24.000000\n",
            "31        87.50   21.0  24.000000\n",
            "32        80.00   25.0  31.250000\n",
            "33        87.50   15.0  17.142857\n",
            "34        90.00   11.0  12.222222\n"
          ],
          "name": "stdout"
        }
      ]
    },
    {
      "cell_type": "code",
      "metadata": {
        "id": "fGwjpwjYi_cj",
        "colab_type": "code",
        "colab": {
          "base_uri": "https://localhost:8080/",
          "height": 274
        },
        "outputId": "47b6543f-73a6-4d48-e0c4-1856ddf7f551"
      },
      "source": [
        "model_training_output3 = model3.predict([X_l_t,X_r_t])\n",
        "training_score3 = get_scores(model_training_output3,Y_train1,100)\n",
        "print(training_score3)"
      ],
      "execution_count": null,
      "outputs": [
        {
          "output_type": "stream",
          "text": [
            "     Human Rater  Model    Accuracy\n",
            "0          100.0  100.0  100.000000\n",
            "1           90.0   89.0   98.888889\n",
            "2           80.0   80.0  100.000000\n",
            "3           70.0   70.0  100.000000\n",
            "4           60.0   60.0  100.000000\n",
            "..           ...    ...         ...\n",
            "105         40.0   40.0  100.000000\n",
            "106         30.0   30.0  100.000000\n",
            "107         20.0   21.0   95.000000\n",
            "108         10.0   10.0  100.000000\n",
            "109          0.0    1.0    0.000000\n",
            "\n",
            "[110 rows x 3 columns]\n"
          ],
          "name": "stdout"
        }
      ]
    },
    {
      "cell_type": "code",
      "metadata": {
        "id": "8xxlJCS-jNp5",
        "colab_type": "code",
        "colab": {
          "base_uri": "https://localhost:8080/",
          "height": 1000
        },
        "outputId": "0e9b998e-0281-447c-bdcd-5ff620dd8ad8"
      },
      "source": [
        "model4 = get_model()\n",
        "model4_trained = model4.fit([X_l_t_k,X_r_t_k],Y_train1_k,batch_size=32,epochs=150,validation_data=([X_l_te,X_r_te2],Y_test1), callbacks=[reduce_lr])"
      ],
      "execution_count": null,
      "outputs": [
        {
          "output_type": "stream",
          "text": [
            "/usr/local/lib/python3.6/dist-packages/tensorflow/python/framework/indexed_slices.py:434: UserWarning: Converting sparse IndexedSlices to a dense Tensor of unknown shape. This may consume a large amount of memory.\n",
            "  \"Converting sparse IndexedSlices to a dense Tensor of unknown shape. \"\n"
          ],
          "name": "stderr"
        },
        {
          "output_type": "stream",
          "text": [
            "Train on 440 samples, validate on 140 samples\n",
            "Epoch 1/150\n",
            "440/440 [==============================] - 6s 14ms/step - loss: 0.0806 - mae: 0.2090 - val_loss: 0.6555 - val_mae: 0.7882\n",
            "Epoch 2/150\n",
            "440/440 [==============================] - 4s 8ms/step - loss: 0.0552 - mae: 0.1682 - val_loss: 0.6340 - val_mae: 0.7742\n",
            "Epoch 3/150\n",
            "440/440 [==============================] - 4s 8ms/step - loss: 0.0382 - mae: 0.1378 - val_loss: 0.6143 - val_mae: 0.7611\n",
            "Epoch 4/150\n",
            "440/440 [==============================] - 4s 8ms/step - loss: 0.0276 - mae: 0.1174 - val_loss: 0.5995 - val_mae: 0.7510\n",
            "Epoch 5/150\n",
            "440/440 [==============================] - 4s 8ms/step - loss: 0.0209 - mae: 0.1037 - val_loss: 0.5892 - val_mae: 0.7438\n",
            "Epoch 6/150\n",
            "440/440 [==============================] - 4s 8ms/step - loss: 0.0160 - mae: 0.0924 - val_loss: 0.5825 - val_mae: 0.7391\n",
            "Epoch 7/150\n",
            "440/440 [==============================] - 4s 8ms/step - loss: 0.0132 - mae: 0.0849 - val_loss: 0.5765 - val_mae: 0.7347\n",
            "Epoch 8/150\n",
            "440/440 [==============================] - 4s 8ms/step - loss: 0.0110 - mae: 0.0780 - val_loss: 0.5731 - val_mae: 0.7322\n",
            "Epoch 9/150\n",
            "440/440 [==============================] - 4s 8ms/step - loss: 0.0094 - mae: 0.0724 - val_loss: 0.5702 - val_mae: 0.7300\n",
            "Epoch 10/150\n",
            "440/440 [==============================] - 4s 8ms/step - loss: 0.0084 - mae: 0.0685 - val_loss: 0.5684 - val_mae: 0.7286\n",
            "Epoch 11/150\n",
            "440/440 [==============================] - 4s 8ms/step - loss: 0.0074 - mae: 0.0642 - val_loss: 0.5667 - val_mae: 0.7273\n",
            "Epoch 12/150\n",
            "440/440 [==============================] - 4s 8ms/step - loss: 0.0067 - mae: 0.0612 - val_loss: 0.5649 - val_mae: 0.7260\n",
            "Epoch 13/150\n",
            "440/440 [==============================] - 4s 9ms/step - loss: 0.0060 - mae: 0.0581 - val_loss: 0.5641 - val_mae: 0.7254\n",
            "Epoch 14/150\n",
            "440/440 [==============================] - 4s 8ms/step - loss: 0.0055 - mae: 0.0552 - val_loss: 0.5633 - val_mae: 0.7248\n",
            "Epoch 15/150\n",
            "440/440 [==============================] - 4s 8ms/step - loss: 0.0051 - mae: 0.0528 - val_loss: 0.5604 - val_mae: 0.7226\n",
            "Epoch 16/150\n",
            "440/440 [==============================] - 4s 9ms/step - loss: 0.0046 - mae: 0.0505 - val_loss: 0.5616 - val_mae: 0.7235\n",
            "Epoch 17/150\n",
            "440/440 [==============================] - 4s 8ms/step - loss: 0.0043 - mae: 0.0486 - val_loss: 0.5598 - val_mae: 0.7222\n",
            "Epoch 18/150\n",
            "440/440 [==============================] - 4s 8ms/step - loss: 0.0040 - mae: 0.0468 - val_loss: 0.5588 - val_mae: 0.7215\n",
            "Epoch 19/150\n",
            "440/440 [==============================] - 4s 8ms/step - loss: 0.0037 - mae: 0.0450 - val_loss: 0.5581 - val_mae: 0.7209\n",
            "Epoch 20/150\n",
            "440/440 [==============================] - 4s 8ms/step - loss: 0.0035 - mae: 0.0436 - val_loss: 0.5581 - val_mae: 0.7209\n",
            "Epoch 21/150\n",
            "440/440 [==============================] - 4s 9ms/step - loss: 0.0032 - mae: 0.0422 - val_loss: 0.5567 - val_mae: 0.7199\n",
            "Epoch 22/150\n",
            "440/440 [==============================] - 4s 8ms/step - loss: 0.0030 - mae: 0.0404 - val_loss: 0.5573 - val_mae: 0.7203\n",
            "Epoch 23/150\n",
            "440/440 [==============================] - 4s 8ms/step - loss: 0.0028 - mae: 0.0389 - val_loss: 0.5565 - val_mae: 0.7197\n",
            "Epoch 24/150\n",
            "440/440 [==============================] - 4s 9ms/step - loss: 0.0026 - mae: 0.0378 - val_loss: 0.5564 - val_mae: 0.7196\n",
            "Epoch 25/150\n",
            "440/440 [==============================] - 4s 8ms/step - loss: 0.0025 - mae: 0.0363 - val_loss: 0.5577 - val_mae: 0.7206\n",
            "Epoch 26/150\n",
            "440/440 [==============================] - 4s 8ms/step - loss: 0.0023 - mae: 0.0350 - val_loss: 0.5570 - val_mae: 0.7200\n",
            "Epoch 27/150\n",
            "440/440 [==============================] - 4s 8ms/step - loss: 0.0021 - mae: 0.0335 - val_loss: 0.5577 - val_mae: 0.7204\n",
            "Epoch 28/150\n",
            "440/440 [==============================] - 4s 8ms/step - loss: 0.0020 - mae: 0.0331 - val_loss: 0.5551 - val_mae: 0.7186\n",
            "Epoch 29/150\n",
            "440/440 [==============================] - 4s 8ms/step - loss: 0.0019 - mae: 0.0319 - val_loss: 0.5550 - val_mae: 0.7186\n",
            "Epoch 30/150\n",
            "440/440 [==============================] - 4s 9ms/step - loss: 0.0018 - mae: 0.0307 - val_loss: 0.5561 - val_mae: 0.7193\n",
            "Epoch 31/150\n",
            "440/440 [==============================] - 4s 8ms/step - loss: 0.0017 - mae: 0.0300 - val_loss: 0.5552 - val_mae: 0.7187\n",
            "Epoch 32/150\n",
            "440/440 [==============================] - 7s 15ms/step - loss: 0.0016 - mae: 0.0290 - val_loss: 0.5554 - val_mae: 0.7188\n",
            "Epoch 33/150\n",
            "440/440 [==============================] - 4s 8ms/step - loss: 0.0015 - mae: 0.0281 - val_loss: 0.5555 - val_mae: 0.7188\n",
            "Epoch 34/150\n",
            "440/440 [==============================] - 4s 9ms/step - loss: 0.0014 - mae: 0.0275 - val_loss: 0.5544 - val_mae: 0.7181\n",
            "Epoch 35/150\n",
            "440/440 [==============================] - 4s 9ms/step - loss: 0.0013 - mae: 0.0266 - val_loss: 0.5556 - val_mae: 0.7189\n",
            "Epoch 36/150\n",
            "440/440 [==============================] - 4s 9ms/step - loss: 0.0012 - mae: 0.0257 - val_loss: 0.5545 - val_mae: 0.7181\n",
            "Epoch 37/150\n",
            "440/440 [==============================] - 4s 8ms/step - loss: 0.0012 - mae: 0.0252 - val_loss: 0.5555 - val_mae: 0.7189\n",
            "Epoch 38/150\n",
            "440/440 [==============================] - 4s 9ms/step - loss: 0.0011 - mae: 0.0246 - val_loss: 0.5541 - val_mae: 0.7178\n",
            "Epoch 39/150\n",
            "440/440 [==============================] - 4s 8ms/step - loss: 0.0011 - mae: 0.0239 - val_loss: 0.5552 - val_mae: 0.7186\n",
            "Epoch 40/150\n",
            "440/440 [==============================] - 4s 8ms/step - loss: 0.0010 - mae: 0.0233 - val_loss: 0.5551 - val_mae: 0.7186\n",
            "Epoch 41/150\n",
            "440/440 [==============================] - 4s 9ms/step - loss: 9.7151e-04 - mae: 0.0228 - val_loss: 0.5557 - val_mae: 0.7190\n",
            "Epoch 42/150\n",
            "440/440 [==============================] - 4s 8ms/step - loss: 9.1442e-04 - mae: 0.0222 - val_loss: 0.5542 - val_mae: 0.7179\n",
            "Epoch 43/150\n",
            "440/440 [==============================] - 4s 8ms/step - loss: 8.8476e-04 - mae: 0.0217 - val_loss: 0.5548 - val_mae: 0.7184\n",
            "Epoch 44/150\n",
            "440/440 [==============================] - 4s 8ms/step - loss: 8.4280e-04 - mae: 0.0211 - val_loss: 0.5538 - val_mae: 0.7176\n",
            "Epoch 45/150\n",
            "440/440 [==============================] - 4s 8ms/step - loss: 8.0605e-04 - mae: 0.0207 - val_loss: 0.5542 - val_mae: 0.7179\n",
            "Epoch 46/150\n",
            "440/440 [==============================] - 4s 8ms/step - loss: 7.8175e-04 - mae: 0.0204 - val_loss: 0.5545 - val_mae: 0.7181\n",
            "Epoch 47/150\n",
            "440/440 [==============================] - 4s 8ms/step - loss: 7.3794e-04 - mae: 0.0197 - val_loss: 0.5556 - val_mae: 0.7189\n",
            "Epoch 48/150\n",
            "440/440 [==============================] - 4s 8ms/step - loss: 7.2036e-04 - mae: 0.0196 - val_loss: 0.5534 - val_mae: 0.7173\n",
            "Epoch 49/150\n",
            "440/440 [==============================] - 4s 8ms/step - loss: 6.9968e-04 - mae: 0.0193 - val_loss: 0.5557 - val_mae: 0.7191\n",
            "Epoch 50/150\n",
            "440/440 [==============================] - 4s 8ms/step - loss: 6.9109e-04 - mae: 0.0189 - val_loss: 0.5534 - val_mae: 0.7173\n",
            "Epoch 51/150\n",
            "440/440 [==============================] - 4s 8ms/step - loss: 6.3556e-04 - mae: 0.0185 - val_loss: 0.5544 - val_mae: 0.7181\n",
            "Epoch 52/150\n",
            "440/440 [==============================] - 4s 9ms/step - loss: 5.8447e-04 - mae: 0.0174 - val_loss: 0.5538 - val_mae: 0.7175\n",
            "Epoch 53/150\n",
            "440/440 [==============================] - 4s 8ms/step - loss: 5.6098e-04 - mae: 0.0172 - val_loss: 0.5537 - val_mae: 0.7175\n",
            "Epoch 54/150\n",
            "440/440 [==============================] - 4s 8ms/step - loss: 5.3610e-04 - mae: 0.0168 - val_loss: 0.5535 - val_mae: 0.7174\n",
            "Epoch 55/150\n",
            "440/440 [==============================] - 4s 9ms/step - loss: 5.3064e-04 - mae: 0.0167 - val_loss: 0.5537 - val_mae: 0.7174\n",
            "Epoch 56/150\n",
            "440/440 [==============================] - 4s 9ms/step - loss: 5.0482e-04 - mae: 0.0163 - val_loss: 0.5540 - val_mae: 0.7177\n",
            "Epoch 57/150\n",
            "440/440 [==============================] - 4s 8ms/step - loss: 4.8307e-04 - mae: 0.0158 - val_loss: 0.5536 - val_mae: 0.7174\n",
            "Epoch 58/150\n",
            "440/440 [==============================] - 4s 8ms/step - loss: 4.6172e-04 - mae: 0.0156 - val_loss: 0.5529 - val_mae: 0.7169\n",
            "Epoch 59/150\n",
            "440/440 [==============================] - 4s 8ms/step - loss: 4.3897e-04 - mae: 0.0150 - val_loss: 0.5537 - val_mae: 0.7175\n",
            "Epoch 60/150\n",
            "440/440 [==============================] - 4s 8ms/step - loss: 4.2768e-04 - mae: 0.0150 - val_loss: 0.5535 - val_mae: 0.7173\n",
            "Epoch 61/150\n",
            "440/440 [==============================] - 4s 8ms/step - loss: 4.1135e-04 - mae: 0.0146 - val_loss: 0.5533 - val_mae: 0.7172\n",
            "Epoch 62/150\n",
            "440/440 [==============================] - 4s 8ms/step - loss: 4.0433e-04 - mae: 0.0145 - val_loss: 0.5530 - val_mae: 0.7170\n",
            "Epoch 63/150\n",
            "440/440 [==============================] - 4s 8ms/step - loss: 3.8199e-04 - mae: 0.0140 - val_loss: 0.5531 - val_mae: 0.7170\n",
            "Epoch 64/150\n",
            "440/440 [==============================] - 4s 9ms/step - loss: 3.6134e-04 - mae: 0.0135 - val_loss: 0.5529 - val_mae: 0.7169\n",
            "Epoch 65/150\n",
            "440/440 [==============================] - 4s 8ms/step - loss: 3.4908e-04 - mae: 0.0134 - val_loss: 0.5528 - val_mae: 0.7168\n",
            "Epoch 66/150\n",
            "440/440 [==============================] - 4s 8ms/step - loss: 3.4210e-04 - mae: 0.0131 - val_loss: 0.5532 - val_mae: 0.7171\n",
            "Epoch 67/150\n",
            "440/440 [==============================] - 4s 8ms/step - loss: 3.3543e-04 - mae: 0.0132 - val_loss: 0.5527 - val_mae: 0.7167\n",
            "Epoch 68/150\n",
            "440/440 [==============================] - 4s 8ms/step - loss: 3.3262e-04 - mae: 0.0129 - val_loss: 0.5526 - val_mae: 0.7167\n",
            "Epoch 69/150\n",
            "440/440 [==============================] - 4s 9ms/step - loss: 3.0785e-04 - mae: 0.0124 - val_loss: 0.5523 - val_mae: 0.7165\n",
            "Epoch 70/150\n",
            "440/440 [==============================] - 4s 8ms/step - loss: 2.9513e-04 - mae: 0.0122 - val_loss: 0.5532 - val_mae: 0.7171\n",
            "Epoch 71/150\n",
            "440/440 [==============================] - 4s 8ms/step - loss: 2.9023e-04 - mae: 0.0122 - val_loss: 0.5519 - val_mae: 0.7162\n",
            "Epoch 72/150\n",
            "440/440 [==============================] - 4s 8ms/step - loss: 2.7578e-04 - mae: 0.0118 - val_loss: 0.5522 - val_mae: 0.7163\n",
            "Epoch 73/150\n",
            "440/440 [==============================] - 4s 8ms/step - loss: 2.7505e-04 - mae: 0.0119 - val_loss: 0.5529 - val_mae: 0.7169\n",
            "Epoch 74/150\n",
            "440/440 [==============================] - 4s 8ms/step - loss: 2.5755e-04 - mae: 0.0114 - val_loss: 0.5524 - val_mae: 0.7165\n",
            "Epoch 75/150\n",
            "440/440 [==============================] - 4s 8ms/step - loss: 2.5525e-04 - mae: 0.0114 - val_loss: 0.5528 - val_mae: 0.7169\n",
            "Epoch 76/150\n",
            "440/440 [==============================] - 4s 8ms/step - loss: 2.4942e-04 - mae: 0.0111 - val_loss: 0.5528 - val_mae: 0.7168\n",
            "Epoch 77/150\n",
            "440/440 [==============================] - 4s 8ms/step - loss: 2.4163e-04 - mae: 0.0110 - val_loss: 0.5529 - val_mae: 0.7169\n",
            "Epoch 78/150\n",
            "440/440 [==============================] - 4s 9ms/step - loss: 2.3101e-04 - mae: 0.0108 - val_loss: 0.5517 - val_mae: 0.7160\n",
            "Epoch 79/150\n",
            "440/440 [==============================] - 4s 8ms/step - loss: 2.2086e-04 - mae: 0.0106 - val_loss: 0.5519 - val_mae: 0.7162\n",
            "Epoch 80/150\n",
            "440/440 [==============================] - 4s 8ms/step - loss: 2.1392e-04 - mae: 0.0102 - val_loss: 0.5531 - val_mae: 0.7170\n",
            "Epoch 81/150\n",
            "440/440 [==============================] - 4s 8ms/step - loss: 2.0954e-04 - mae: 0.0104 - val_loss: 0.5521 - val_mae: 0.7163\n",
            "Epoch 82/150\n",
            "440/440 [==============================] - 4s 8ms/step - loss: 2.0695e-04 - mae: 0.0102 - val_loss: 0.5530 - val_mae: 0.7169\n",
            "Epoch 83/150\n",
            "440/440 [==============================] - 4s 8ms/step - loss: 2.0108e-04 - mae: 0.0099 - val_loss: 0.5521 - val_mae: 0.7163\n",
            "Epoch 84/150\n",
            "440/440 [==============================] - 4s 8ms/step - loss: 1.9807e-04 - mae: 0.0100 - val_loss: 0.5523 - val_mae: 0.7164\n",
            "Epoch 85/150\n",
            "440/440 [==============================] - 4s 8ms/step - loss: 1.8891e-04 - mae: 0.0096 - val_loss: 0.5527 - val_mae: 0.7168\n",
            "Epoch 86/150\n",
            "440/440 [==============================] - 4s 8ms/step - loss: 1.8361e-04 - mae: 0.0095 - val_loss: 0.5526 - val_mae: 0.7167\n",
            "Epoch 87/150\n",
            "440/440 [==============================] - 4s 8ms/step - loss: 1.7540e-04 - mae: 0.0093 - val_loss: 0.5520 - val_mae: 0.7163\n",
            "Epoch 88/150\n",
            "440/440 [==============================] - 4s 8ms/step - loss: 1.7051e-04 - mae: 0.0091 - val_loss: 0.5531 - val_mae: 0.7170\n",
            "Epoch 89/150\n",
            "440/440 [==============================] - 4s 8ms/step - loss: 1.6391e-04 - mae: 0.0089 - val_loss: 0.5529 - val_mae: 0.7169\n",
            "Epoch 90/150\n",
            "440/440 [==============================] - 4s 8ms/step - loss: 1.5817e-04 - mae: 0.0087 - val_loss: 0.5527 - val_mae: 0.7167\n",
            "Epoch 91/150\n",
            "440/440 [==============================] - 4s 8ms/step - loss: 1.5439e-04 - mae: 0.0086 - val_loss: 0.5524 - val_mae: 0.7165\n",
            "Epoch 92/150\n",
            "440/440 [==============================] - 4s 8ms/step - loss: 1.5108e-04 - mae: 0.0085 - val_loss: 0.5530 - val_mae: 0.7170\n",
            "Epoch 93/150\n",
            "440/440 [==============================] - 4s 8ms/step - loss: 1.4961e-04 - mae: 0.0084 - val_loss: 0.5519 - val_mae: 0.7162\n",
            "Epoch 94/150\n",
            "440/440 [==============================] - 4s 8ms/step - loss: 1.5342e-04 - mae: 0.0087 - val_loss: 0.5523 - val_mae: 0.7164\n",
            "Epoch 95/150\n",
            "440/440 [==============================] - 4s 8ms/step - loss: 1.4740e-04 - mae: 0.0083 - val_loss: 0.5530 - val_mae: 0.7169\n",
            "Epoch 96/150\n",
            "440/440 [==============================] - 4s 8ms/step - loss: 1.4380e-04 - mae: 0.0082 - val_loss: 0.5536 - val_mae: 0.7174\n",
            "Epoch 97/150\n",
            "440/440 [==============================] - 4s 8ms/step - loss: 1.3065e-04 - mae: 0.0079 - val_loss: 0.5524 - val_mae: 0.7165\n",
            "Epoch 98/150\n",
            "440/440 [==============================] - 4s 8ms/step - loss: 1.2842e-04 - mae: 0.0077 - val_loss: 0.5527 - val_mae: 0.7168\n",
            "Epoch 99/150\n",
            "440/440 [==============================] - 4s 8ms/step - loss: 1.3185e-04 - mae: 0.0080 - val_loss: 0.5534 - val_mae: 0.7173\n",
            "Epoch 100/150\n",
            "440/440 [==============================] - 4s 8ms/step - loss: 1.2678e-04 - mae: 0.0078 - val_loss: 0.5543 - val_mae: 0.7179\n",
            "Epoch 101/150\n",
            "440/440 [==============================] - 4s 9ms/step - loss: 1.2084e-04 - mae: 0.0077 - val_loss: 0.5529 - val_mae: 0.7169\n",
            "Epoch 102/150\n",
            "440/440 [==============================] - 4s 9ms/step - loss: 1.2278e-04 - mae: 0.0077 - val_loss: 0.5541 - val_mae: 0.7178\n",
            "Epoch 103/150\n",
            "440/440 [==============================] - 4s 8ms/step - loss: 1.1732e-04 - mae: 0.0075 - val_loss: 0.5530 - val_mae: 0.7170\n",
            "Epoch 104/150\n",
            "440/440 [==============================] - 4s 8ms/step - loss: 1.1403e-04 - mae: 0.0075 - val_loss: 0.5525 - val_mae: 0.7166\n",
            "Epoch 105/150\n",
            "440/440 [==============================] - 4s 8ms/step - loss: 1.0743e-04 - mae: 0.0072 - val_loss: 0.5533 - val_mae: 0.7172\n",
            "Epoch 106/150\n",
            "440/440 [==============================] - 4s 8ms/step - loss: 1.0882e-04 - mae: 0.0070 - val_loss: 0.5540 - val_mae: 0.7177\n",
            "Epoch 107/150\n",
            "440/440 [==============================] - 4s 8ms/step - loss: 1.0147e-04 - mae: 0.0067 - val_loss: 0.5529 - val_mae: 0.7169\n",
            "Epoch 108/150\n",
            "440/440 [==============================] - 4s 8ms/step - loss: 1.0154e-04 - mae: 0.0069 - val_loss: 0.5539 - val_mae: 0.7176\n",
            "Epoch 109/150\n",
            "440/440 [==============================] - 4s 8ms/step - loss: 9.9761e-05 - mae: 0.0067 - val_loss: 0.5542 - val_mae: 0.7178\n",
            "Epoch 110/150\n",
            "440/440 [==============================] - 4s 8ms/step - loss: 9.6263e-05 - mae: 0.0066 - val_loss: 0.5537 - val_mae: 0.7175\n",
            "Epoch 111/150\n",
            "440/440 [==============================] - 4s 8ms/step - loss: 9.4701e-05 - mae: 0.0066 - val_loss: 0.5537 - val_mae: 0.7175\n",
            "Epoch 112/150\n",
            "440/440 [==============================] - 4s 8ms/step - loss: 9.2605e-05 - mae: 0.0068 - val_loss: 0.5529 - val_mae: 0.7169\n",
            "Epoch 113/150\n",
            "440/440 [==============================] - 4s 8ms/step - loss: 9.3426e-05 - mae: 0.0067 - val_loss: 0.5544 - val_mae: 0.7180\n",
            "Epoch 114/150\n",
            "440/440 [==============================] - 4s 8ms/step - loss: 8.7112e-05 - mae: 0.0063 - val_loss: 0.5538 - val_mae: 0.7175\n",
            "Epoch 115/150\n",
            "440/440 [==============================] - 4s 8ms/step - loss: 8.5453e-05 - mae: 0.0063 - val_loss: 0.5538 - val_mae: 0.7176\n",
            "Epoch 116/150\n",
            "440/440 [==============================] - 4s 8ms/step - loss: 8.0647e-05 - mae: 0.0061 - val_loss: 0.5545 - val_mae: 0.7181\n",
            "Epoch 117/150\n",
            "440/440 [==============================] - 4s 8ms/step - loss: 7.7157e-05 - mae: 0.0061 - val_loss: 0.5536 - val_mae: 0.7174\n",
            "Epoch 118/150\n",
            "440/440 [==============================] - 4s 8ms/step - loss: 7.5111e-05 - mae: 0.0057 - val_loss: 0.5545 - val_mae: 0.7181\n",
            "Epoch 119/150\n",
            "440/440 [==============================] - 4s 9ms/step - loss: 7.6085e-05 - mae: 0.0059 - val_loss: 0.5548 - val_mae: 0.7182\n",
            "Epoch 120/150\n",
            "440/440 [==============================] - 4s 8ms/step - loss: 7.2432e-05 - mae: 0.0057 - val_loss: 0.5543 - val_mae: 0.7179\n",
            "Epoch 121/150\n",
            "440/440 [==============================] - 4s 8ms/step - loss: 7.0960e-05 - mae: 0.0056 - val_loss: 0.5549 - val_mae: 0.7184\n",
            "Epoch 122/150\n",
            "440/440 [==============================] - 4s 8ms/step - loss: 7.1226e-05 - mae: 0.0056 - val_loss: 0.5544 - val_mae: 0.7180\n",
            "Epoch 123/150\n",
            "440/440 [==============================] - 4s 8ms/step - loss: 7.1259e-05 - mae: 0.0056 - val_loss: 0.5544 - val_mae: 0.7180\n",
            "Epoch 124/150\n",
            "440/440 [==============================] - 4s 8ms/step - loss: 6.8338e-05 - mae: 0.0056 - val_loss: 0.5543 - val_mae: 0.7179\n",
            "Epoch 125/150\n",
            "440/440 [==============================] - 4s 8ms/step - loss: 6.6015e-05 - mae: 0.0056 - val_loss: 0.5558 - val_mae: 0.7190\n",
            "Epoch 126/150\n",
            "440/440 [==============================] - 4s 8ms/step - loss: 6.7986e-05 - mae: 0.0056 - val_loss: 0.5549 - val_mae: 0.7183\n",
            "Epoch 127/150\n",
            "440/440 [==============================] - 4s 8ms/step - loss: 7.0330e-05 - mae: 0.0057 - val_loss: 0.5546 - val_mae: 0.7181\n",
            "Epoch 128/150\n",
            "440/440 [==============================] - 4s 8ms/step - loss: 6.3882e-05 - mae: 0.0055 - val_loss: 0.5546 - val_mae: 0.7181\n",
            "Epoch 129/150\n",
            "440/440 [==============================] - 4s 8ms/step - loss: 6.2299e-05 - mae: 0.0053 - val_loss: 0.5555 - val_mae: 0.7188\n",
            "Epoch 130/150\n",
            "440/440 [==============================] - 4s 8ms/step - loss: 6.3811e-05 - mae: 0.0055 - val_loss: 0.5561 - val_mae: 0.7192\n",
            "Epoch 131/150\n",
            "440/440 [==============================] - 4s 8ms/step - loss: 6.5511e-05 - mae: 0.0055 - val_loss: 0.5564 - val_mae: 0.7195\n",
            "Epoch 132/150\n",
            "440/440 [==============================] - 4s 8ms/step - loss: 6.8004e-05 - mae: 0.0059 - val_loss: 0.5551 - val_mae: 0.7185\n",
            "Epoch 133/150\n",
            "440/440 [==============================] - 4s 9ms/step - loss: 6.1380e-05 - mae: 0.0055 - val_loss: 0.5552 - val_mae: 0.7186\n",
            "Epoch 134/150\n",
            "440/440 [==============================] - 4s 8ms/step - loss: 5.2646e-05 - mae: 0.0048 - val_loss: 0.5552 - val_mae: 0.7185\n",
            "Epoch 135/150\n",
            "440/440 [==============================] - 4s 8ms/step - loss: 5.0763e-05 - mae: 0.0047 - val_loss: 0.5551 - val_mae: 0.7185\n",
            "Epoch 136/150\n",
            "440/440 [==============================] - 4s 8ms/step - loss: 5.2355e-05 - mae: 0.0049 - val_loss: 0.5553 - val_mae: 0.7186\n",
            "Epoch 137/150\n",
            "440/440 [==============================] - 4s 8ms/step - loss: 4.8819e-05 - mae: 0.0046 - val_loss: 0.5554 - val_mae: 0.7187\n",
            "Epoch 138/150\n",
            "440/440 [==============================] - 4s 8ms/step - loss: 4.5426e-05 - mae: 0.0043 - val_loss: 0.5558 - val_mae: 0.7190\n",
            "Epoch 139/150\n",
            "440/440 [==============================] - 4s 8ms/step - loss: 4.6875e-05 - mae: 0.0045 - val_loss: 0.5553 - val_mae: 0.7186\n",
            "Epoch 140/150\n",
            "440/440 [==============================] - 4s 8ms/step - loss: 4.5750e-05 - mae: 0.0045 - val_loss: 0.5551 - val_mae: 0.7184\n",
            "Epoch 141/150\n",
            "440/440 [==============================] - 4s 8ms/step - loss: 4.7829e-05 - mae: 0.0046 - val_loss: 0.5559 - val_mae: 0.7191\n",
            "Epoch 142/150\n",
            "440/440 [==============================] - 4s 8ms/step - loss: 4.5715e-05 - mae: 0.0044 - val_loss: 0.5562 - val_mae: 0.7193\n",
            "Epoch 143/150\n",
            "440/440 [==============================] - 4s 8ms/step - loss: 4.2443e-05 - mae: 0.0042 - val_loss: 0.5563 - val_mae: 0.7193\n",
            "Epoch 144/150\n",
            "440/440 [==============================] - 4s 8ms/step - loss: 4.3606e-05 - mae: 0.0044 - val_loss: 0.5569 - val_mae: 0.7198\n",
            "Epoch 145/150\n",
            "440/440 [==============================] - 4s 8ms/step - loss: 4.2864e-05 - mae: 0.0044 - val_loss: 0.5568 - val_mae: 0.7197\n",
            "Epoch 146/150\n",
            "440/440 [==============================] - 4s 8ms/step - loss: 4.0941e-05 - mae: 0.0043 - val_loss: 0.5563 - val_mae: 0.7194\n",
            "Epoch 147/150\n",
            "440/440 [==============================] - 4s 8ms/step - loss: 4.0219e-05 - mae: 0.0042 - val_loss: 0.5560 - val_mae: 0.7192\n",
            "Epoch 148/150\n",
            "440/440 [==============================] - 4s 8ms/step - loss: 3.8592e-05 - mae: 0.0042 - val_loss: 0.5561 - val_mae: 0.7192\n",
            "Epoch 149/150\n",
            "440/440 [==============================] - 4s 8ms/step - loss: 3.7427e-05 - mae: 0.0039 - val_loss: 0.5563 - val_mae: 0.7193\n",
            "Epoch 150/150\n",
            "440/440 [==============================] - 4s 8ms/step - loss: 4.0310e-05 - mae: 0.0042 - val_loss: 0.5568 - val_mae: 0.7197\n"
          ],
          "name": "stdout"
        }
      ]
    },
    {
      "cell_type": "code",
      "metadata": {
        "id": "Vkusttjpr9jZ",
        "colab_type": "code",
        "colab": {
          "base_uri": "https://localhost:8080/",
          "height": 573
        },
        "outputId": "388d78c8-db77-438f-a4f3-b92e5053d098"
      },
      "source": [
        "plt.plot(model4_trained.history['mae'])\n",
        "plt.plot(model4_trained.history['val_mae'])\n",
        "plt.title('Model Error')\n",
        "plt.ylabel('Mean Absolute Error')\n",
        "plt.xlabel('Epoch')\n",
        "plt.legend(['Train', 'Test'], loc='upper left')\n",
        "plt.show()\n",
        "\n",
        "plt.plot(model4_trained.history['loss'])\n",
        "plt.plot(model4_trained.history['val_loss'])\n",
        "plt.title('Model Loss')\n",
        "plt.ylabel('Loss')\n",
        "plt.xlabel('Epoch')\n",
        "plt.legend(['Train', 'Test'], loc='upper left')\n",
        "plt.show()"
      ],
      "execution_count": null,
      "outputs": [
        {
          "output_type": "display_data",
          "data": {
            "image/png": "[encoded data removed]",
            "text/plain": [
              "<Figure size 432x288 with 1 Axes>"
            ]
          },
          "metadata": {
            "tags": [],
            "needs_background": "light"
          }
        },
        {
          "output_type": "display_data",
          "data": {
            "image/png": "[encoded data removed]",
            "text/plain": [
              "<Figure size 432x288 with 1 Axes>"
            ]
          },
          "metadata": {
            "tags": [],
            "needs_background": "light"
          }
        }
      ]
    },
    {
      "cell_type": "code",
      "metadata": {
        "id": "T4rrC6vzsFq4",
        "colab_type": "code",
        "colab": {
          "base_uri": "https://localhost:8080/",
          "height": 678
        },
        "outputId": "1b3422d0-4b45-4b4b-c3ac-9e88f06918a6"
      },
      "source": [
        "model_output4 = model4.predict([X_l_te,X_r_te2])\n",
        "model_score4 = get_scores(model_output4,Y_test1,100)\n",
        "print(model_score4)"
      ],
      "execution_count": null,
      "outputs": [
        {
          "output_type": "stream",
          "text": [
            "    Human Rater  Model   Accuracy\n",
            "0         92.50   15.0  16.216216\n",
            "1         92.50    6.0   6.486486\n",
            "2         77.50    7.0   9.032258\n",
            "3         89.75   10.0  11.142061\n",
            "4         87.50   15.0  17.142857\n",
            "5         97.50   35.0  35.897436\n",
            "6         90.00    7.0   7.777778\n",
            "7         90.00    9.0  10.000000\n",
            "8         85.00   13.0  15.294118\n",
            "9         77.50    8.0  10.322581\n",
            "10        85.00   22.0  25.882353\n",
            "11        67.50   15.0  22.222222\n",
            "12        92.50   12.0  12.972973\n",
            "13        92.50   17.0  18.378378\n",
            "14        87.50   10.0  11.428571\n",
            "15        95.00   16.0  16.842105\n",
            "16        92.50   11.0  11.891892\n",
            "17        77.50   11.0  14.193548\n",
            "18        87.50   14.0  16.000000\n",
            "19        95.00   12.0  12.631579\n",
            "20        92.50   19.0  20.540541\n",
            "21        80.00    4.0   5.000000\n",
            "22        82.50   14.0  16.969697\n",
            "23        77.50    9.0  11.612903\n",
            "24        80.00   11.0  13.750000\n",
            "25        82.50   19.0  23.030303\n",
            "26        80.00   14.0  17.500000\n",
            "27        75.00   13.0  17.333333\n",
            "28        90.00    9.0  10.000000\n",
            "29        75.00   18.0  24.000000\n",
            "30        50.00    7.0  14.000000\n",
            "31        87.50   14.0  16.000000\n",
            "32        80.00   14.0  17.500000\n",
            "33        87.50    6.0   6.857143\n",
            "34        90.00    8.0   8.888889\n"
          ],
          "name": "stdout"
        }
      ]
    },
    {
      "cell_type": "code",
      "metadata": {
        "id": "if9hOoaFsPjh",
        "colab_type": "code",
        "colab": {
          "base_uri": "https://localhost:8080/",
          "height": 274
        },
        "outputId": "b4ee5178-19e6-4aff-f123-54ac6ad4355d"
      },
      "source": [
        "model_training_output4 = model4.predict([X_l_t_k,X_r_t_k])\n",
        "training_score4 = get_scores(model_training_output4,Y_train1_k,100)\n",
        "print(training_score4)"
      ],
      "execution_count": null,
      "outputs": [
        {
          "output_type": "stream",
          "text": [
            "     Human Rater  Model  Accuracy\n",
            "0          100.0  100.0     100.0\n",
            "1           90.0   90.0     100.0\n",
            "2           80.0   80.0     100.0\n",
            "3           70.0   70.0     100.0\n",
            "4           60.0   60.0     100.0\n",
            "..           ...    ...       ...\n",
            "105         40.0   40.0     100.0\n",
            "106         30.0   30.0     100.0\n",
            "107         20.0   20.0     100.0\n",
            "108         10.0    9.0      90.0\n",
            "109          0.0    1.0       0.0\n",
            "\n",
            "[110 rows x 3 columns]\n"
          ],
          "name": "stdout"
        }
      ]
    },
    {
      "cell_type": "code",
      "metadata": {
        "id": "yIO9Z7Qxsedz",
        "colab_type": "code",
        "colab": {}
      },
      "source": [
        "def export_csv(score,output,fname):\n",
        "  f = '/content/drive/My Drive/KP-SEMINAR-SKRIPSI/SKRIPSI/Program/Output/'+fname\n",
        "  tab = {'true':score,'prediction':output}\n",
        "  dft = pd.DataFrame(tab)\n",
        "  dft.to_csv(f,index=False,header=True)"
      ],
      "execution_count": null,
      "outputs": []
    },
    {
      "cell_type": "code",
      "metadata": {
        "id": "e8BmZ-izuov5",
        "colab_type": "code",
        "colab": {}
      },
      "source": [
        "export_csv(Y_t1,model_training_output.flatten(),'skenario1_training.csv')\n",
        "export_csv(Y_te1,model_output.flatten(),'skenario1_testing.csv')"
      ],
      "execution_count": null,
      "outputs": []
    },
    {
      "cell_type": "code",
      "metadata": {
        "id": "16nOV80sxa2q",
        "colab_type": "code",
        "colab": {}
      },
      "source": [
        "export_csv(Y_t2,model_training_output2.flatten(),'skenario1_training2.csv')\n",
        "# export_csv(Y_te2,model_output2.flatten(),'skenario1_testing2.csv')"
      ],
      "execution_count": null,
      "outputs": []
    },
    {
      "cell_type": "code",
      "metadata": {
        "id": "qEiEPt09xzJ0",
        "colab_type": "code",
        "colab": {}
      },
      "source": [
        "export_csv(Y_test1,model_output3.flatten(),'skenario2_testing.csv')\n",
        "export_csv(Y_train1,model_training_output3.flatten(),'skenario2_training.csv')"
      ],
      "execution_count": null,
      "outputs": []
    },
    {
      "cell_type": "code",
      "metadata": {
        "id": "pguNt5VwyQst",
        "colab_type": "code",
        "colab": {}
      },
      "source": [
        "export_csv(Y_test1,model_output4.flatten(),'skenario2_testing2.csv')\n",
        "export_csv(Y_train1_k,model_training_output4.flatten(),'skenario2_training2.csv')"
      ],
      "execution_count": null,
      "outputs": []
    },
    {
      "cell_type": "code",
      "metadata": {
        "id": "q1iyaV0F0tE4",
        "colab_type": "code",
        "colab": {}
      },
      "source": [
        "f = '/content/drive/My Drive/KP-SEMINAR-SKRIPSI/SKRIPSI/Program/Output/'\n",
        "model_score.to_csv(f+'skenario1_testing3.csv',index=False,header=True)\n",
        "model_score2.to_csv(f+'skenario2_testing3.csv',index=False,header=True)\n",
        "model_score3.to_csv(f+'skenario3_testing3.csv',index=False,header=True)\n",
        "model_score4.to_csv(f+'skenario4_testing3.csv',index=False,header=True)"
      ],
      "execution_count": null,
      "outputs": []
    },
    {
      "cell_type": "code",
      "metadata": {
        "id": "FKH_Nk5a1zP1",
        "colab_type": "code",
        "colab": {}
      },
      "source": [
        "training_score.to_csv(f+'skenario1_training3.csv',index=False,header=True)\n",
        "training_score2.to_csv(f+'skenario2_training3.csv',index=False,header=True)\n",
        "training_score3.to_csv(f+'skenario3_training3.csv',index=False,header=True)\n",
        "training_score4.to_csv(f+'skenario4_training3.csv',index=False,header=True)"
      ],
      "execution_count": null,
      "outputs": []
    }
  ]
}