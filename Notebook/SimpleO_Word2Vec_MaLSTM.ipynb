{
  "nbformat": 4,
  "nbformat_minor": 0,
  "metadata": {
    "colab": {
      "name": "SimpleO_Word2Vec_MaLSTM_3.ipynb",
      "provenance": [],
      "collapsed_sections": []
    },
    "kernelspec": {
      "name": "python3",
      "display_name": "Python 3"
    }
  },
  "cells": [
    {
      "cell_type": "markdown",
      "metadata": {
        "id": "Fu69krhP1nJo",
        "colab_type": "text"
      },
      "source": [
        "# Sistem Penilaian Esai Otomatis (SIMPLE-O) untuk Ujian Bahasa Indonesia dengan Siamese Manhattan Long Short-Term Memory\n",
        "oleh Akmal Ramadhan Arifin\n",
        "\n",
        "Sistem Penilaian Esai Otomatis (SIMPLE-O) ini dirancang untuk melakukan penilaian ujian esai Bahasa Indonesia. Jawaban mahasiswa akan dibandingkan dengan jawaban dosen untuk diprediksi nilai kesamaan atau kecocokannya. Proses training Word2Vec dilakukan terlebih dahulu untuk menghasilkan vektor berukuran n-dimensi. Selanjutnya, hasil dari training Word2Vec tersebut digunakan sebagai bobot pada layer embedding Keras. Kemudian hasil dari embedding akan menjadikan setiap kata pada esai menjadi angka dengan n-dimensi. Lalu, tiap esai akan di-training dengan Long Short-Term Memory yang sama dan menghasilkan output berukuran 50 dimensi. Jawaban mahasiswa dan dosen akan diukur kemiripannya dengan similarity function."
      ]
    },
    {
      "cell_type": "markdown",
      "metadata": {
        "id": "LHw9gHNv24_b",
        "colab_type": "text"
      },
      "source": [
        "## Bagian 1: Pengambilan dan Preprocess Dataset"
      ]
    },
    {
      "cell_type": "code",
      "metadata": {
        "id": "KsIt_zT32wp_",
        "colab_type": "code",
        "colab": {
          "base_uri": "https://localhost:8080/",
          "height": 386
        },
        "outputId": "44db4905-2ccc-433b-be46-7c8919e1aae3"
      },
      "source": [
        "import numpy as np\n",
        "import pandas as pd\n",
        "!pip install docx2txt\n",
        "import docx2txt\n",
        "import re\n",
        "import os\n",
        "import gensim\n",
        "!pip install stop_words\n",
        "from stop_words import get_stop_words\n",
        "from keras.models import Model\n",
        "from keras.layers import Input, Embedding, LSTM, Lambda, Bidirectional\n",
        "from keras.preprocessing.sequence import pad_sequences\n",
        "from keras.preprocessing.text import Tokenizer\n",
        "from keras.callbacks import ModelCheckpoint, ReduceLROnPlateau,EarlyStopping\n",
        "import keras.backend as K\n",
        "from keras.optimizers import RMSprop,Adam,SGD,Adamax,Adadelta\n",
        "from keras.regularizers import l2\n",
        "from keras.metrics import RootMeanSquaredError"
      ],
      "execution_count": null,
      "outputs": [
        {
          "output_type": "stream",
          "text": [
            "Collecting docx2txt\n",
            "  Downloading https://files.pythonhosted.org/packages/7d/7d/60ee3f2b16d9bfdfa72e8599470a2c1a5b759cb113c6fe1006be28359327/docx2txt-0.8.tar.gz\n",
            "Building wheels for collected packages: docx2txt\n",
            "  Building wheel for docx2txt (setup.py) ... \u001b[?25l\u001b[?25hdone\n",
            "  Created wheel for docx2txt: filename=docx2txt-0.8-cp36-none-any.whl size=3963 sha256=f7d8b6cc564fb1094d5255288bc91e5a60073d86cf4d7cc98198e572c3222670\n",
            "  Stored in directory: /root/.cache/pip/wheels/b2/1f/26/a051209bbb77fc6bcfae2bb7e01fa0ff941b82292ab084d596\n",
            "Successfully built docx2txt\n",
            "Installing collected packages: docx2txt\n",
            "Successfully installed docx2txt-0.8\n",
            "Collecting stop_words\n",
            "  Downloading https://files.pythonhosted.org/packages/1c/cb/d58290804b7a4c5daa42abbbe2a93c477ae53e45541b1825e86f0dfaaf63/stop-words-2018.7.23.tar.gz\n",
            "Building wheels for collected packages: stop-words\n",
            "  Building wheel for stop-words (setup.py) ... \u001b[?25l\u001b[?25hdone\n",
            "  Created wheel for stop-words: filename=stop_words-2018.7.23-cp36-none-any.whl size=32917 sha256=7a2036a622ec30e5202b837032141111c057784e6a8e252d3332f0b2a0cbbe73\n",
            "  Stored in directory: /root/.cache/pip/wheels/75/37/6a/2b295e03bd07290f0da95c3adb9a74ba95fbc333aa8b0c7c78\n",
            "Successfully built stop-words\n",
            "Installing collected packages: stop-words\n",
            "Successfully installed stop-words-2018.7.23\n"
          ],
          "name": "stdout"
        },
        {
          "output_type": "stream",
          "text": [
            "Using TensorFlow backend.\n"
          ],
          "name": "stderr"
        }
      ]
    },
    {
      "cell_type": "code",
      "metadata": {
        "id": "IxyBPe4L3KwW",
        "colab_type": "code",
        "colab": {}
      },
      "source": [
        "#Ubah direktori sesuai lokasi penyimpanan dataset\n",
        "DIR_DATA_MHS = '/content/drive/My Drive/KP-SEMINAR-SKRIPSI/SKRIPSI/Program/Dataset/jawaban_mahasiswa/'\n",
        "DIR_DATA_DSN = '/content/drive/My Drive/KP-SEMINAR-SKRIPSI/SKRIPSI/Program/Dataset/jawaban_dosen/'\n",
        "DIR_DATA_FORM = '/content/drive/My Drive/KP-SEMINAR-SKRIPSI/SKRIPSI/Program/Dataset/dataset2.csv'\n",
        "DIR_HUMAN_RATER_4 = '/content/drive/My Drive/KP-SEMINAR-SKRIPSI/SKRIPSI/Program/Dataset/human_rater4.csv'\n",
        "DIR_W2V_MODELS = '/content/drive/My Drive/KP-SEMINAR-SKRIPSI/SKRIPSI/Program/Dataset/word2vec_models/'"
      ],
      "execution_count": null,
      "outputs": []
    },
    {
      "cell_type": "code",
      "metadata": {
        "id": "xU6AYvWF3Xi3",
        "colab_type": "code",
        "colab": {}
      },
      "source": [
        "stop_words = get_stop_words('indonesian')\n",
        "def preprocess(text):\n",
        "  text = re.sub(\"[^A-Za-z0-9]\", \" \", text)\n",
        "  text = re.sub(\"^[0-9]\", \" \", text)\n",
        "  words = text.lower().split()\n",
        "  words = \" \".join([str(word) for word in words if not word in stop_words])\n",
        "  return words\n",
        "\n",
        "def get_data(size=36):\n",
        "  files = []  \n",
        "\n",
        "  for i in range(1,5):\n",
        "    name = DIR_DATA_DSN+'jwb'+str(i)+'.docx'\n",
        "    files.append(name)\n",
        "\n",
        "  for i in range(1,5):\n",
        "    name = DIR_DATA_DSN+'jwbdosen'+str(i)+'.docx'\n",
        "    files.append(name)\n",
        "  \n",
        "  for i in range(1,size):\n",
        "    name = DIR_DATA_MHS+'Mahasiswa'+str(i)+'.docx'\n",
        "    files.append(name)\n",
        "\n",
        "  documents = []\n",
        "  for i in range(len(files)):\n",
        "    text = docx2txt.process(files[i])\n",
        "    text = text.splitlines()\n",
        "    text = [x for x in text if x]\n",
        "    documents.append(text)\n",
        "    \n",
        "  fullDocs = [documents[i][x] for i in range(len(documents)) for x in range(len(documents[i]))]\n",
        "\n",
        "  finalText = []\n",
        "  for doc in fullDocs:\n",
        "    text = preprocess(doc)\n",
        "    finalText.append(text)\n",
        "  \n",
        "  return finalText"
      ],
      "execution_count": null,
      "outputs": []
    },
    {
      "cell_type": "code",
      "metadata": {
        "id": "Dph_FYEW3Za_",
        "colab_type": "code",
        "colab": {
          "base_uri": "https://localhost:8080/",
          "height": 35
        },
        "outputId": "6bcd8e26-752d-4b70-cb69-8e8cf84c6826"
      },
      "source": [
        "data = get_data()\n",
        "print(len(data))"
      ],
      "execution_count": null,
      "outputs": [
        {
          "output_type": "stream",
          "text": [
            "148\n"
          ],
          "name": "stdout"
        }
      ]
    },
    {
      "cell_type": "code",
      "metadata": {
        "id": "7DQt3ojs3btS",
        "colab_type": "code",
        "colab": {
          "base_uri": "https://localhost:8080/",
          "height": 54
        },
        "outputId": "d62e2a04-9216-4413-c15c-ab3c10e77e4a"
      },
      "source": [
        "X_right_train = data[:4]*35\n",
        "X_right_train2 = data[4:8]*35\n",
        "X_left_train = data[8:]\n",
        "print(len(X_right_train))\n",
        "print(len(X_left_train))"
      ],
      "execution_count": null,
      "outputs": [
        {
          "output_type": "stream",
          "text": [
            "140\n",
            "140\n"
          ],
          "name": "stdout"
        }
      ]
    },
    {
      "cell_type": "code",
      "metadata": {
        "id": "TMA12Anu3epj",
        "colab_type": "code",
        "colab": {
          "base_uri": "https://localhost:8080/",
          "height": 90
        },
        "outputId": "8a3b095e-3f12-4799-edb2-e66af850a290"
      },
      "source": [
        "y_df = pd.read_csv(DIR_HUMAN_RATER_4)\n",
        "human_rater = y_df['nilai']\n",
        "human_rater = human_rater.to_numpy()\n",
        "Y = human_rater.copy()\n",
        "Y_train1 = Y/100\n",
        "Y_train2 = Y.copy()\n",
        "\n",
        "print(Y_train1[:10])\n",
        "print(len(Y_train1))\n",
        "print(Y_train2[:10])\n",
        "print(len(Y_train2))"
      ],
      "execution_count": null,
      "outputs": [
        {
          "output_type": "stream",
          "text": [
            "[0.9 0.8 1.  1.  0.9 0.8 1.  1.  0.9 0.8]\n",
            "140\n",
            "[ 90  80 100 100  90  80 100 100  90  80]\n",
            "140\n"
          ],
          "name": "stdout"
        }
      ]
    },
    {
      "cell_type": "code",
      "metadata": {
        "id": "sVhu4Jlm3geh",
        "colab_type": "code",
        "colab": {
          "base_uri": "https://localhost:8080/",
          "height": 110
        },
        "outputId": "d71ee419-4cc3-4f20-c15a-36d97a4e3576"
      },
      "source": [
        "testdf = pd.read_csv(DIR_DATA_FORM)\n",
        "X_test = testdf['jawaban'].values\n",
        "Y_test = testdf['nilai'].values\n",
        "X_left_test = [preprocess(x) for x in X_test]\n",
        "X_right_test = data[:4]*20\n",
        "X_right_test2 = data[4:8]*20\n",
        "Y_test1 = Y_test/100\n",
        "\n",
        "print(len(X_left_test))\n",
        "print(X_left_test[0:5])\n",
        "print(Y_test[0:5])\n",
        "print(Y_test1[0:5])"
      ],
      "execution_count": null,
      "outputs": [
        {
          "output_type": "stream",
          "text": [
            "80\n",
            "['komputer besar menggunakan unit kontrol unit penghitung unit memori untuk input mengeluarkan output', 'kondisi mematikan daya komputer menyimpan kondisi hibernate state', 'client pengguna server pusat punya sistem', 'fitur untuk meningkatkan performa sistem penggunaan mendekati peggunaan maksimal', 'dasar perkembangan komputer bagian seperi alu memori io']\n",
            "[70 50 40 60 40]\n",
            "[0.7 0.5 0.4 0.6 0.4]\n"
          ],
          "name": "stdout"
        }
      ]
    },
    {
      "cell_type": "code",
      "metadata": {
        "id": "8T2EuI8V57Fv",
        "colab_type": "code",
        "colab": {
          "base_uri": "https://localhost:8080/",
          "height": 35
        },
        "outputId": "1291ac7a-7e3c-4acb-d452-be89628e2a59"
      },
      "source": [
        "data.extend(X_left_test)\n",
        "print(len(data))"
      ],
      "execution_count": null,
      "outputs": [
        {
          "output_type": "stream",
          "text": [
            "228\n"
          ],
          "name": "stdout"
        }
      ]
    },
    {
      "cell_type": "markdown",
      "metadata": {
        "id": "fPYcOSel3Uod",
        "colab_type": "text"
      },
      "source": [
        "## Bagian 2: Konversi Teks"
      ]
    },
    {
      "cell_type": "code",
      "metadata": {
        "id": "ZUUrCwyo6P35",
        "colab_type": "code",
        "colab": {
          "base_uri": "https://localhost:8080/",
          "height": 74
        },
        "outputId": "a25d74a2-8e50-4b39-ab27-f8a1bb424116"
      },
      "source": [
        "vocab = {}\n",
        "i = 1\n",
        "for answer in data:\n",
        "  for token in answer.split():\n",
        "    if token not in vocab:\n",
        "      vocab[token] = i\n",
        "      i += 1\n",
        "\n",
        "print(len(vocab))\n",
        "print(vocab)"
      ],
      "execution_count": null,
      "outputs": [
        {
          "output_type": "stream",
          "text": [
            "1061\n",
            "{'komputer': 1, 'model': 2, 'von': 3, 'neumann': 4, 'arsitektur': 5, 'dideskripsikan': 6, 'john': 7, 'tahun': 8, '1945': 9, 'first': 10, 'draft': 11, 'of': 12, 'a': 13, 'report': 14, 'on': 15, 'the': 16, 'edvac': 17, 'dijadikan': 18, 'basis': 19, 'unit': 20, 'pemrosesan': 21, 'berisi': 22, 'alu': 23, 'register': 24, 'prosesor': 25, 'kontrol': 26, 'instruction': 27, 'program': 28, 'counter': 29, 'memori': 30, 'untuk': 31, 'menyimpan': 32, 'data': 33, 'instruksi': 34, 'penyimpanan': 35, 'eksternal': 36, 'mekanisme': 37, 'input': 38, 'output': 39, 'hibernate': 40, 'pc': 41, 'fitur': 42, 'mematikan': 43, 'waktu': 44, 'sleep': 45, 'menggunakan': 46, 'tenaga': 47, 'menjaga': 48, 'tetap': 49, 'menyala': 50, 'proses': 51, 'berjalan': 52, 'secondary': 53, 'memory': 54, 'menyimpannya': 55, 'ram': 56, 'mengalami': 57, 'hilang': 58, 'dinyalakan': 59, 'ulang': 60, 'awal': 61, 'berbeda': 62, 'melanjutkan': 63, 'dimatikan': 64, 'kehilangan': 65, 'mati': 66, 'kekurangan': 67, 'jumlah': 68, 'dibutuhkan': 69, 'storage': 70, 'cukup': 71, 'besar': 72, 'mengurangi': 73, 'umur': 74, 'ssd': 75, 'cepat': 76, 'menghidupkan': 77, 'kembali': 78, 'secepat': 79, 'membacanya': 80, 'client': 81, 'server': 82, 'jaringan': 83, 'komunikasi': 84, 'terjadi': 85, 'dua': 86, 'belah': 87, 'pihak': 88, 'penyedia': 89, 'layanan': 90, 'disebut': 91, 'pengguna': 92, 'peminta': 93, 'umumnya': 94, 'kedua': 95, 'berkomunikasi': 96, 'hardware': 97, 'satu': 98, 'mesin': 99, 'sistem': 100, 'turbo': 101, 'boost': 102, 'salah': 103, 'masa': 104, 'bertujuan': 105, 'mempercepat': 106, 'kinerja': 107, 'kondisinya': 108, 'terpenuhi': 109, 'diraih': 110, 'cara': 111, 'menaikkan': 112, 'frekuensi': 113, 'clock': 114, 'sesuai': 115, 'ruang': 116, 'peningkatan': 117, 'direkomendasikan': 118, 'pembuat': 119, 'chip': 120, 'thermal': 121, 'headroom': 122, 'memiliki': 123, 'syarat': 124, 'kondisi': 125, 'bergantung': 126, 'temperatur': 127, 'load': 128, 'bekerja': 129, 'jauh': 130, 'batas': 131, 'atas': 132, 'kerja': 133, 'tinggi': 134, 'meningkatkan': 135, 'nya': 136, 'mengerjakan': 137, 'beban': 138, 'meningkat': 139, 'stabilitas': 140, 'maksimal': 141, 'mendekati': 142, 'base': 143, 'pertama': 144, 'konsep': 145, 'dimana': 146, 'komponen': 147, 'komponennya': 148, 'berupa': 149, 'dijalankan': 150, 'berada': 151, 'dialihkan': 152, 'hard': 153, 'disk': 154, 'rom': 155, 'jadi': 156, 'dikembalikan': 157, 'seakan': 158, 'sepenuhnya': 159, 'host': 160, 'menjadi': 161, 'tempat': 162, 'informasi': 163, 'dituju': 164, 'diakses': 165, 'alat': 166, 'mengakses': 167, 'meminta': 168, 'dikirim': 169, 'berfungsi': 170, 'mengirimkan': 171, 'simpan': 172, 'kecepatan': 173, 'pengolahan': 174, 'dimaksud': 175, 'transmisi': 176, 'neuman': 177, 'arsitekturnya': 178, 'digunnakan': 179, 'cpu': 180, 'cu': 181, 'benar': 182, 'keadaan': 183, 'artinya': 184, 'transfer': 185, 'contoh': 186, 'end': 187, 'device': 188, 'berinteraksi': 189, 'langsung': 190, 'manusia': 191, 'request': 192, 'file': 193, 'contohnya': 194, 'laptop': 195, 'perangkat': 196, 'kapasitas': 197, 'berguna': 198, 'menyediakan': 199, 'misalnya': 200, 'dns': 201, 'http': 202, 'memungkinkan': 203, 'keras': 204, 'digunakan': 205, 'aplikasi': 206, 'memerlukan': 207, 'intensitas': 208, 'grafik': 209, 'aritmathic': 210, 'logical': 211, 'control': 212, 'windows': 213, 'memilih': 214, 'menu': 215, 'shutdown': 216, 'pilihan': 217, 'satunya': 218, 'masuk': 219, 'status': 220, 'aktif': 221, 'terhubung': 222, 'sumber': 223, 'daya': 224, 'baterai': 225, 'steker': 226, 'dimaksudkan': 227, 'menyalakan': 228, 'pekerjaan': 229, 'pusat': 230, 'memberikan': 231, 'tersedia': 232, 'download': 233, 'upload': 234, 'feature': 235, 'processor': 236, 'rate': 237, 'diperlukan': 238, 'dilakukan': 239, 'berat': 240, 'umum': 241, 'tertulis': 242, 'ntel': 243, 'i5': 244, '2': 245, '3': 246, 'ghz': 247, 'with': 248, 'up': 249, 'to': 250, '4': 251, 'normal': 252, 'ditanggung': 253, 'ditinggalkan': 254, 'menempatkan': 255, 'read': 256, 'only': 257, 'random': 258, 'access': 259, 'peta': 260, 'address': 261, 'bus': 262, 'tunggal': 263, 'mengalamati': 264, 'diciptakan': 265, '1903': 266, '1957': 267, 'buatan': 268, 'menggambarkan': 269, 'empat': 270, 'bagian': 271, 'utama': 272, 'aritmatika': 273, 'logis': 274, 'masukan': 275, 'i': 276, 'o': 277, 'dokumen': 278, 'terbuka': 279, 'power': 280, 'dihidupkan': 281, 'memulai': 282, 'menghibernate': 283, 'maksudnya': 284, 'tertutup': 285, 'bertindak': 286, 'database': 287, 'diupload': 288, 'tersimpan': 289, 'mendownload': 290, 'men': 291, 'website': 292, 'tsb': 293, 'tampilannya': 294, 'dll': 295, 'berkontribusi': 296, 'meng': 297, 'mengubah': 298, 'membuka': 299, 'mendapat': 300, 'tampilan': 301, 'websitenya': 302, 'penambahan': 303, 'tambahan': 304, 'flashdisk': 305, 'penuh': 306, 'dimasukan': 307, 'lambat': 308, 'dibandingkan': 309, 'port': 310, 'diolah': 311, 'menghasilkan': 312, 'keyboard': 313, 'mouse': 314, 'keluaran': 315, 'hasil': 316, 'diproleh': 317, 'printer': 318, 'speaker': 319, 'central': 320, 'processing': 321, 'memproses': 322, 'perhitungan': 323, 'matematis': 324, 'aritmatik': 325, 'energi': 326, 'rendah': 327, 'menutup': 328, 'close': 329, 'dilaksanakan': 330, 'pemberi': 331, 'penerima': 332, 'penyimpan': 333, 'menanggapi': 334, 'dikirimkan': 335, 'jawaban': 336, 'memintanya': 337, 'penguat': 338, 'computer': 339, 'performance': 340, 'kualitas': 341, 'baik': 342, 'didukung': 343, 'arithmatic': 344, 'and': 345, 'logic': 346, 'antarbagian': 347, 'dihubungkan': 348, 'menyebabkan': 349, 'tercabut': 350, 'terlepas': 351, 'listrik': 352, 'level': 353, 'melakukan': 354, 'mengolah': 355, 'perubahan': 356, 'mengatur': 357, 'booting': 358, 'melewati': 359, 'pengecekan': 360, 'penting': 361, 'motherboard': 362, 'divais': 363, 'tersambung': 364, 'cool': 365, 'boot': 366, 'skip': 367, 'menuju': 368, 'warm': 369, 'pemberitahuan': 370, 'permasalahan': 371, 'dideteksi': 372, 'diberikan': 373, 'dihilangkan': 374, 'berperan': 375, 'istilah': 376, 'mengoperasikan': 377, 'pengirim': 378, 'pengontrol': 379, 'clocknya': 380, 'cache': 381, 'media': 382, 'secara': 383, 'kolektif': 384, 'dinamakan': 385, 'awalnya': 386, 'membuat': 387, 'super': 388, 'menggabungkan': 389, 'mensimulasikan': 390, 'rumit': 391, 'user': 392, 'memakan': 393, 'penggunaan': 394, 'menampilkan': 395, 'layar': 396, 'desktop': 397, 'menghubungkan': 398, 'akses': 399, 'permintaan': 400, 'diminta': 401, 'protocol': 402, 'menerima': 403, 'khusus': 404, 'dimiliki': 405, 'jajaran': 406, 'intel': 407, 'core': 408, 'tiga': 409, 'varian': 410, 'i3': 411, 'i7': 412, 'clocks': 413, 'peed': 414, 'standar': 415, 'speed': 416, 'diatur': 417, 'fit': 418, 'otomatis': 419, 'performa': 420, 'standarnya': 421, 'mobile': 422, '3210m': 423, 'clockspeed': 424, '5': 425, '1': 426, 'membantu': 427, 'menjalankan': 428, 'visual': 429, 'desain': 430, 'gaming': 431, 'meumann': 432, 'van': 433, 'neumaan': 434, 'engan': 435, 'keyborad': 436, 'monitor': 437, 'otak': 438, 'bertugas': 439, 'mengendalikan': 440, 'peralatan': 441, 'melakkan': 442, 'jangka': 443, 'panjang': 444, 'muncul': 445, 'supply': 446, 'energy': 447, 'tiba': 448, 'terhenti': 449, 'fungsi': 450, 'aktivitas': 451, 'software': 452, 'mengenai': 453, 'balasan': 454, 'dalamnya': 455, 'cold': 456, 'neumman': 457, 'isinya': 458, 'aritmetic': 459, 'mencapai': 460, 'low': 461, 'state': 462, 'total': 463, 'prosesnya': 464, 'dimulai': 465, 'no': 466, 'ditampilkan': 467, 'kemampuan': 468, 'diatas': 469, 'game': 470, 'browsing': 471, 'inti': 472, 'beristirahat': 473, 'bekeja': 474, 'berisitirahat': 475, 'terdapat': 476, 'devices': 477, 'generasi': 478, 'dibuat': 479, '1940': 480, 'an': 481, 'akhir': 482, '1950': 483, 'terakhir': 484, 'berubah': 485, 'menjelajah': 486, 'internet': 487, 'pergi': 488, 'makan': 489, 'tab': 490, 'dibuka': 491, 'direkam': 492, 'disimpan': 493, 'dimuat': 494, 'me': 495, 'mengirmkan': 496, 'ip': 497, 'tujuan': 498, 'kedalam': 499, 'memeriksa': 500, 'alamat': 501, 'olek': 502, 'terdaftar': 503, 'tahapan': 504, 'dilewatkan': 505, 'bios': 506, 'mengecek': 507, 'ketersediaan': 508, 'terpasang': 509, 'system': 510, 'sound': 511, 'card': 512, 'graphic': 513, 'adress': 514, 'mengamati': 515, 'menghemat': 516, 'dipakai': 517, 'keuntungannya': 518, 'berhak': 519, 'berhubungan': 520, 'mempatkan': 521, 'aliran': 522, 'dihentikan': 523, 'terhapus': 524, 'mempunyai': 525, 'mengambil': 526, 'luar': 527, 'meliputi': 528, 'shut': 529, 'down': 530, 'restart': 531, 'menghilangkan': 532, 'source': 533, 'arithmetical': 534, 'diaplikasikan': 535, 'harddisk': 536, 'drive': 537, 'siap': 538, 'support': 539, 'kelelahan': 540, 'akibatnya': 541, 'loading': 542, 'perintah': 543, 'peintah': 544, 'selanjutnya': 545, 'ditemukan': 546, 'berikut': 547, 'termasuk': 548, 'posisi': 549, 'off': 550, 'perlu': 551, 'os': 552, 'pemakai': 553, 'merequest': 554, 'tesebut': 555, 'waktunya': 556, 'satuan': 557, 'normalnya': 558, 'nyala': 559, 'naik': 560, '9': 561, 'didalam': 562, 'sistemnya': 563, 'files': 564, 'temporarily': 565, 'dicabut': 566, 'mendapatkan': 567, 'tingkat': 568, 'fixed': 569, 'lintas': 570, 'klien': 571, 'membalasnya': 572, 'reply': 573, 'pendukung': 574, 'menunjukan': 575, 'tulisan': 576, 'gambar': 577, 'suara': 578, 'tugas': 579, 'sebuh': 580, 'sesi': 581, 'dikerjakan': 582, 'keadaannya': 583, 'mirip': 584, 'rentang': 585, 'mengeluarkan': 586, 'powered': 587, 'apapun': 588, 'kerjakan': 589, 'bawah': 590, 'hierarki': 591, 'terbatas': 592, 'singkatnya': 593, 'webpage': 594, 'pemaksaan': 595, 'pemaksimalan': 596, 'single': 597, 'threading': 598, 'application': 599, 'tergantung': 600, 'suhu': 601, 'bersangkutan': 602, 'letak': 603, 'mengalamatkan': 604, 'hak': 605, 'menguntungkan': 606, 'luas': 607, 'mudah': 608, 'memperoleh': 609, 'peer': 610, 'rata': 611, 'keempat': 612, 'berkas': 613, 'kawat': 614, 'beda': 615, 'halnya': 616, 'hidup': 617, 'gui': 618, 'command': 619, 'line': 620, 'utility': 621, 'membersihkan': 622, 'space': 623, 'mengoptimisasi': 624, 'efektif': 625, 'tertanamkan': 626, 'main': 627, 'pengoperasian': 628, 'algorithm': 629, 'biner': 630, 'menginterpretasikan': 631, 'eksekusi': 632, 'dioperasikan': 633, 'struktur': 634, 'virtual': 635, 'diproses': 636, 'diajukan': 637, 'dikenal': 638, 'meminimalisir': 639, 'arsitektural': 640, 'diterapkan': 641, 'mode': 642, 'mengistirahatkan': 643, 'disediakan': 644, 'operasi': 645, 'tegangan': 646, 'subjek': 647, 'membutuhkan': 648, 'sinyal': 649, 'diinginkan': 650, 'acknowledgement': 651, 'memberitahukan': 652, 'sukses': 653, 'teknologi': 654, 'seuah': 655, 'spesifikasi': 656, 'performanya': 657, 'multi': 658, 'penyusunnya': 659, 'menyerupai': 660, 'modern': 661, 'berlaku': 662, 'dilanjutkan': 663, 'dipelajari': 664, 'materi': 665, 'berbagai': 666, 'cabut': 667, 'metode': 668, 'pentransferan': 669, 'konten': 670, 'pembagian': 671, 'haya': 672, 'terfokus': 673, 'membagikan': 674, 'kontennya': 675, 'banyaknya': 676, 'mempengaruhi': 677, 'mengoptimalkan': 678, 'mem': 679, 'efisien': 680, 'nama': 681, 'diambil': 682, 'penciptanya': 683, 'bernama': 684, 'garis': 685, 'terbagi': 686, 'didalamnya': 687, 'aljabar': 688, 'boolean': 689, 'mempermudah': 690, 'karna': 691, 'handle': 692, 'terpakai': 693, 'keluar': 694, 'pengambilan': 695, 'hidupkan': 696, 'singkat': 697, 'clien': 698, 'bersifat': 699, 'ketka': 700, 'tugasnya': 701, 'melayani': 702, 'diperintahkan': 703, 'keterkaitan': 704, 'fungsinya': 705, 'menaikan': 706, 'sederhana': 707, 'overclock': 708, 'dibutuhkannya': 709, 'overclocking': 710, 'konvensional': 711, 'default': 712, 'keatas': 713, 'bermain': 714, 'voltase': 715, 'perbedaannya': 716, 'terutama': 717, 'aman': 718, 'resiko': 719, 'rusak': 720, 'memperhitungkan': 721, 'maksimum': 722, 'dimasukkan': 723, 'kerusakan': 724, 'tahu': 725, 'lakukan': 726, 'memasuki': 727, 'mengaktifkan': 728, 'membalas': 729, 'hubungan': 730, 'dicari': 731, 'sever': 732, 'si': 733, 'digambarkan': 734, 'menghentikan': 735, 'dipindahkan': 736, 'dasar': 737, 'pengiriman': 738, 'respon': 739, 'feedback': 740, 'seringkali': 741, 'task': 742, 'resource': 743, 'background': 744, 'service': 745, 'memprioritaskan': 746, 'prioritas': 747, 'optimal': 748, 'menurut': 749, 'buah': 750, 'berdasarkan': 751, 'logika': 752, 'jalur': 753, 'diletakkan': 754, 'save': 755, 'meneruskan': 756, 'keuntungan': 757, 'consumption': 758, 'pengaplikasian': 759, 'memindahkan': 760, 'koneksi': 761, 'terkoneksi': 762, 'pembukaan': 763, 'perpindahan': 764, 'semestinya': 765, 'konfigurasi': 766, 'lanjutkan': 767, 'mendatang': 768, 'prinsipnya': 769, 'akibat': 770, 'kerugian': 771, 'diakibatkan': 772, 'semetara': 773, 'cliet': 774, 'beroperasi': 775, 'dikeluarkan': 776, 'terkuras': 777, 'rangkaian': 778, 'olah': 779, 'terus': 780, 'diistirahatkan': 781, 'menunggu': 782, 'buka': 783, 'menggunakannya': 784, 'menginginkan': 785, 'memaksimalkan': 786, 'kata': 787, 'dipaksa': 788, 'semaksimal': 789, 'dibanding': 790, 'misal': 791, 'standard': 792, 'dimaksimalkan': 793, 'kemampuannya': 794, '0': 795, 'giga': 796, 'hertz': 797, 'memasukan': 798, 'blok': 799, 'bangunan': 800, 'mengontrol': 801, 'signal': 802, 'setalah': 803, 'mengankap': 804, 'mengeksekusinya': 805, 'matematika': 806, 'penjumlahan': 807, 'pengurangan': 808, 'hasilnya': 809, 'bentuk': 810, 'dimengerti': 811, 'diaktifkan': 812, 'internal': 813, 'mengalir': 814, 'memberi': 815, 'menjawab': 816, 'powernya': 817, 'perbedaan': 818, 'turn': 819, 'membagi': 820, 'dianamakan': 821, 'mempertahankan': 822, 'standby': 823, 'caranya': 824, 'copy': 825, 'kali': 826, 'berikutnya': 827, 'outlet': 828, 'volatile': 829, 'paket': 830, 'fasilitas': 831, 'diharapkan': 832, 'jenis': 833, 'ragam': 834, 'jaman': 835, 'word': 836, 'excel': 837, 'memanfaatkan': 838, 'pemilik': 839, 'konsumen': 840, 'fsb': 841, 'sebesar': 842, 'dipacu': 843, 'elektronika': 844, 'terbuat': 845, 'vacuum': 846, 'tube': 847, 'bahasa': 848, 'pemograman': 849, 'sifat': 850, 'sifatnya': 851, 'ukurannya': 852, 'pendingin': 853, 'kalor': 854, 'relatif': 855, 'kapasitansi': 856, 'memberhentikan': 857, 'ditutup': 858, 'hardisk': 859, 'interaksi': 860, 'mengirim': 861, 'memngirimkan': 862, 'pelayanan': 863, 'berdiri': 864, 'clientnya': 865, 'overload': 866, 'servernya': 867, 'network': 868, 'membutuhkannya': 869, '7': 870, '8': 871, 'aplikasinya': 872, 'multitasking': 873, 'panas': 874, 'pemakaian': 875, 'boros': 876, 'suplai': 877, 'arus': 878, 'dibagi': 879, 'diprocess': 880, 'alokasi': 881, 'lumayan': 882, 'keutuhan': 883, 'mengefisienkan': 884, 'admin': 885, 'demant': 886, 'izin': 887, 'supplier': 888, 'mengizinkan': 889, 'flash': 890, 'vram': 891, 'capable': 892, 'asli': 893, 'mother': 894, 'board': 895, 'pemroses': 896, 'airmatika': 897, 'dialiri': 898, 'mauskan': 899, 'gunakan': 900, 'konsumsi': 901, 'menyalakannya': 902, 'perlukan': 903, 'disinggung': 904, 'domain': 905, 'name': 906, 'hostname': 907, 'dikenali': 908, 'megakses': 909, 'scele': 910, 'ui': 911, 'ac': 912, 'id': 913, 'menghafal': 914, 'mengingat': 915, 'huruf': 916, 'diingat': 917, 'ole': 918, 'web': 919, 'kelebihan': 920, 'quad': 921, 'mensetting': 922, 'dual': 923, 'penghitung': 924, 'punya': 925, 'peggunaan': 926, 'perkembangan': 927, 'seperi': 928, 'io': 929, 'pengendali': 930, 'keamanan': 931, 'unsur': 932, 'brainware': 933, 'berarti': 934, 'berlangsung': 935, 'jalankan': 936, 'dijeda': 937, 'entitas': 938, 'dunia': 939, 'otomotif': 940, 'tekanan': 941, 'udara': 942, 'siklus': 943, 'pembakaran': 944, 'dijumpai': 945, 'sub': 946, 'arithmetic': 947, 'slot': 948, 'akumulator': 949, 'kesamaan': 950, 'relasi': 951, 'terjalin': 952, 'mail': 953, 'smartphone': 954, 'menjalin': 955, 'dinaikkan': 956, 'dampak': 957, 'buruk': 958, 'disebabkan': 959, 'signifikan': 960, 'sejarah': 961, 'perang': 962, 'alan': 963, 'turing': 964, 'ilmuwan': 965, 'inggris': 966, 'memecahkan': 967, 'kode': 968, 'rahasia': 969, 'milik': 970, 'jerman': 971, 'keberhasilan': 972, 'ilmuan': 973, 'mengembangkan': 974, 'pemecah': 975, 'komputasi': 976, 'dibilang': 977, 'mesinnya': 978, 'sebagian': 979, 'dihemat': 980, 'disana': 981, 'pesan': 982, 'koneksinya': 983, 'ack': 984, 'mobil': 985, 'digaspol': 986, 'berkat': 987, 'kencang': 988, 'suka': 989, '10': 990, 'sisi': 991, 'maaf': 992, 'kurang': 993, 'architecture': 994, 'is': 995, 'based': 996, 'stored': 997, 'concept': 998, 'where': 999, 'are': 1000, 'in': 1001, 'same': 1002, 'this': 1003, 'design': 1004, 'still': 1005, 'used': 1006, 'most': 1007, 'computers': 1008, 'produced': 1009, 'today': 1010, 'kondisis': 1011, 'disimpa': 1012, 'pendinginan': 1013, 'digunkakan': 1014, 'hinggu': 1015, 'aritmetika': 1016, 'dirancang': 1017, 'mendongkrak': 1018, 'non': 1019, 'fundamental': 1020, 'centralized': 1021, 'infrastructure': 1022, 'yg': 1023, 'ouput': 1024, 'diputus': 1025, 'kegiatan': 1026, 'page': 1027, 'clockrate': 1028, 'menympan': 1029, 'disebutkan': 1030, 'hadir': 1031, 'guna': 1032, 'memperbaiki': 1033, 'eniac': 1034, 'perbaiki': 1035, 'teknis': 1036, 'interpretasi': 1037, 'lingkungan': 1038, 'penghematan': 1039, 'stand': 1040, 'by': 1041, 'dalm': 1042, 'terinstal': 1043, 'browser': 1044, 'halaman': 1045, 'persis': 1046, 'dikategorikan': 1047, 'tablet': 1048, '9850h': 1049, '60': 1050, 'frekuensinya': 1051, 'pedoman': 1052, 'hdd': 1053, 'produsen': 1054, 'memadai': 1055, 'terdistribusi': 1056, 'arah': 1057, 'bedanya': 1058, 'mengirimkannya': 1059, 'ditingkatkan': 1060, 'clocking': 1061}\n"
          ],
          "name": "stdout"
        }
      ]
    },
    {
      "cell_type": "code",
      "metadata": {
        "id": "u2UqVExa6VnN",
        "colab_type": "code",
        "colab": {
          "base_uri": "https://localhost:8080/",
          "height": 90
        },
        "outputId": "fd86f96e-8e21-4f7c-e04f-27cfa7c50698"
      },
      "source": [
        "len_data = []\n",
        "len_data = [len(x.split()) for x in data]\n",
        "print(np.mean(len_data))\n",
        "print(np.min(len_data))\n",
        "print(np.max(len_data))\n",
        "print(np.percentile(len_data, 98))"
      ],
      "execution_count": null,
      "outputs": [
        {
          "output_type": "stream",
          "text": [
            "27.728070175438596\n",
            "2\n",
            "104\n",
            "80.92000000000002\n"
          ],
          "name": "stdout"
        }
      ]
    },
    {
      "cell_type": "code",
      "metadata": {
        "id": "e82srlJX6ZA3",
        "colab_type": "code",
        "colab": {}
      },
      "source": [
        "max_features = 1100\n",
        "max_len = 80\n",
        "\n",
        "tokenizer = Tokenizer(num_words=max_features)\n",
        "tokenizer.fit_on_texts(data)\n",
        "\n",
        "list_right_train = tokenizer.texts_to_sequences(X_right_train)\n",
        "list_right_train2 = tokenizer.texts_to_sequences(X_right_train2)\n",
        "list_left_train = tokenizer.texts_to_sequences(X_left_train)\n",
        "list_right_test = tokenizer.texts_to_sequences(X_right_test)\n",
        "list_right_test2 = tokenizer.texts_to_sequences(X_right_test2)\n",
        "list_left_test = tokenizer.texts_to_sequences(X_left_test)\n",
        "\n",
        "X_r_t = pad_sequences(list_right_train, maxlen=max_len, padding='post', truncating='post')\n",
        "X_r_t2 = pad_sequences(list_right_train2, maxlen=max_len, padding='post', truncating='post')\n",
        "X_l_t = pad_sequences(list_left_train, maxlen=max_len, padding='post', truncating='post')\n",
        "X_r_te = pad_sequences(list_right_test, maxlen=max_len, padding='post', truncating='post')\n",
        "X_r_te2 = pad_sequences(list_right_test2, maxlen=max_len, padding='post', truncating='post')\n",
        "X_l_te = pad_sequences(list_left_test, maxlen=max_len, padding='post', truncating='post')"
      ],
      "execution_count": null,
      "outputs": []
    },
    {
      "cell_type": "code",
      "metadata": {
        "id": "uaQvHXrY6tyS",
        "colab_type": "code",
        "colab": {
          "base_uri": "https://localhost:8080/",
          "height": 384
        },
        "outputId": "bc253caf-982d-4bfb-e01a-05bc93529ff9"
      },
      "source": [
        "print(X_r_t[0])\n",
        "print(X_l_t[0])\n",
        "print(X_r_te[0])\n",
        "print(X_l_te[0])"
      ],
      "execution_count": null,
      "outputs": [
        {
          "output_type": "stream",
          "text": [
            "[  1  21  12  13  21  25 540 148  12  13 203 288 541 542 543 544 545 289\n",
            " 290 546  21  25 291 547   1   9 204 205  22 182  46   9  75 205 292 182\n",
            "  14 378  20   4  37   2 105  63 548 245  16  18   0   0   0   0   0   0\n",
            "   0   0   0   0   0   0   0   0   0   0   0   0   0   0   0   0   0   0\n",
            "   0   0   0   0   0   0   0   0]\n",
            "[ 12 306  25   1 565 566  20  16  18  29 107  22   0   0   0   0   0   0\n",
            "   0   0   0   0   0   0   0   0   0   0   0   0   0   0   0   0   0   0\n",
            "   0   0   0   0   0   0   0   0   0   0   0   0   0   0   0   0   0   0\n",
            "   0   0   0   0   0   0   0   0   0   0   0   0   0   0   0   0   0   0\n",
            "   0   0   0   0   0   0   0   0]\n",
            "[  1  21  12  13  21  25 540 148  12  13 203 288 541 542 543 544 545 289\n",
            " 290 546  21  25 291 547   1   9 204 205  22 182  46   9  75 205 292 182\n",
            "  14 378  20   4  37   2 105  63 548 245  16  18   0   0   0   0   0   0\n",
            "   0   0   0   0   0   0   0   0   0   0   0   0   0   0   0   0   0   0\n",
            "   0   0   0   0   0   0   0   0]\n",
            "[  1  78  53   9  75   9 943   9  20   4  16 351  18   0   0   0   0   0\n",
            "   0   0   0   0   0   0   0   0   0   0   0   0   0   0   0   0   0   0\n",
            "   0   0   0   0   0   0   0   0   0   0   0   0   0   0   0   0   0   0\n",
            "   0   0   0   0   0   0   0   0   0   0   0   0   0   0   0   0   0   0\n",
            "   0   0   0   0   0   0   0   0]\n"
          ],
          "name": "stdout"
        }
      ]
    },
    {
      "cell_type": "code",
      "metadata": {
        "id": "XesfC2hD6wUi",
        "colab_type": "code",
        "colab": {
          "base_uri": "https://localhost:8080/",
          "height": 129
        },
        "outputId": "19e3b38b-ca81-416e-fadc-a451f80e6e97"
      },
      "source": [
        "w2v_model = DIR_W2V_MODELS+'idwiki_word2vec_200.model'\n",
        "id_w2v = gensim.models.Word2Vec.load(w2v_model)\n",
        "print(id_w2v.wv.most_similar('komputer'))"
      ],
      "execution_count": null,
      "outputs": [
        {
          "output_type": "stream",
          "text": [
            "/usr/local/lib/python3.6/dist-packages/smart_open/smart_open_lib.py:254: UserWarning: This function is deprecated, use smart_open.open instead. See the migration notes for details: https://github.com/RaRe-Technologies/smart_open/blob/master/README.rst#migrating-to-the-new-open-function\n",
            "  'See the migration notes for details: %s' % _MIGRATION_NOTES_URL\n"
          ],
          "name": "stderr"
        },
        {
          "output_type": "stream",
          "text": [
            "[('perangkat', 0.675995409488678), ('laptop', 0.6660703420639038), ('komputasi', 0.6628507375717163), ('mikroprosesor', 0.6442168951034546), ('aplikasi', 0.6268411874771118), ('mainframe', 0.6198387742042542), ('cpu', 0.6057302951812744), ('nirkabel', 0.6046115756034851), ('peranti', 0.600152850151062), ('mikrokomputer', 0.5988426804542542)]\n"
          ],
          "name": "stdout"
        },
        {
          "output_type": "stream",
          "text": [
            "/usr/local/lib/python3.6/dist-packages/gensim/matutils.py:737: FutureWarning: Conversion of the second argument of issubdtype from `int` to `np.signedinteger` is deprecated. In future, it will be treated as `np.int64 == np.dtype(int).type`.\n",
            "  if np.issubdtype(vec.dtype, np.int):\n"
          ],
          "name": "stderr"
        }
      ]
    },
    {
      "cell_type": "code",
      "metadata": {
        "id": "qyt3mioX6xxK",
        "colab_type": "code",
        "colab": {
          "base_uri": "https://localhost:8080/",
          "height": 129
        },
        "outputId": "31e1c351-0d5f-4392-b4fd-4609b1387016"
      },
      "source": [
        "!pip install PySastrawi\n",
        "from Sastrawi.Stemmer.StemmerFactory import StemmerFactory\n",
        "\n",
        "factory = StemmerFactory()\n",
        "stemmer = factory.create_stemmer()"
      ],
      "execution_count": null,
      "outputs": [
        {
          "output_type": "stream",
          "text": [
            "Collecting PySastrawi\n",
            "\u001b[?25l  Downloading https://files.pythonhosted.org/packages/61/84/b0a5454a040f81e81e6a95a5d5635f20ad43cc0c288f8b4966b339084962/PySastrawi-1.2.0-py2.py3-none-any.whl (210kB)\n",
            "\r\u001b[K     |█▋                              | 10kB 13.0MB/s eta 0:00:01\r\u001b[K     |███▏                            | 20kB 1.8MB/s eta 0:00:01\r\u001b[K     |████▊                           | 30kB 2.3MB/s eta 0:00:01\r\u001b[K     |██████▎                         | 40kB 2.5MB/s eta 0:00:01\r\u001b[K     |███████▉                        | 51kB 2.0MB/s eta 0:00:01\r\u001b[K     |█████████▍                      | 61kB 2.2MB/s eta 0:00:01\r\u001b[K     |███████████                     | 71kB 2.5MB/s eta 0:00:01\r\u001b[K     |████████████▌                   | 81kB 2.7MB/s eta 0:00:01\r\u001b[K     |██████████████                  | 92kB 2.8MB/s eta 0:00:01\r\u001b[K     |███████████████▋                | 102kB 2.9MB/s eta 0:00:01\r\u001b[K     |█████████████████▏              | 112kB 2.9MB/s eta 0:00:01\r\u001b[K     |██████████████████▊             | 122kB 2.9MB/s eta 0:00:01\r\u001b[K     |████████████████████▎           | 133kB 2.9MB/s eta 0:00:01\r\u001b[K     |█████████████████████▉          | 143kB 2.9MB/s eta 0:00:01\r\u001b[K     |███████████████████████▍        | 153kB 2.9MB/s eta 0:00:01\r\u001b[K     |█████████████████████████       | 163kB 2.9MB/s eta 0:00:01\r\u001b[K     |██████████████████████████▌     | 174kB 2.9MB/s eta 0:00:01\r\u001b[K     |████████████████████████████    | 184kB 2.9MB/s eta 0:00:01\r\u001b[K     |█████████████████████████████▋  | 194kB 2.9MB/s eta 0:00:01\r\u001b[K     |███████████████████████████████▏| 204kB 2.9MB/s eta 0:00:01\r\u001b[K     |████████████████████████████████| 215kB 2.9MB/s \n",
            "\u001b[?25hInstalling collected packages: PySastrawi\n",
            "Successfully installed PySastrawi-1.2.0\n"
          ],
          "name": "stdout"
        }
      ]
    },
    {
      "cell_type": "code",
      "metadata": {
        "id": "E1tXSxvr6y4J",
        "colab_type": "code",
        "colab": {}
      },
      "source": [
        "idx2word_set = set(id_w2v.wv.index2word)"
      ],
      "execution_count": null,
      "outputs": []
    },
    {
      "cell_type": "code",
      "metadata": {
        "id": "v7icBnfU64Uu",
        "colab_type": "code",
        "colab": {}
      },
      "source": [
        "embed_size = 200\n",
        "\n",
        "total_known_words = 0\n",
        "total_unknown_words = 0\n",
        "dict_known_words = {}\n",
        "dict_unknown_words = {}\n",
        "\n",
        "word_index = tokenizer.word_index\n",
        "embedding_matrix = np.zeros((max_features,embed_size))\n",
        "unknown_vector = np.zeros((embed_size,))-1"
      ],
      "execution_count": null,
      "outputs": []
    },
    {
      "cell_type": "code",
      "metadata": {
        "id": "vzm3Je2N66Nn",
        "colab_type": "code",
        "colab": {
          "base_uri": "https://localhost:8080/",
          "height": 129
        },
        "outputId": "162951d0-9b09-4715-9f2d-0ef64a688ba8"
      },
      "source": [
        "for word,idx in word_index.items():\n",
        "  w = word\n",
        "  if w in idx2word_set:\n",
        "    embedding_matrix[idx] = id_w2v[w]    \n",
        "    total_known_words += 1\n",
        "    continue\n",
        "  \n",
        "  w = stemmer.stem(w)\n",
        "  if w in idx2word_set:\n",
        "    embedding_matrix[idx] = id_w2v[w]    \n",
        "    total_known_words += 1\n",
        "    continue\n",
        "  \n",
        "  embedding_matrix[idx] = unknown_vector\n",
        "print(total_known_words)"
      ],
      "execution_count": null,
      "outputs": [
        {
          "output_type": "stream",
          "text": [
            "992\n"
          ],
          "name": "stdout"
        },
        {
          "output_type": "stream",
          "text": [
            "/usr/local/lib/python3.6/dist-packages/ipykernel_launcher.py:4: DeprecationWarning: Call to deprecated `__getitem__` (Method will be removed in 4.0.0, use self.wv.__getitem__() instead).\n",
            "  after removing the cwd from sys.path.\n",
            "/usr/local/lib/python3.6/dist-packages/ipykernel_launcher.py:10: DeprecationWarning: Call to deprecated `__getitem__` (Method will be removed in 4.0.0, use self.wv.__getitem__() instead).\n",
            "  # Remove the CWD from sys.path while we load stuff.\n"
          ],
          "name": "stderr"
        }
      ]
    },
    {
      "cell_type": "markdown",
      "metadata": {
        "id": "eIDhPX1r3gh8",
        "colab_type": "text"
      },
      "source": [
        "## Bagian 3: Training Model"
      ]
    },
    {
      "cell_type": "code",
      "metadata": {
        "id": "XGuvjeEk7Mbn",
        "colab_type": "code",
        "colab": {}
      },
      "source": [
        "def manhattan_distance(left,right):\n",
        "  return K.exp(-K.sum(K.abs(left-right), axis=1, keepdims=True))\n",
        "\n",
        "def get_model():\n",
        "  input_left = Input(shape=(max_len,), dtype='int32')\n",
        "  input_right = Input(shape=(max_len,), dtype='int32')\n",
        "  embedding = Embedding(max_features, embed_size, weights=[embedding_matrix], input_length=max_len)  \n",
        "  encoded_left = embedding(input_left)\n",
        "  encoded_right = embedding(input_right)\n",
        "  bilstm = LSTM(50, return_sequences=True,kernel_regularizer=l2(0.01))\n",
        "  left_bi = bilstm(encoded_left)\n",
        "  right_bi = bilstm(encoded_right)\n",
        "  siamese_lstm = Bidirectional(LSTM(50, kernel_regularizer=l2(0.01)))\n",
        "  left_output = siamese_lstm(left_bi)\n",
        "  right_output = siamese_lstm(right_bi)  \n",
        "  malstm_distance = Lambda(function=lambda x: manhattan_distance(x[0],x[1]), output_shape=lambda x:(x[0][0], 1))([left_output,right_output])  \n",
        "  model = Model([input_left, input_right], [malstm_distance])  \n",
        "  optimizer = Adam(learning_rate=0.001)  \n",
        "  model.compile(loss='mean_squared_error', optimizer=optimizer, metrics=['mae',RootMeanSquaredError(name='rmse')])\n",
        "  return model"
      ],
      "execution_count": null,
      "outputs": []
    },
    {
      "cell_type": "code",
      "metadata": {
        "id": "qBS3Nt0h7PUB",
        "colab_type": "code",
        "colab": {
          "base_uri": "https://localhost:8080/",
          "height": 1000
        },
        "outputId": "209feadc-b9ab-4fd9-ad39-bcf60ec6fed0"
      },
      "source": [
        "model = get_model()\n",
        "model_trained = model.fit([X_l_t,X_r_t],Y_train1,batch_size=32,epochs=25,validation_data=([X_l_te,X_r_te],Y_test1))"
      ],
      "execution_count": null,
      "outputs": [
        {
          "output_type": "stream",
          "text": [
            "/usr/local/lib/python3.6/dist-packages/tensorflow/python/framework/indexed_slices.py:434: UserWarning: Converting sparse IndexedSlices to a dense Tensor of unknown shape. This may consume a large amount of memory.\n",
            "  \"Converting sparse IndexedSlices to a dense Tensor of unknown shape. \"\n"
          ],
          "name": "stderr"
        },
        {
          "output_type": "stream",
          "text": [
            "Train on 140 samples, validate on 80 samples\n",
            "Epoch 1/25\n",
            "140/140 [==============================] - 5s 33ms/step - loss: 4.1657 - mae: 0.7749 - rmse: 0.8020 - val_loss: 3.6155 - val_mae: 0.4765 - val_rmse: 0.5326\n",
            "Epoch 2/25\n",
            "140/140 [==============================] - 1s 10ms/step - loss: 3.7238 - mae: 0.6591 - rmse: 0.6981 - val_loss: 3.2621 - val_mae: 0.3850 - val_rmse: 0.4485\n",
            "Epoch 3/25\n",
            "140/140 [==============================] - 1s 10ms/step - loss: 3.3152 - mae: 0.5299 - rmse: 0.5820 - val_loss: 2.9555 - val_mae: 0.3001 - val_rmse: 0.3697\n",
            "Epoch 4/25\n",
            "140/140 [==============================] - 1s 10ms/step - loss: 2.9694 - mae: 0.4150 - rmse: 0.4781 - val_loss: 2.6910 - val_mae: 0.2461 - val_rmse: 0.3108\n",
            "Epoch 5/25\n",
            "140/140 [==============================] - 1s 10ms/step - loss: 2.6768 - mae: 0.3293 - rmse: 0.3949 - val_loss: 2.4555 - val_mae: 0.2030 - val_rmse: 0.2698\n",
            "Epoch 6/25\n",
            "140/140 [==============================] - 1s 10ms/step - loss: 2.4252 - mae: 0.2684 - rmse: 0.3346 - val_loss: 2.2446 - val_mae: 0.1822 - val_rmse: 0.2486\n",
            "Epoch 7/25\n",
            "140/140 [==============================] - 1s 10ms/step - loss: 2.2029 - mae: 0.2256 - rmse: 0.2925 - val_loss: 2.0524 - val_mae: 0.1722 - val_rmse: 0.2403\n",
            "Epoch 8/25\n",
            "140/140 [==============================] - 1s 10ms/step - loss: 2.0011 - mae: 0.1960 - rmse: 0.2605 - val_loss: 1.8756 - val_mae: 0.1724 - val_rmse: 0.2393\n",
            "Epoch 9/25\n",
            "140/140 [==============================] - 1s 10ms/step - loss: 1.8174 - mae: 0.1753 - rmse: 0.2371 - val_loss: 1.7116 - val_mae: 0.1728 - val_rmse: 0.2391\n",
            "Epoch 10/25\n",
            "140/140 [==============================] - 1s 10ms/step - loss: 1.6487 - mae: 0.1584 - rmse: 0.2172 - val_loss: 1.5603 - val_mae: 0.1741 - val_rmse: 0.2395\n",
            "Epoch 11/25\n",
            "140/140 [==============================] - 1s 10ms/step - loss: 1.4935 - mae: 0.1470 - rmse: 0.1981 - val_loss: 1.4214 - val_mae: 0.1748 - val_rmse: 0.2398\n",
            "Epoch 12/25\n",
            "140/140 [==============================] - 1s 10ms/step - loss: 1.3527 - mae: 0.1372 - rmse: 0.1821 - val_loss: 1.2941 - val_mae: 0.1754 - val_rmse: 0.2391\n",
            "Epoch 13/25\n",
            "140/140 [==============================] - 1s 10ms/step - loss: 1.2258 - mae: 0.1319 - rmse: 0.1722 - val_loss: 1.1761 - val_mae: 0.1737 - val_rmse: 0.2357\n",
            "Epoch 14/25\n",
            "140/140 [==============================] - 1s 10ms/step - loss: 1.1083 - mae: 0.1229 - rmse: 0.1580 - val_loss: 1.0700 - val_mae: 0.1751 - val_rmse: 0.2359\n",
            "Epoch 15/25\n",
            "140/140 [==============================] - 1s 10ms/step - loss: 1.0026 - mae: 0.1172 - rmse: 0.1488 - val_loss: 0.9730 - val_mae: 0.1737 - val_rmse: 0.2353\n",
            "Epoch 16/25\n",
            "140/140 [==============================] - 1s 10ms/step - loss: 0.9072 - mae: 0.1142 - rmse: 0.1427 - val_loss: 0.8836 - val_mae: 0.1723 - val_rmse: 0.2321\n",
            "Epoch 17/25\n",
            "140/140 [==============================] - 1s 10ms/step - loss: 0.8204 - mae: 0.1102 - rmse: 0.1365 - val_loss: 0.8047 - val_mae: 0.1741 - val_rmse: 0.2339\n",
            "Epoch 18/25\n",
            "140/140 [==============================] - 1s 10ms/step - loss: 0.7415 - mae: 0.1048 - rmse: 0.1302 - val_loss: 0.7320 - val_mae: 0.1742 - val_rmse: 0.2336\n",
            "Epoch 19/25\n",
            "140/140 [==============================] - 1s 10ms/step - loss: 0.6701 - mae: 0.1018 - rmse: 0.1252 - val_loss: 0.6665 - val_mae: 0.1750 - val_rmse: 0.2339\n",
            "Epoch 20/25\n",
            "140/140 [==============================] - 1s 11ms/step - loss: 0.6053 - mae: 0.0973 - rmse: 0.1198 - val_loss: 0.6080 - val_mae: 0.1773 - val_rmse: 0.2356\n",
            "Epoch 21/25\n",
            "140/140 [==============================] - 1s 10ms/step - loss: 0.5477 - mae: 0.0968 - rmse: 0.1185 - val_loss: 0.5532 - val_mae: 0.1755 - val_rmse: 0.2329\n",
            "Epoch 22/25\n",
            "140/140 [==============================] - 1s 10ms/step - loss: 0.4961 - mae: 0.0964 - rmse: 0.1183 - val_loss: 0.5051 - val_mae: 0.1754 - val_rmse: 0.2330\n",
            "Epoch 23/25\n",
            "140/140 [==============================] - 1s 10ms/step - loss: 0.4497 - mae: 0.0946 - rmse: 0.1187 - val_loss: 0.4615 - val_mae: 0.1754 - val_rmse: 0.2326\n",
            "Epoch 24/25\n",
            "140/140 [==============================] - 1s 10ms/step - loss: 0.4067 - mae: 0.0916 - rmse: 0.1141 - val_loss: 0.4224 - val_mae: 0.1757 - val_rmse: 0.2329\n",
            "Epoch 25/25\n",
            "140/140 [==============================] - 1s 10ms/step - loss: 0.3672 - mae: 0.0865 - rmse: 0.1077 - val_loss: 0.3867 - val_mae: 0.1753 - val_rmse: 0.2327\n"
          ],
          "name": "stdout"
        }
      ]
    },
    {
      "cell_type": "code",
      "metadata": {
        "id": "a07zgXRyiYlw",
        "colab_type": "code",
        "colab": {}
      },
      "source": [
        "import matplotlib.pyplot as plt"
      ],
      "execution_count": null,
      "outputs": []
    },
    {
      "cell_type": "code",
      "metadata": {
        "id": "sNj6jyPx7YT9",
        "colab_type": "code",
        "colab": {
          "base_uri": "https://localhost:8080/",
          "height": 851
        },
        "outputId": "ab879fb5-7830-490b-b1db-782fe2dfecb4"
      },
      "source": [
        "plt.plot(model_trained.history['mae'])\n",
        "plt.plot(model_trained.history['val_mae'])\n",
        "plt.title('Model Accuracy')\n",
        "plt.ylabel('Mean Absolute Error')\n",
        "plt.xlabel('Epoch')\n",
        "plt.legend(['Train', 'Test'], loc='upper left')\n",
        "plt.show()\n",
        "\n",
        "plt.plot(model_trained.history['rmse'])\n",
        "plt.plot(model_trained.history['val_rmse'])\n",
        "plt.title('Model Error')\n",
        "plt.ylabel('Root Mean Squared Error')\n",
        "plt.xlabel('Epoch')\n",
        "plt.legend(['Training', 'Testing'], loc='upper left')\n",
        "plt.show()\n",
        "\n",
        "plt.plot(model_trained.history['loss'])\n",
        "plt.plot(model_trained.history['val_loss'])\n",
        "plt.title('Model Loss')\n",
        "plt.ylabel('Loss')\n",
        "plt.xlabel('Epoch')\n",
        "plt.legend(['Train', 'Test'], loc='upper left')\n",
        "plt.show()"
      ],
      "execution_count": null,
      "outputs": [
        {
          "output_type": "display_data",
          "data": {
            "image/png": "[encoded data removed]",
            "text/plain": [
              "<Figure size 432x288 with 1 Axes>"
            ]
          },
          "metadata": {
            "tags": [],
            "needs_background": "light"
          }
        },
        {
          "output_type": "display_data",
          "data": {
            "image/png": "[encoded data removed]",
            "text/plain": [
              "<Figure size 432x288 with 1 Axes>"
            ]
          },
          "metadata": {
            "tags": [],
            "needs_background": "light"
          }
        },
        {
          "output_type": "display_data",
          "data": {
            "image/png": "[encoded data removed]",
            "text/plain": [
              "<Figure size 432x288 with 1 Axes>"
            ]
          },
          "metadata": {
            "tags": [],
            "needs_background": "light"
          }
        }
      ]
    },
    {
      "cell_type": "code",
      "metadata": {
        "id": "jD0FW2pZB9ZU",
        "colab_type": "code",
        "colab": {}
      },
      "source": [
        "def get_scores(y_test,output,scale):\n",
        "  test_human_rater = []\n",
        "  test_scores = []\n",
        "  collect = []\n",
        "  collect_s = []\n",
        "  count = 0\n",
        "  for i in range(len(y_test)):\n",
        "    count += 1\n",
        "    collect_s.append(output[i])\n",
        "    collect.append(y_test[i])\n",
        "    if count % 4 == 0:\n",
        "      score = np.mean(collect)    \n",
        "      score_s = np.round(np.mean(collect_s)*scale)\n",
        "      test_human_rater.append(score)\n",
        "      test_scores.append(score_s)\n",
        "      collect = []\n",
        "      collect_s = []\n",
        "\n",
        "  dataf = {'Human Rater':test_human_rater, 'Model':test_scores}\n",
        "  table = pd.DataFrame(dataf)\n",
        "  return table"
      ],
      "execution_count": null,
      "outputs": []
    },
    {
      "cell_type": "code",
      "metadata": {
        "id": "gyUAR4uIFfaH",
        "colab_type": "code",
        "colab": {
          "base_uri": "https://localhost:8080/",
          "height": 403
        },
        "outputId": "83ac8b92-697a-4a59-9ddd-db965ac4e7e4"
      },
      "source": [
        "model_output = model.predict([X_l_te, X_r_te])\n",
        "model1_scores = get_scores(Y_test,model_output,100)\n",
        "print(model1_scores)"
      ],
      "execution_count": null,
      "outputs": [
        {
          "output_type": "stream",
          "text": [
            "    Human Rater  Model\n",
            "0          55.0   69.0\n",
            "1          50.0   67.0\n",
            "2          47.5   66.0\n",
            "3          52.5   77.0\n",
            "4          80.0   72.0\n",
            "5          35.0   70.0\n",
            "6          50.0   71.0\n",
            "7          52.5   63.0\n",
            "8          27.5   46.0\n",
            "9          77.5   84.0\n",
            "10         17.5   45.0\n",
            "11         75.0   67.0\n",
            "12         62.5   73.0\n",
            "13         35.0   48.0\n",
            "14         92.5   74.0\n",
            "15         75.0   79.0\n",
            "16         65.0   73.0\n",
            "17         67.5   71.0\n",
            "18         82.5   88.0\n",
            "19         82.5   79.0\n"
          ],
          "name": "stdout"
        }
      ]
    },
    {
      "cell_type": "code",
      "metadata": {
        "id": "CuAtwEt4E7T0",
        "colab_type": "code",
        "colab": {
          "base_uri": "https://localhost:8080/",
          "height": 678
        },
        "outputId": "9e8f6ff2-3107-4f00-c735-82354403f051"
      },
      "source": [
        "model1_train_output = model.predict([X_l_t, X_r_t])\n",
        "model1_train_scores = get_scores(Y,model1_train_output,100)\n",
        "print(model1_train_scores)"
      ],
      "execution_count": null,
      "outputs": [
        {
          "output_type": "stream",
          "text": [
            "    Human Rater  Model\n",
            "0         92.50   92.0\n",
            "1         92.50   94.0\n",
            "2         77.50   80.0\n",
            "3         89.75   86.0\n",
            "4         87.50   86.0\n",
            "5         97.50   96.0\n",
            "6         90.00   91.0\n",
            "7         90.00   92.0\n",
            "8         85.00   89.0\n",
            "9         77.50   76.0\n",
            "10        85.00   84.0\n",
            "11        67.50   70.0\n",
            "12        92.50   92.0\n",
            "13        92.50   91.0\n",
            "14        87.50   86.0\n",
            "15        95.00   93.0\n",
            "16        92.50   94.0\n",
            "17        77.50   83.0\n",
            "18        87.50   87.0\n",
            "19        95.00   93.0\n",
            "20        92.50   88.0\n",
            "21        80.00   79.0\n",
            "22        82.50   87.0\n",
            "23        77.50   79.0\n",
            "24        80.00   79.0\n",
            "25        82.50   79.0\n",
            "26        80.00   78.0\n",
            "27        75.00   72.0\n",
            "28        90.00   89.0\n",
            "29        75.00   75.0\n",
            "30        50.00   54.0\n",
            "31        87.50   87.0\n",
            "32        80.00   78.0\n",
            "33        87.50   89.0\n",
            "34        90.00   91.0\n"
          ],
          "name": "stdout"
        }
      ]
    },
    {
      "cell_type": "code",
      "metadata": {
        "id": "CUh-jBSUeiJH",
        "colab_type": "code",
        "colab": {}
      },
      "source": [
        "def export_csv(score,output,fname):\n",
        "  f = '/content/drive/My Drive/KP-SEMINAR-SKRIPSI/SKRIPSI/Program/Output/baru/'+fname\n",
        "  tab = {'true':score,'prediction':output}\n",
        "  dft = pd.DataFrame(tab)\n",
        "  dft.to_csv(f,index=False,header=True)"
      ],
      "execution_count": null,
      "outputs": []
    },
    {
      "cell_type": "code",
      "metadata": {
        "id": "iZ9RvNJ2ekHE",
        "colab_type": "code",
        "colab": {}
      },
      "source": [
        "export_csv(Y_test1,model_output.flatten(),'skenario6_testing_32_75.csv')\n",
        "export_csv(Y_train1,model1_train_output.flatten(),'skenario6_training_32_75.csv')\n",
        "# export_csv(Y_test1,model2_output.flatten(),'skenario4_testing_tanpaw2v.csv')\n",
        "# export_csv(Y_train1,model2_train_output.flatten(),'skenario4_training_tanpaw2v.csv')"
      ],
      "execution_count": null,
      "outputs": []
    }
  ]
}