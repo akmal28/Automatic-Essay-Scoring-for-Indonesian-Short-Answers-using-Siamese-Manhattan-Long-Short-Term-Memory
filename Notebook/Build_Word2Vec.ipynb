{
  "nbformat": 4,
  "nbformat_minor": 0,
  "metadata": {
    "colab": {
      "name": "Build_Word2Vec.ipynb",
      "provenance": []
    },
    "kernelspec": {
      "name": "python3",
      "display_name": "Python 3"
    }
  },
  "cells": [
    {
      "cell_type": "code",
      "metadata": {
        "id": "hbtCaHpNg3as",
        "colab_type": "code",
        "colab": {}
      },
      "source": [
        "import gensim\n",
        "import pandas as pd\n",
        "import numpy as np\n",
        "import requests\n",
        "import re\n",
        "import argparse\n",
        "import sys\n",
        "import os.path\n",
        "import multiprocessing\n",
        "!pip install docx2txt\n",
        "import docx2txt"
      ],
      "execution_count": null,
      "outputs": []
    },
    {
      "cell_type": "code",
      "metadata": {
        "id": "uEpO3OWmpRBm",
        "colab_type": "code",
        "colab": {}
      },
      "source": [
        "def download(link, file_name):\n",
        "    with open(file_name, \"wb\") as f:\n",
        "        print(\"Downloading %s\" % file_name)\n",
        "        response = requests.get(link, stream=True)\n",
        "        total_length = response.headers.get('content-length')\n",
        "\n",
        "        if total_length is None: # no content length header\n",
        "            f.write(response.content)\n",
        "        else:\n",
        "            dl = 0\n",
        "            total_length = int(total_length)\n",
        "            for data in response.iter_content(chunk_size=4096):\n",
        "                dl += len(data)\n",
        "                f.write(data)\n",
        "                done = int(50 * dl / total_length)\n",
        "                sys.stdout.write(\"\\r[%s%s]\" % ('=' * done, ' ' * (50-done)) )\n",
        "                sys.stdout.flush()\n",
        "\n",
        "def get_id_wiki(dump_path):\n",
        "    if not os.path.isfile(dump_path):\n",
        "        url = 'https://dumps.wikimedia.org/idwiki/latest/idwiki-latest-pages-articles.xml.bz2'\n",
        "        download(url, dump_path)\n",
        "    return gensim.corpora.WikiCorpus(dump_path, lemmatize=False, dictionary={})"
      ],
      "execution_count": null,
      "outputs": []
    },
    {
      "cell_type": "code",
      "metadata": {
        "id": "IQWbyx36pXKh",
        "colab_type": "code",
        "colab": {}
      },
      "source": [
        "dump_path = '/content/drive/My Drive/KP-SEMINAR-SKRIPSI/SKRIPSI/Program/Dataset/wikipedia_corpus/idwiki-latest-pages-articles.xml.bz2'\n",
        "id_wiki = get_id_wiki(dump_path)"
      ],
      "execution_count": null,
      "outputs": []
    },
    {
      "cell_type": "code",
      "metadata": {
        "id": "7bvslsVa9Y8r",
        "colab_type": "code",
        "colab": {}
      },
      "source": [
        "dim = 200\n",
        "model_path = '/content/drive/My Drive/KP-SEMINAR-SKRIPSI/SKRIPSI/Program/Dataset/word2vec_models/idwiki_word2vec_plus_{}.model'.format(dim)\n",
        "extracted_path = '/content/drive/My Drive/KP-SEMINAR-SKRIPSI/SKRIPSI/Program/Dataset/wikipedia_corpus/idiwikiplus.txt'"
      ],
      "execution_count": null,
      "outputs": []
    },
    {
      "cell_type": "code",
      "metadata": {
        "id": "snCtLaI49kNM",
        "colab_type": "code",
        "colab": {
          "base_uri": "https://localhost:8080/",
          "height": 90
        },
        "outputId": "9e51aaed-66fd-4f73-afb6-21a2201f7c5b"
      },
      "source": [
        "with open(extracted_path, 'w') as f:\n",
        "  i_wiki = 0\n",
        "  word_wiki = 0\n",
        "  for text in id_wiki.get_texts():\n",
        "    text = \" \".join(text)\n",
        "    f.write(text+'\\n')\n",
        "    i_wiki += 1\n",
        "    word_wiki += len(text.split())\n",
        "\n",
        "  print(\"Number of wikipedia texts: \",i_wiki)\n",
        "  print(\"Number of wikipedia words: \",word_wiki)"
      ],
      "execution_count": null,
      "outputs": [
        {
          "output_type": "stream",
          "text": [
            "Number of answers texts:  228\n",
            "Number of answers words:  9853\n",
            "Number of wikipedia texts:  394945\n",
            "Number of wikipedia words:  108103162\n"
          ],
          "name": "stdout"
        }
      ]
    },
    {
      "cell_type": "code",
      "metadata": {
        "id": "UyJ_wZE_E5rt",
        "colab_type": "code",
        "colab": {}
      },
      "source": [
        "def get_w2v_model(extracted_path, model_path, dim):\n",
        "  sentences = gensim.models.word2vec.LineSentence(extracted_path)\n",
        "  id_w2v = gensim.models.word2vec.Word2Vec(sentences, size=dim, workers=multiprocessing.cpu_count()-1)\n",
        "  id_w2v.save(model_path)\n",
        "  return id_w2v"
      ],
      "execution_count": null,
      "outputs": []
    },
    {
      "cell_type": "code",
      "metadata": {
        "id": "df6fniC3Fp-9",
        "colab_type": "code",
        "colab": {
          "base_uri": "https://localhost:8080/",
          "height": 110
        },
        "outputId": "87fa1e45-9f15-4c5c-8f83-87eb108ba916"
      },
      "source": [
        "print(\"Building Word2Vec model..\")\n",
        "model = get_w2v_model(extracted_path, model_path, dim)\n",
        "print(\"Save model: \", model_path)"
      ],
      "execution_count": null,
      "outputs": [
        {
          "output_type": "stream",
          "text": [
            "Building Word2Vec model..\n"
          ],
          "name": "stdout"
        },
        {
          "output_type": "stream",
          "text": [
            "/usr/local/lib/python3.6/dist-packages/smart_open/smart_open_lib.py:253: UserWarning: This function is deprecated, use smart_open.open instead. See the migration notes for details: https://github.com/RaRe-Technologies/smart_open/blob/master/README.rst#migrating-to-the-new-open-function\n",
            "  'See the migration notes for details: %s' % _MIGRATION_NOTES_URL\n"
          ],
          "name": "stderr"
        },
        {
          "output_type": "stream",
          "text": [
            "Save model:  /content/drive/My Drive/KP-SEMINAR-SKRIPSI/SKRIPSI/Program/Dataset/word2vec_models/idwiki_word2vec_plus_200.model\n"
          ],
          "name": "stdout"
        }
      ]
    },
    {
      "cell_type": "code",
      "metadata": {
        "id": "yJiuhzUxOsUo",
        "colab_type": "code",
        "colab": {
          "base_uri": "https://localhost:8080/",
          "height": 257
        },
        "outputId": "5597a6b4-60c5-49c7-a084-21ee0d3007e1"
      },
      "source": [
        "model.wv.most_similar('komputer')"
      ],
      "execution_count": null,
      "outputs": [
        {
          "output_type": "stream",
          "text": [
            "/usr/local/lib/python3.6/dist-packages/gensim/matutils.py:737: FutureWarning: Conversion of the second argument of issubdtype from `int` to `np.signedinteger` is deprecated. In future, it will be treated as `np.int64 == np.dtype(int).type`.\n",
            "  if np.issubdtype(vec.dtype, np.int):\n"
          ],
          "name": "stderr"
        },
        {
          "output_type": "execute_result",
          "data": {
            "text/plain": [
              "[('laptop', 0.6610198020935059),\n",
              " ('komputasi', 0.6560447812080383),\n",
              " ('mikroprosesor', 0.6463227868080139),\n",
              " ('perangkat', 0.6400968432426453),\n",
              " ('mainframe', 0.6330007314682007),\n",
              " ('aplikasi', 0.629393994808197),\n",
              " ('cpu', 0.6240232586860657),\n",
              " ('mikrokomputer', 0.6225507855415344),\n",
              " ('smartphone', 0.5999722480773926),\n",
              " ('server', 0.5995173454284668)]"
            ]
          },
          "metadata": {
            "tags": []
          },
          "execution_count": 15
        }
      ]
    },
    {
      "cell_type": "code",
      "metadata": {
        "id": "wIYNZ86EPqlF",
        "colab_type": "code",
        "colab": {}
      },
      "source": [
        "!mv /content/idiwiki.txt drive/My\\ Drive/\n",
        "!mv /content/idwiki-latest-pages-articles.xml.bz2 drive/My\\ Drive/"
      ],
      "execution_count": null,
      "outputs": []
    }
  ]
}