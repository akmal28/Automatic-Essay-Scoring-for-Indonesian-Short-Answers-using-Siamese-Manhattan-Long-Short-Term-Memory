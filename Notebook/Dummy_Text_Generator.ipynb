{
  "nbformat": 4,
  "nbformat_minor": 0,
  "metadata": {
    "colab": {
      "name": "Dummy Text Generator.ipynb",
      "provenance": []
    },
    "kernelspec": {
      "name": "python3",
      "display_name": "Python 3"
    }
  },
  "cells": [
    {
      "cell_type": "code",
      "metadata": {
        "id": "ox7qmafvV1wy",
        "colab_type": "code",
        "colab": {
          "base_uri": "https://localhost:8080/",
          "height": 182
        },
        "outputId": "d1190d89-c669-4aa6-c0da-31af703c8380"
      },
      "source": [
        "import numpy as np\n",
        "import pandas as pd\n",
        "from gensim.models import KeyedVectors, Word2Vec\n",
        "import os\n",
        "import re\n",
        "import random\n",
        "!pip install docx2txt\n",
        "import docx2txt"
      ],
      "execution_count": null,
      "outputs": [
        {
          "output_type": "stream",
          "text": [
            "Collecting docx2txt\n",
            "  Downloading https://files.pythonhosted.org/packages/7d/7d/60ee3f2b16d9bfdfa72e8599470a2c1a5b759cb113c6fe1006be28359327/docx2txt-0.8.tar.gz\n",
            "Building wheels for collected packages: docx2txt\n",
            "  Building wheel for docx2txt (setup.py) ... \u001b[?25l\u001b[?25hdone\n",
            "  Created wheel for docx2txt: filename=docx2txt-0.8-cp36-none-any.whl size=3963 sha256=a8c7e08409f6e02893580553b0aa374e92a326c7a0e67542d024889fef98576d\n",
            "  Stored in directory: /root/.cache/pip/wheels/b2/1f/26/a051209bbb77fc6bcfae2bb7e01fa0ff941b82292ab084d596\n",
            "Successfully built docx2txt\n",
            "Installing collected packages: docx2txt\n",
            "Successfully installed docx2txt-0.8\n"
          ],
          "name": "stdout"
        }
      ]
    },
    {
      "cell_type": "code",
      "metadata": {
        "id": "yK2yzAq3WTxP",
        "colab_type": "code",
        "colab": {}
      },
      "source": [
        "#Ubah direktori sesuai lokasi penyimpanan dataset\n",
        "DIR_DATA_MHS = '/content/drive/My Drive/KP-SEMINAR-SKRIPSI/SKRIPSI/Program/Dataset/jawaban_mahasiswa/'\n",
        "DIR_DATA_DSN = '/content/drive/My Drive/KP-SEMINAR-SKRIPSI/SKRIPSI/Program/Dataset/jawaban_dosen/'\n",
        "DIR_W2V_MODELS = '/content/drive/My Drive/KP-SEMINAR-SKRIPSI/SKRIPSI/Program/Dataset/word2vec_models/'"
      ],
      "execution_count": null,
      "outputs": []
    },
    {
      "cell_type": "code",
      "metadata": {
        "id": "Pxkrpfi8D9AT",
        "colab_type": "code",
        "colab": {
          "base_uri": "https://localhost:8080/",
          "height": 202
        },
        "outputId": "0820a341-f1b1-4ef3-bb7a-a773b20e2eca"
      },
      "source": [
        "!pip install stop_words\n",
        "from stop_words import get_stop_words"
      ],
      "execution_count": null,
      "outputs": [
        {
          "output_type": "stream",
          "text": [
            "Collecting stop_words\n",
            "  Downloading https://files.pythonhosted.org/packages/1c/cb/d58290804b7a4c5daa42abbbe2a93c477ae53e45541b1825e86f0dfaaf63/stop-words-2018.7.23.tar.gz\n",
            "Building wheels for collected packages: stop-words\n",
            "  Building wheel for stop-words (setup.py) ... \u001b[?25l\u001b[?25hdone\n",
            "  Created wheel for stop-words: filename=stop_words-2018.7.23-cp36-none-any.whl size=32917 sha256=ed50b5aee56832787d9a4c5c07e1e32f11ed32d95d36f5fccff4068db89a2ed5\n",
            "  Stored in directory: /root/.cache/pip/wheels/75/37/6a/2b295e03bd07290f0da95c3adb9a74ba95fbc333aa8b0c7c78\n",
            "Successfully built stop-words\n",
            "Installing collected packages: stop-words\n",
            "Successfully installed stop-words-2018.7.23\n"
          ],
          "name": "stdout"
        }
      ]
    },
    {
      "cell_type": "code",
      "metadata": {
        "id": "oVMKlIJkWYtm",
        "colab_type": "code",
        "colab": {}
      },
      "source": [
        "def preprocess(text):\n",
        "  text = re.sub(\"[^A-Za-z0-9]\", \" \", text)\n",
        "  text = re.sub(\"^[0-9]\", \" \", text)\n",
        "  words = text.lower().split()\n",
        "  stop_words = get_stop_words('indonesian')\n",
        "  words = [word for word in words if not word in stop_words]\n",
        "  return words"
      ],
      "execution_count": null,
      "outputs": []
    },
    {
      "cell_type": "code",
      "metadata": {
        "id": "lihEscGRWhOa",
        "colab_type": "code",
        "colab": {
          "base_uri": "https://localhost:8080/",
          "height": 55
        },
        "outputId": "bb96f41e-3285-48a3-e966-4deb5f32f572"
      },
      "source": [
        "def get_data(dirf,fname):\n",
        "  documents = []\n",
        "  for i in range(1,5):\n",
        "    name = dirf+fname+str(i)+\".docx\"\n",
        "    text = docx2txt.process(name)\n",
        "    text = text.splitlines()\n",
        "    text = [x for x in text if x]\n",
        "    documents.append(text)\n",
        "\n",
        "  fullDocs = [documents[i][x] for i in range(len(documents)) for x in range(len(documents[i]))]\n",
        "\n",
        "  finalText = []\n",
        "  for doc in fullDocs:\n",
        "    text = preprocess(doc)\n",
        "    finalText.append(text)\n",
        "  return finalText\n",
        "\n",
        "finalText = get_data(DIR_DATA_DSN,'jwbdosen')\n",
        "print(finalText)"
      ],
      "execution_count": null,
      "outputs": [
        {
          "output_type": "stream",
          "text": [
            "[['von', 'neumann', 'komputer', 'pertama', 'menggunakan', 'konsep', 'penyimpanan', 'dimana', 'komponen', 'komponennya', 'prosesor', 'memori', 'input', 'output'], ['hibernate', 'salah', 'satu', 'proses', 'dimana', 'komputer', 'dimatikan', 'dimatikan', 'data', 'berupa', 'program', 'dijalankan', 'berada', 'ram', 'dialihkan', 'hard', 'disk', 'rom', 'data', 'hilang', 'jadi', 'dinyalakan', 'kembali', 'data', 'berupa', 'program', 'dinyalakan', 'dikembalikan', 'ram', 'rom', 'seakan', 'komputer', 'dimatikan', 'sepenuhnya'], ['server', 'host', 'menjadi', 'tempat', 'menyimpan', 'data', 'informasi', 'dituju', 'diakses', 'client', 'jaringan', 'client', 'host', 'menjadi', 'alat', 'untuk', 'mengakses', 'meminta', 'data', 'informasi', 'dikirim', 'server', 'client', 'berfungsi', 'untuk', 'mengirimkan', 'data', 'informasi', 'simpan', 'server'], ['turbo', 'boost', 'cara', 'untuk', 'meningkatkan', 'kecepatan', 'clock', 'komputer', 'menjadi', 'kecepatan', 'maksimal', 'pengolahan', 'data', 'cepat', 'kecepatan', 'dimaksud', 'kecepatan', 'pengolahan', 'transmisi', 'data', 'komputer']]\n"
          ],
          "name": "stdout"
        }
      ]
    },
    {
      "cell_type": "code",
      "metadata": {
        "id": "SLzdjw2hYhV5",
        "colab_type": "code",
        "colab": {
          "base_uri": "https://localhost:8080/",
          "height": 294
        },
        "outputId": "d0887f4d-3dbc-49a3-cf28-ae2d07bea409"
      },
      "source": [
        "w2v_model = 'idwiki_word2vec_300.model'\n",
        "id_w2v = Word2Vec.load(DIR_W2V_MODELS+w2v_model)\n",
        "id_w2v.wv.most_similar('komputer')"
      ],
      "execution_count": null,
      "outputs": [
        {
          "output_type": "stream",
          "text": [
            "/usr/local/lib/python3.6/dist-packages/smart_open/smart_open_lib.py:253: UserWarning: This function is deprecated, use smart_open.open instead. See the migration notes for details: https://github.com/RaRe-Technologies/smart_open/blob/master/README.rst#migrating-to-the-new-open-function\n",
            "  'See the migration notes for details: %s' % _MIGRATION_NOTES_URL\n",
            "/usr/local/lib/python3.6/dist-packages/gensim/matutils.py:737: FutureWarning: Conversion of the second argument of issubdtype from `int` to `np.signedinteger` is deprecated. In future, it will be treated as `np.int64 == np.dtype(int).type`.\n",
            "  if np.issubdtype(vec.dtype, np.int):\n"
          ],
          "name": "stderr"
        },
        {
          "output_type": "execute_result",
          "data": {
            "text/plain": [
              "[('mikroprosesor', 0.6062144041061401),\n",
              " ('komputasi', 0.6013833284378052),\n",
              " ('laptop', 0.6006243228912354),\n",
              " ('perangkat', 0.6002838611602783),\n",
              " ('aplikasi', 0.579538881778717),\n",
              " ('cpu', 0.5764787197113037),\n",
              " ('mainframe', 0.5717548131942749),\n",
              " ('nirkabel', 0.5690869688987732),\n",
              " ('server', 0.5684555768966675),\n",
              " ('prosesor', 0.5614745020866394)]"
            ]
          },
          "metadata": {
            "tags": []
          },
          "execution_count": 20
        }
      ]
    },
    {
      "cell_type": "code",
      "metadata": {
        "id": "Vd3lF0_CdiBY",
        "colab_type": "code",
        "colab": {}
      },
      "source": [
        "id_w2v_set = set(id_w2v.wv.index2word)"
      ],
      "execution_count": null,
      "outputs": []
    },
    {
      "cell_type": "code",
      "metadata": {
        "id": "Edq4DSoF3-x1",
        "colab_type": "code",
        "colab": {
          "base_uri": "https://localhost:8080/",
          "height": 35
        },
        "outputId": "54032bd7-8b3d-44e9-eeef-699688632b69"
      },
      "source": [
        "!pip install PySastrawi\n",
        "from Sastrawi.Stemmer.StemmerFactory import StemmerFactory\n",
        "\n",
        "factory = StemmerFactory()\n",
        "stemmer = factory.create_stemmer()"
      ],
      "execution_count": null,
      "outputs": [
        {
          "output_type": "stream",
          "text": [
            "Requirement already satisfied: PySastrawi in /usr/local/lib/python3.6/dist-packages (1.2.0)\n"
          ],
          "name": "stdout"
        }
      ]
    },
    {
      "cell_type": "code",
      "metadata": {
        "id": "iZ2EAGqta8JB",
        "colab_type": "code",
        "colab": {}
      },
      "source": [
        "def replace_words(sentences, idx):\n",
        "  dummy_text = sentences\n",
        "  for i in idx:\n",
        "    token = sentences[i]\n",
        "    if token in id_w2v_set:\n",
        "      similar_words = id_w2v.wv.most_similar(sentences[i], topn=10)\n",
        "      random_index = random.randint(0,2)\n",
        "      # similar_word = stemmer.stem(similar_words[random_index][0])  \n",
        "      similar_word = similar_words[random_index][0]            \n",
        "      dummy_text[i] = similar_word\n",
        "  return dummy_text\n",
        "\n",
        "def generate_dummy(sentences,score):\n",
        "  size = len(sentences)    \n",
        "  keywords = ['von', 'neumann', 'hibernate', 'server', 'client', 'host', 'turbo', 'boost', 'clock']\n",
        "  indexes = [i for i in range(size) if sentences[i] not in keywords]\n",
        "  num_replaced_words = round(((100-score)/100)*len(indexes))  \n",
        "  \n",
        "  if num_replaced_words == 0 or score == 100:\n",
        "    return sentences\n",
        "  elif num_replaced_words == len(indexes) or score == 0:\n",
        "    idx = [i for i in range(size)]\n",
        "    return replace_words(sentences, idx)  \n",
        "  else:\n",
        "    idx_to_replace = random.sample(indexes, num_replaced_words)    \n",
        "    dummy_text = replace_words(sentences, idx_to_replace)\n",
        "    return dummy_text \n",
        "    \n",
        "  return None,-1"
      ],
      "execution_count": null,
      "outputs": []
    },
    {
      "cell_type": "code",
      "metadata": {
        "id": "TqKJAHhaPPar",
        "colab_type": "code",
        "colab": {
          "base_uri": "https://localhost:8080/",
          "height": 55
        },
        "outputId": "ce573150-3970-49b0-d35c-e3c6226d2abc"
      },
      "source": [
        "print(finalText[0])"
      ],
      "execution_count": null,
      "outputs": [
        {
          "output_type": "stream",
          "text": [
            "['von', 'neumann', 'komputer', 'pertama', 'menggunakan', 'konsep', 'penyimpanan', 'dimana', 'komponen', 'komponennya', 'prosesor', 'memori', 'input', 'output']\n"
          ],
          "name": "stdout"
        }
      ]
    },
    {
      "cell_type": "code",
      "metadata": {
        "id": "bHlNxkYlf7D8",
        "colab_type": "code",
        "colab": {
          "base_uri": "https://localhost:8080/",
          "height": 110
        },
        "outputId": "3aef63ec-c1fc-4cb5-f8d3-986eaffde74d"
      },
      "source": [
        "txt = finalText[1]\n",
        "print(txt)\n",
        "print(generate_dummy(txt[:],90))\n",
        "\n",
        "# print(finalText[1])\n",
        "# print(generate_dummy(finalText[1][:],10))\n",
        "\n",
        "# print(finalText[2])\n",
        "# print(generate_dummy(finalText[2][:],10))\n",
        "\n",
        "# print(finalText[3])\n",
        "# print(generate_dummy(finalText[3][:],10))"
      ],
      "execution_count": null,
      "outputs": [
        {
          "output_type": "stream",
          "text": [
            "['hibernate', 'salah', 'satu', 'proses', 'dimana', 'komputer', 'dimatikan', 'dimatikan', 'data', 'berupa', 'program', 'dijalankan', 'berada', 'ram', 'dialihkan', 'hard', 'disk', 'rom', 'data', 'hilang', 'jadi', 'dinyalakan', 'kembali', 'data', 'berupa', 'program', 'dinyalakan', 'dikembalikan', 'ram', 'rom', 'seakan', 'komputer', 'dimatikan', 'sepenuhnya']\n",
            "['hibernate', 'satnya', 'satu', 'proses', 'dimana', 'komputer', 'dimatikan', 'dihilangkan', 'datanya', 'berupa', 'program', 'dijalankan', 'berada', 'ram', 'dialihkan', 'hard', 'disk', 'rom', 'data', 'hilang', 'jadi', 'dinyalakan', 'kembali', 'data', 'berupa', 'program', 'dinyalakan', 'dikembalikan', 'ram', 'rom', 'seakan', 'komputer', 'dimatikan', 'sepenuhnya']\n"
          ],
          "name": "stdout"
        },
        {
          "output_type": "stream",
          "text": [
            "/usr/local/lib/python3.6/dist-packages/gensim/matutils.py:737: FutureWarning: Conversion of the second argument of issubdtype from `int` to `np.signedinteger` is deprecated. In future, it will be treated as `np.int64 == np.dtype(int).type`.\n",
            "  if np.issubdtype(vec.dtype, np.int):\n"
          ],
          "name": "stderr"
        }
      ]
    },
    {
      "cell_type": "code",
      "metadata": {
        "id": "TRi7O1Zb7rIX",
        "colab_type": "code",
        "colab": {}
      },
      "source": [
        "scores = [100, 90, 80, 70, 60, 50, 40, 30, 20, 10, 0]\n",
        "dummy_corpus = []\n",
        "ref_corpus = []\n",
        "labels = []\n",
        "copy = 10"
      ],
      "execution_count": null,
      "outputs": []
    },
    {
      "cell_type": "code",
      "metadata": {
        "id": "vAUMzfNX9NQL",
        "colab_type": "code",
        "colab": {
          "base_uri": "https://localhost:8080/",
          "height": 110
        },
        "outputId": "93aa40b5-d76c-4bac-a359-109ef1043fd2"
      },
      "source": [
        "for i in range(copy):\n",
        "  for score in scores:\n",
        "    for j in range(len(finalText)):\n",
        "      text = finalText[j]\n",
        "      dummy = generate_dummy(text[:], score)\n",
        "      dummy_text = ' '.join(str(t) for t in dummy)\n",
        "      dummy_corpus.append(dummy_text)\n",
        "      ref = ' '.join(text)\n",
        "      ref_corpus.append(ref)\n",
        "      labels.append(score)\n",
        "\n",
        "print(len(dummy_corpus))\n",
        "print(len(ref_corpus))"
      ],
      "execution_count": null,
      "outputs": [
        {
          "output_type": "stream",
          "text": [
            "/usr/local/lib/python3.6/dist-packages/gensim/matutils.py:737: FutureWarning: Conversion of the second argument of issubdtype from `int` to `np.signedinteger` is deprecated. In future, it will be treated as `np.int64 == np.dtype(int).type`.\n",
            "  if np.issubdtype(vec.dtype, np.int):\n"
          ],
          "name": "stderr"
        },
        {
          "output_type": "stream",
          "text": [
            "440\n",
            "440\n"
          ],
          "name": "stdout"
        }
      ]
    },
    {
      "cell_type": "code",
      "metadata": {
        "id": "qKsLo_49DEgB",
        "colab_type": "code",
        "colab": {
          "base_uri": "https://localhost:8080/",
          "height": 404
        },
        "outputId": "9ea601ed-6e57-42e2-92b5-384589208803"
      },
      "source": [
        "for i in range(20):print(dummy_corpus[i])"
      ],
      "execution_count": null,
      "outputs": [
        {
          "output_type": "stream",
          "text": [
            "von neumann komputer pertama menggunakan konsep penyimpanan dimana komponen komponennya prosesor memori input output\n",
            "hibernate salah satu proses dimana komputer dimatikan dimatikan data berupa program dijalankan berada ram dialihkan hard disk rom data hilang jadi dinyalakan kembali data berupa program dinyalakan dikembalikan ram rom seakan komputer dimatikan sepenuhnya\n",
            "server host menjadi tempat menyimpan data informasi dituju diakses client jaringan client host menjadi alat untuk mengakses meminta data informasi dikirim server client berfungsi untuk mengirimkan data informasi simpan server\n",
            "turbo boost cara untuk meningkatkan kecepatan clock komputer menjadi kecepatan maksimal pengolahan data cepat kecepatan dimaksud kecepatan pengolahan transmisi data komputer\n",
            "von neumann komputer pertama menggunakan konsep penyimpanan dimana komponen komponennya cpu memori input output\n",
            "hibernate salah satu proses dimana komputer dimatikan dimatikan data berupa paket dijalankan berada ram dialihkan hard disk rom datanya hilang jadi dinyalakan kembali data berupa program dinyalakan dikembalikan ram rom seakan komputer dimatikan semuanya\n",
            "server host menjadi tempat menyimpan informasi informasi dituju diakses client jaringan client host menjadi alat untuk mengakses meminta data informasi dikirimkan server client berfungsi untuk mengirimkan data informasi simpan server\n",
            "turbo boost cara untuk meningkatkan kecepatan clock komputer menjadi kecepatan maksimal pengolahan data lamban kecepatan dimaksud kecepatan penyulingan transmisi data komputer\n",
            "von neumann komputer terakhir memakai konsep penyimpanan dimana komponen komponennya prosesor memori input output\n",
            "hibernate salah satu metode dimana komputer dinyalakan dimatikan data berupa program dijalankan berada ram dialihkan hard motherboard rom data hilang menjadi dinyalakan akhirnya data berupa program dinyalakan dikembalikan khamhaeng rom takjub komputer dimatikan sepenuhnya\n",
            "server host menjadi tempat menyimpan informasi informasi dituju diakses client jaringan client host menjadi alat agar mengakses minta data informasi dikirim server client berfungsi untuk mengirimkan informasi informasi simpan server\n",
            "turbo boost cara untuk meningkatkan kecepatan clock komputer mejadi kecepatan maksimal pengolahan datanya lambat laju dimaksud kecepatan pengolahan transmisi data komputer\n",
            "von neumann mikroprosesor pertama menggunakan konsep penyimpanan sehingga elemen komponennya mikroprosesor memori input output\n",
            "hibernate slaah satu tahap dimana komputer dimatikan dimatikan data berupa program dijalankan berada khamhaeng dikembalikan hard disk disket data hilang jadi dinyalakan akhirnya data berisi program dimatikan dikembalikan ram csma takjub komputer dimatikan sepenuhnya\n",
            "server host menjadi lokasi menyimpan datanya informasi diinginkan diakses client jaringan client host menjadi alat dan mengaksesnya meminta data data dikirim server client digunakan untuk mengirimkan data informasi simpan server\n",
            "turbo boost metode untuk menambah kecepatan clock mikroprosesor menjadi kecepatan maksimal pengolahan data cepat kecepatan dimaksud kecepatan pengolahan kabel data komputasi\n",
            "von neumann komputer kedua memakai konsep penyimpanan dimana komponennya komponen prosesor memori input input\n",
            "hibernate salah satu proses dimana komputer dinyalakan diaktifkan data berisikan paket dijalankan ditempatkan ram dialihkan hard disket firmware informasi hilang kalau menyalakan kembali data berupa progam dinyalakan dikembalikan gopal rom niscaya komputer dimatikan sepenuhnya\n",
            "server host menjadi lokasi tersimpan data informasi diinginkan diakses client jaringan client host dijadikan alat dan mengakses minta data konten mengirim server client berfungsi untuk mengirimkan informasi informasi simpan server\n",
            "turbo boost caranya agar meningkatkan kecepatannya clock komputer mejadi kecepatan optimal pengolahan data cepat kecepatan dimaksud akurasi pengolahan analog data komputer\n"
          ],
          "name": "stdout"
        }
      ]
    },
    {
      "cell_type": "code",
      "metadata": {
        "id": "qbpsiRrMlgUv",
        "colab_type": "code",
        "colab": {
          "base_uri": "https://localhost:8080/",
          "height": 384
        },
        "outputId": "fe826827-7c59-436a-9cf5-ef8c722b82d1"
      },
      "source": [
        "for i in range(20):print(labels[i])"
      ],
      "execution_count": null,
      "outputs": [
        {
          "output_type": "stream",
          "text": [
            "100\n",
            "100\n",
            "100\n",
            "100\n",
            "90\n",
            "90\n",
            "90\n",
            "90\n",
            "80\n",
            "80\n",
            "80\n",
            "80\n",
            "70\n",
            "70\n",
            "70\n",
            "70\n",
            "60\n",
            "60\n",
            "60\n",
            "60\n"
          ],
          "name": "stdout"
        }
      ]
    },
    {
      "cell_type": "code",
      "metadata": {
        "id": "H0NB90IImgNI",
        "colab_type": "code",
        "colab": {
          "base_uri": "https://localhost:8080/",
          "height": 35
        },
        "outputId": "2b0611c0-39b6-43a3-9793-c8b2f686e2f2"
      },
      "source": [
        "print(len(labels))"
      ],
      "execution_count": null,
      "outputs": [
        {
          "output_type": "stream",
          "text": [
            "440\n"
          ],
          "name": "stdout"
        }
      ]
    },
    {
      "cell_type": "code",
      "metadata": {
        "id": "0a1ZKmrnluLq",
        "colab_type": "code",
        "colab": {
          "base_uri": "https://localhost:8080/",
          "height": 164
        },
        "outputId": "a2167284-0abb-4249-b8ee-8396648e667a"
      },
      "source": [
        "table = {'jawaban_dummy':dummy_corpus,'jawaban_dosen':ref_corpus,'nilai_dummy':labels}\n",
        "df = pd.DataFrame(table)\n",
        "print(df.head())"
      ],
      "execution_count": null,
      "outputs": [
        {
          "output_type": "stream",
          "text": [
            "                                       jawaban_dummy  ... nilai_dummy\n",
            "0  von neumann komputer pertama menggunakan konse...  ...         100\n",
            "1  hibernate salah satu proses dimana komputer di...  ...         100\n",
            "2  server host menjadi tempat menyimpan data info...  ...         100\n",
            "3  turbo boost cara untuk meningkatkan kecepatan ...  ...         100\n",
            "4  von neumann komputer pertama menggunakan konse...  ...          90\n",
            "\n",
            "[5 rows x 3 columns]\n"
          ],
          "name": "stdout"
        }
      ]
    },
    {
      "cell_type": "code",
      "metadata": {
        "id": "cF3Kcv7enFBq",
        "colab_type": "code",
        "colab": {}
      },
      "source": [
        "df.to_csv (r'/content/drive/My Drive/KP-SEMINAR-SKRIPSI/SKRIPSI/Program/Dataset/dummy_dataset3.csv', index = False, header=True)"
      ],
      "execution_count": null,
      "outputs": []
    }
  ]
}